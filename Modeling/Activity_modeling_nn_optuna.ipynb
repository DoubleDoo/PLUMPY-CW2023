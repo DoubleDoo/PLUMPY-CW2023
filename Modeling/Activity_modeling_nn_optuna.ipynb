{
  "nbformat": 4,
  "nbformat_minor": 0,
  "metadata": {
    "colab": {
      "provenance": [],
      "machine_shape": "hm",
      "gpuType": "V100"
    },
    "kernelspec": {
      "name": "python3",
      "display_name": "Python 3"
    },
    "language_info": {
      "name": "python"
    },
    "accelerator": "GPU"
  },
  "cells": [
    {
      "cell_type": "code",
      "execution_count": 1,
      "metadata": {
        "colab": {
          "base_uri": "https://localhost:8080/"
        },
        "id": "CzAzBDBjeEe9",
        "outputId": "c3fed3f1-a5d4-4b32-de8b-52048858f802"
      },
      "outputs": [
        {
          "output_type": "stream",
          "name": "stdout",
          "text": [
            "Looking in indexes: https://pypi.org/simple, https://us-python.pkg.dev/colab-wheels/public/simple/\n",
            "Requirement already satisfied: optuna in /usr/local/lib/python3.10/dist-packages (3.2.0)\n",
            "Requirement already satisfied: alembic>=1.5.0 in /usr/local/lib/python3.10/dist-packages (from optuna) (1.11.1)\n",
            "Requirement already satisfied: cmaes>=0.9.1 in /usr/local/lib/python3.10/dist-packages (from optuna) (0.9.1)\n",
            "Requirement already satisfied: colorlog in /usr/local/lib/python3.10/dist-packages (from optuna) (6.7.0)\n",
            "Requirement already satisfied: numpy in /usr/local/lib/python3.10/dist-packages (from optuna) (1.22.4)\n",
            "Requirement already satisfied: packaging>=20.0 in /usr/local/lib/python3.10/dist-packages (from optuna) (23.1)\n",
            "Requirement already satisfied: sqlalchemy>=1.3.0 in /usr/local/lib/python3.10/dist-packages (from optuna) (2.0.10)\n",
            "Requirement already satisfied: tqdm in /usr/local/lib/python3.10/dist-packages (from optuna) (4.65.0)\n",
            "Requirement already satisfied: PyYAML in /usr/local/lib/python3.10/dist-packages (from optuna) (6.0)\n",
            "Requirement already satisfied: Mako in /usr/local/lib/python3.10/dist-packages (from alembic>=1.5.0->optuna) (1.2.4)\n",
            "Requirement already satisfied: typing-extensions>=4 in /usr/local/lib/python3.10/dist-packages (from alembic>=1.5.0->optuna) (4.5.0)\n",
            "Requirement already satisfied: greenlet!=0.4.17 in /usr/local/lib/python3.10/dist-packages (from sqlalchemy>=1.3.0->optuna) (2.0.2)\n",
            "Requirement already satisfied: MarkupSafe>=0.9.2 in /usr/local/lib/python3.10/dist-packages (from Mako->alembic>=1.5.0->optuna) (2.1.2)\n"
          ]
        }
      ],
      "source": [
        "!pip install optuna"
      ]
    },
    {
      "cell_type": "code",
      "source": [
        "import numpy as np\n",
        "import pandas as pd\n",
        "import seaborn as sns\n",
        "import matplotlib.pyplot as plt\n",
        "from copy import deepcopy\n",
        "\n",
        "from sklearn.model_selection import train_test_split, KFold\n",
        "from sklearn.metrics import accuracy_score, confusion_matrix, ConfusionMatrixDisplay\n",
        "\n",
        "import optuna\n",
        "\n",
        "import torch\n",
        "import torch.nn as nn\n",
        "import torch.optim as optim\n",
        "from torchsummary import summary\n",
        "from torch.utils.data import Dataset, DataLoader\n",
        "from torch.utils.mobile_optimizer import optimize_for_mobile"
      ],
      "metadata": {
        "id": "Vebf6rRveOyy"
      },
      "execution_count": 2,
      "outputs": []
    },
    {
      "cell_type": "code",
      "source": [
        "df = pd.read_csv('sample_data/final_df_activity_v2.csv')\n",
        "df"
      ],
      "metadata": {
        "colab": {
          "base_uri": "https://localhost:8080/",
          "height": 424
        },
        "id": "a0AoV5RsegCJ",
        "outputId": "d919497e-6a99-4150-9641-256e30a8090d"
      },
      "execution_count": 3,
      "outputs": [
        {
          "output_type": "execute_result",
          "data": {
            "text/plain": [
              "       gyro_x  gyro_y  gyro_z  acceleration_x  acceleration_y  acceleration_z  \\\n",
              "0         181   -3007    2892               5              -7              -2   \n",
              "1         185   -3010    2878               6              -7              -2   \n",
              "2         187   -3012    2892               6              -7              -2   \n",
              "3         186   -3009    2887               6              -7              -2   \n",
              "4         184   -3011    2888               6              -7              -2   \n",
              "...       ...     ...     ...             ...             ...             ...   \n",
              "52831   -4116   -1226     746            -174            -183              34   \n",
              "52832   -3750   -1417     789            -325             -36             -87   \n",
              "52833   -3811   -1375     806             311              90            -139   \n",
              "52834   -3775   -1227     902              19              34              62   \n",
              "52835   -3827   -1351     956              -6              23              50   \n",
              "\n",
              "       target  \n",
              "0           0  \n",
              "1           0  \n",
              "2           0  \n",
              "3           0  \n",
              "4           0  \n",
              "...       ...  \n",
              "52831       2  \n",
              "52832       2  \n",
              "52833       2  \n",
              "52834       2  \n",
              "52835       2  \n",
              "\n",
              "[52836 rows x 7 columns]"
            ],
            "text/html": [
              "\n",
              "  <div id=\"df-320e637c-b28c-44c5-b4f0-e74dbf4798fc\">\n",
              "    <div class=\"colab-df-container\">\n",
              "      <div>\n",
              "<style scoped>\n",
              "    .dataframe tbody tr th:only-of-type {\n",
              "        vertical-align: middle;\n",
              "    }\n",
              "\n",
              "    .dataframe tbody tr th {\n",
              "        vertical-align: top;\n",
              "    }\n",
              "\n",
              "    .dataframe thead th {\n",
              "        text-align: right;\n",
              "    }\n",
              "</style>\n",
              "<table border=\"1\" class=\"dataframe\">\n",
              "  <thead>\n",
              "    <tr style=\"text-align: right;\">\n",
              "      <th></th>\n",
              "      <th>gyro_x</th>\n",
              "      <th>gyro_y</th>\n",
              "      <th>gyro_z</th>\n",
              "      <th>acceleration_x</th>\n",
              "      <th>acceleration_y</th>\n",
              "      <th>acceleration_z</th>\n",
              "      <th>target</th>\n",
              "    </tr>\n",
              "  </thead>\n",
              "  <tbody>\n",
              "    <tr>\n",
              "      <th>0</th>\n",
              "      <td>181</td>\n",
              "      <td>-3007</td>\n",
              "      <td>2892</td>\n",
              "      <td>5</td>\n",
              "      <td>-7</td>\n",
              "      <td>-2</td>\n",
              "      <td>0</td>\n",
              "    </tr>\n",
              "    <tr>\n",
              "      <th>1</th>\n",
              "      <td>185</td>\n",
              "      <td>-3010</td>\n",
              "      <td>2878</td>\n",
              "      <td>6</td>\n",
              "      <td>-7</td>\n",
              "      <td>-2</td>\n",
              "      <td>0</td>\n",
              "    </tr>\n",
              "    <tr>\n",
              "      <th>2</th>\n",
              "      <td>187</td>\n",
              "      <td>-3012</td>\n",
              "      <td>2892</td>\n",
              "      <td>6</td>\n",
              "      <td>-7</td>\n",
              "      <td>-2</td>\n",
              "      <td>0</td>\n",
              "    </tr>\n",
              "    <tr>\n",
              "      <th>3</th>\n",
              "      <td>186</td>\n",
              "      <td>-3009</td>\n",
              "      <td>2887</td>\n",
              "      <td>6</td>\n",
              "      <td>-7</td>\n",
              "      <td>-2</td>\n",
              "      <td>0</td>\n",
              "    </tr>\n",
              "    <tr>\n",
              "      <th>4</th>\n",
              "      <td>184</td>\n",
              "      <td>-3011</td>\n",
              "      <td>2888</td>\n",
              "      <td>6</td>\n",
              "      <td>-7</td>\n",
              "      <td>-2</td>\n",
              "      <td>0</td>\n",
              "    </tr>\n",
              "    <tr>\n",
              "      <th>...</th>\n",
              "      <td>...</td>\n",
              "      <td>...</td>\n",
              "      <td>...</td>\n",
              "      <td>...</td>\n",
              "      <td>...</td>\n",
              "      <td>...</td>\n",
              "      <td>...</td>\n",
              "    </tr>\n",
              "    <tr>\n",
              "      <th>52831</th>\n",
              "      <td>-4116</td>\n",
              "      <td>-1226</td>\n",
              "      <td>746</td>\n",
              "      <td>-174</td>\n",
              "      <td>-183</td>\n",
              "      <td>34</td>\n",
              "      <td>2</td>\n",
              "    </tr>\n",
              "    <tr>\n",
              "      <th>52832</th>\n",
              "      <td>-3750</td>\n",
              "      <td>-1417</td>\n",
              "      <td>789</td>\n",
              "      <td>-325</td>\n",
              "      <td>-36</td>\n",
              "      <td>-87</td>\n",
              "      <td>2</td>\n",
              "    </tr>\n",
              "    <tr>\n",
              "      <th>52833</th>\n",
              "      <td>-3811</td>\n",
              "      <td>-1375</td>\n",
              "      <td>806</td>\n",
              "      <td>311</td>\n",
              "      <td>90</td>\n",
              "      <td>-139</td>\n",
              "      <td>2</td>\n",
              "    </tr>\n",
              "    <tr>\n",
              "      <th>52834</th>\n",
              "      <td>-3775</td>\n",
              "      <td>-1227</td>\n",
              "      <td>902</td>\n",
              "      <td>19</td>\n",
              "      <td>34</td>\n",
              "      <td>62</td>\n",
              "      <td>2</td>\n",
              "    </tr>\n",
              "    <tr>\n",
              "      <th>52835</th>\n",
              "      <td>-3827</td>\n",
              "      <td>-1351</td>\n",
              "      <td>956</td>\n",
              "      <td>-6</td>\n",
              "      <td>23</td>\n",
              "      <td>50</td>\n",
              "      <td>2</td>\n",
              "    </tr>\n",
              "  </tbody>\n",
              "</table>\n",
              "<p>52836 rows × 7 columns</p>\n",
              "</div>\n",
              "      <button class=\"colab-df-convert\" onclick=\"convertToInteractive('df-320e637c-b28c-44c5-b4f0-e74dbf4798fc')\"\n",
              "              title=\"Convert this dataframe to an interactive table.\"\n",
              "              style=\"display:none;\">\n",
              "        \n",
              "  <svg xmlns=\"http://www.w3.org/2000/svg\" height=\"24px\"viewBox=\"0 0 24 24\"\n",
              "       width=\"24px\">\n",
              "    <path d=\"M0 0h24v24H0V0z\" fill=\"none\"/>\n",
              "    <path d=\"M18.56 5.44l.94 2.06.94-2.06 2.06-.94-2.06-.94-.94-2.06-.94 2.06-2.06.94zm-11 1L8.5 8.5l.94-2.06 2.06-.94-2.06-.94L8.5 2.5l-.94 2.06-2.06.94zm10 10l.94 2.06.94-2.06 2.06-.94-2.06-.94-.94-2.06-.94 2.06-2.06.94z\"/><path d=\"M17.41 7.96l-1.37-1.37c-.4-.4-.92-.59-1.43-.59-.52 0-1.04.2-1.43.59L10.3 9.45l-7.72 7.72c-.78.78-.78 2.05 0 2.83L4 21.41c.39.39.9.59 1.41.59.51 0 1.02-.2 1.41-.59l7.78-7.78 2.81-2.81c.8-.78.8-2.07 0-2.86zM5.41 20L4 18.59l7.72-7.72 1.47 1.35L5.41 20z\"/>\n",
              "  </svg>\n",
              "      </button>\n",
              "      \n",
              "  <style>\n",
              "    .colab-df-container {\n",
              "      display:flex;\n",
              "      flex-wrap:wrap;\n",
              "      gap: 12px;\n",
              "    }\n",
              "\n",
              "    .colab-df-convert {\n",
              "      background-color: #E8F0FE;\n",
              "      border: none;\n",
              "      border-radius: 50%;\n",
              "      cursor: pointer;\n",
              "      display: none;\n",
              "      fill: #1967D2;\n",
              "      height: 32px;\n",
              "      padding: 0 0 0 0;\n",
              "      width: 32px;\n",
              "    }\n",
              "\n",
              "    .colab-df-convert:hover {\n",
              "      background-color: #E2EBFA;\n",
              "      box-shadow: 0px 1px 2px rgba(60, 64, 67, 0.3), 0px 1px 3px 1px rgba(60, 64, 67, 0.15);\n",
              "      fill: #174EA6;\n",
              "    }\n",
              "\n",
              "    [theme=dark] .colab-df-convert {\n",
              "      background-color: #3B4455;\n",
              "      fill: #D2E3FC;\n",
              "    }\n",
              "\n",
              "    [theme=dark] .colab-df-convert:hover {\n",
              "      background-color: #434B5C;\n",
              "      box-shadow: 0px 1px 3px 1px rgba(0, 0, 0, 0.15);\n",
              "      filter: drop-shadow(0px 1px 2px rgba(0, 0, 0, 0.3));\n",
              "      fill: #FFFFFF;\n",
              "    }\n",
              "  </style>\n",
              "\n",
              "      <script>\n",
              "        const buttonEl =\n",
              "          document.querySelector('#df-320e637c-b28c-44c5-b4f0-e74dbf4798fc button.colab-df-convert');\n",
              "        buttonEl.style.display =\n",
              "          google.colab.kernel.accessAllowed ? 'block' : 'none';\n",
              "\n",
              "        async function convertToInteractive(key) {\n",
              "          const element = document.querySelector('#df-320e637c-b28c-44c5-b4f0-e74dbf4798fc');\n",
              "          const dataTable =\n",
              "            await google.colab.kernel.invokeFunction('convertToInteractive',\n",
              "                                                     [key], {});\n",
              "          if (!dataTable) return;\n",
              "\n",
              "          const docLinkHtml = 'Like what you see? Visit the ' +\n",
              "            '<a target=\"_blank\" href=https://colab.research.google.com/notebooks/data_table.ipynb>data table notebook</a>'\n",
              "            + ' to learn more about interactive tables.';\n",
              "          element.innerHTML = '';\n",
              "          dataTable['output_type'] = 'display_data';\n",
              "          await google.colab.output.renderOutput(dataTable, element);\n",
              "          const docLink = document.createElement('div');\n",
              "          docLink.innerHTML = docLinkHtml;\n",
              "          element.appendChild(docLink);\n",
              "        }\n",
              "      </script>\n",
              "    </div>\n",
              "  </div>\n",
              "  "
            ]
          },
          "metadata": {},
          "execution_count": 3
        }
      ]
    },
    {
      "cell_type": "code",
      "source": [
        "stat_df = deepcopy(df)\n",
        "stat_df['target'] = stat_df['target'].replace([0, 1, 2], ['No activity', 'Walk', 'Run'])\n",
        "\n",
        "sns.histplot(stat_df['target'])"
      ],
      "metadata": {
        "colab": {
          "base_uri": "https://localhost:8080/",
          "height": 466
        },
        "id": "QWKzCSmdZopb",
        "outputId": "25cc7e3e-a598-4f97-8c5a-4ad6ddb60f3e"
      },
      "execution_count": 4,
      "outputs": [
        {
          "output_type": "execute_result",
          "data": {
            "text/plain": [
              "<Axes: xlabel='target', ylabel='Count'>"
            ]
          },
          "metadata": {},
          "execution_count": 4
        },
        {
          "output_type": "display_data",
          "data": {
            "text/plain": [
              "<Figure size 640x480 with 1 Axes>"
            ],
            "image/png": "[encoded data removed]"
          },
          "metadata": {}
        }
      ]
    },
    {
      "cell_type": "code",
      "source": [
        "X = df.drop(columns = ['target'])\n",
        "y = df['target']"
      ],
      "metadata": {
        "id": "7g_EjjG8e2tR"
      },
      "execution_count": 5,
      "outputs": []
    },
    {
      "cell_type": "code",
      "source": [
        "X_train, X_test, y_train, y_test = train_test_split(X, \n",
        "                                                    y, \n",
        "                                                    test_size = 0.3, \n",
        "                                                    random_state = 42, \n",
        "                                                    shuffle = True)\n",
        "\n",
        "X_train, X_val, y_train, y_val = train_test_split(X, \n",
        "                                                  y, \n",
        "                                                  test_size = 0.25,\n",
        "                                                  shuffle = True)"
      ],
      "metadata": {
        "id": "dBZCp1hre4hR"
      },
      "execution_count": 6,
      "outputs": []
    },
    {
      "cell_type": "code",
      "source": [
        "class Data(Dataset):\n",
        "  def __init__(self, X_train, y_train):\n",
        "    self.X = torch.from_numpy(X_train.astype(np.float32))\n",
        "    self.y = torch.from_numpy(y_train).type(torch.LongTensor)\n",
        "    self.len = self.X.shape[0]\n",
        "  \n",
        "  def __getitem__(self, index):\n",
        "    return self.X[index], self.y[index]\n",
        "    \n",
        "  def __len__(self):\n",
        "    return self.len"
      ],
      "metadata": {
        "id": "pWc5YY19fAAI"
      },
      "execution_count": 7,
      "outputs": []
    },
    {
      "cell_type": "code",
      "source": [
        "EPOCHS = 10\n",
        "BATCH_SIZE = 64\n",
        "DEVICE = torch.device('cuda' if torch.cuda.is_available() else 'cpu')\n",
        "criterion = nn.CrossEntropyLoss()"
      ],
      "metadata": {
        "id": "glazhqWjfACv"
      },
      "execution_count": 8,
      "outputs": []
    },
    {
      "cell_type": "code",
      "source": [
        "train_data = Data(X_train.to_numpy(), y_train.to_numpy())\n",
        "train_loader = DataLoader(train_data, batch_size = BATCH_SIZE, shuffle = True, num_workers = 2)\n",
        "test_data = Data(X_test.to_numpy(), y_test.to_numpy())\n",
        "test_loader = DataLoader(test_data, batch_size = BATCH_SIZE, shuffle = True, num_workers = 2)\n",
        "val_data = Data(X_val.to_numpy(), y_val.to_numpy())\n",
        "val_loader = DataLoader(val_data, batch_size = BATCH_SIZE, shuffle = True, num_workers = 2)"
      ],
      "metadata": {
        "id": "kcYSUYzCfwhb"
      },
      "execution_count": 9,
      "outputs": []
    },
    {
      "cell_type": "code",
      "source": [
        "print(len(train_loader))"
      ],
      "metadata": {
        "colab": {
          "base_uri": "https://localhost:8080/"
        },
        "id": "xcJ2n4dWnTvv",
        "outputId": "c6eeb28d-0589-4638-ee7a-8f993556a447"
      },
      "execution_count": 10,
      "outputs": [
        {
          "output_type": "stream",
          "name": "stdout",
          "text": [
            "620\n"
          ]
        }
      ]
    },
    {
      "cell_type": "code",
      "source": [
        "print(len(val_loader))"
      ],
      "metadata": {
        "colab": {
          "base_uri": "https://localhost:8080/"
        },
        "id": "m69OCAiLnTym",
        "outputId": "0732216e-6f8c-4300-8163-260228a177a0"
      },
      "execution_count": 11,
      "outputs": [
        {
          "output_type": "stream",
          "name": "stdout",
          "text": [
            "207\n"
          ]
        }
      ]
    },
    {
      "cell_type": "code",
      "source": [
        "N_TRAIN_EXAMPLES = BATCH_SIZE * 600\n",
        "N_VALID_EXAMPLES = BATCH_SIZE * 200"
      ],
      "metadata": {
        "id": "lqWqIiT2nbKn"
      },
      "execution_count": 12,
      "outputs": []
    },
    {
      "cell_type": "code",
      "source": [
        "def define_model(trial):\n",
        "    n_layers = trial.suggest_int(\"n_layers\", 1, 6)\n",
        "    layers = []\n",
        "    in_features = 6\n",
        "\n",
        "    for i in range(n_layers):\n",
        "        out_features = trial.suggest_int(\"n_units_l{}\".format(i), 4, 128)\n",
        "        layers.append(nn.Linear(in_features, out_features))\n",
        "        layers.append(nn.ReLU())\n",
        "        p = trial.suggest_float(\"dropout_l{}\".format(i), 0.1, 0.5)\n",
        "        layers.append(nn.Dropout(p))\n",
        "\n",
        "        in_features = out_features\n",
        "    layers.append(nn.Linear(in_features, 3))\n",
        "\n",
        "    return nn.Sequential(*layers)"
      ],
      "metadata": {
        "id": "f4LPHaHAfAFh"
      },
      "execution_count": 13,
      "outputs": []
    },
    {
      "cell_type": "code",
      "source": [
        "def objective(trial):\n",
        "    model = define_model(trial).to(DEVICE)\n",
        "\n",
        "    optimizer_name = trial.suggest_categorical(\"optimizer\", [\"Adam\", \"RMSprop\", \"SGD\"])\n",
        "    lr = trial.suggest_float(\"lr\", 1e-5, 1e-1, log = True)\n",
        "    optimizer = getattr(optim, optimizer_name)(model.parameters(), lr = lr)\n",
        "\n",
        "    for epoch in range(EPOCHS):\n",
        "        model.train()\n",
        "        for batch_idx, (data, target) in enumerate(train_loader):\n",
        "            if batch_idx * BATCH_SIZE >= N_TRAIN_EXAMPLES:\n",
        "                break\n",
        "\n",
        "            data, target = data.to(DEVICE), target.to(DEVICE)\n",
        "\n",
        "            output = model(data)\n",
        "            loss = criterion(output, target)\n",
        "\n",
        "            optimizer.zero_grad()\n",
        "            loss.backward()\n",
        "            optimizer.step()\n",
        "\n",
        "\n",
        "        model.eval()\n",
        "        correct, total = 0, 0\n",
        "        with torch.no_grad():\n",
        "            for batch_idx, (data, target) in enumerate(val_loader):\n",
        "                if batch_idx * BATCH_SIZE >= N_VALID_EXAMPLES:\n",
        "                    break\n",
        "                data, target = data.to(DEVICE), target.to(DEVICE)\n",
        "                output = model(data)\n",
        "                pred = output.argmax(dim = 1, keepdim = True)\n",
        "                correct += pred.eq(target.view_as(pred)).sum().item()\n",
        "\n",
        "        accuracy = correct / min(len(val_loader.dataset), N_VALID_EXAMPLES)\n",
        "\n",
        "        trial.report(accuracy, epoch)\n",
        "\n",
        "        if trial.should_prune():\n",
        "            raise optuna.exceptions.TrialPruned()\n",
        "\n",
        "    return accuracy"
      ],
      "metadata": {
        "id": "4RS8hN5ffAIZ"
      },
      "execution_count": 14,
      "outputs": []
    },
    {
      "cell_type": "code",
      "source": [
        "study = optuna.create_study(direction = 'maximize')\n",
        "study.optimize(objective, n_trials = 100, timeout = 600)"
      ],
      "metadata": {
        "colab": {
          "base_uri": "https://localhost:8080/"
        },
        "id": "nbwmFWbSfALJ",
        "outputId": "50569979-157a-4f4b-a7e6-d720fe679d28"
      },
      "execution_count": 15,
      "outputs": [
        {
          "output_type": "stream",
          "name": "stderr",
          "text": [
            "[I 2023-06-05 17:35:50,917] A new study created in memory with name: no-name-41ab4c56-0b96-4842-b34f-c08425f868b6\n",
            "[I 2023-06-05 17:36:21,692] Trial 0 finished with value: 0.762265625 and parameters: {'n_layers': 3, 'n_units_l0': 36, 'dropout_l0': 0.4956092086629994, 'n_units_l1': 80, 'dropout_l1': 0.4698261889690153, 'n_units_l2': 126, 'dropout_l2': 0.2296605167397816, 'optimizer': 'RMSprop', 'lr': 0.003961921959257954}. Best is trial 0 with value: 0.762265625.\n",
            "[I 2023-06-05 17:36:45,091] Trial 1 finished with value: 0.33171875 and parameters: {'n_layers': 3, 'n_units_l0': 97, 'dropout_l0': 0.20196999943993005, 'n_units_l1': 128, 'dropout_l1': 0.11375471356886586, 'n_units_l2': 34, 'dropout_l2': 0.31314838217143925, 'optimizer': 'RMSprop', 'lr': 0.01386474721901151}. Best is trial 0 with value: 0.762265625.\n",
            "[I 2023-06-05 17:37:05,895] Trial 2 finished with value: 0.738828125 and parameters: {'n_layers': 1, 'n_units_l0': 53, 'dropout_l0': 0.4171885240843385, 'optimizer': 'Adam', 'lr': 0.0033078048958978526}. Best is trial 0 with value: 0.762265625.\n",
            "[I 2023-06-05 17:37:31,342] Trial 3 finished with value: 0.3478125 and parameters: {'n_layers': 6, 'n_units_l0': 121, 'dropout_l0': 0.21281144945014013, 'n_units_l1': 21, 'dropout_l1': 0.2628704243079639, 'n_units_l2': 21, 'dropout_l2': 0.14222544773954768, 'n_units_l3': 110, 'dropout_l3': 0.23373889273323473, 'n_units_l4': 5, 'dropout_l4': 0.1732312079911809, 'n_units_l5': 115, 'dropout_l5': 0.2681475471827135, 'optimizer': 'SGD', 'lr': 0.010390884945657847}. Best is trial 0 with value: 0.762265625.\n",
            "[I 2023-06-05 17:37:51,758] Trial 4 finished with value: 0.775 and parameters: {'n_layers': 1, 'n_units_l0': 122, 'dropout_l0': 0.11023827535621762, 'optimizer': 'Adam', 'lr': 0.0006321508516299905}. Best is trial 4 with value: 0.775.\n",
            "[I 2023-06-05 17:37:54,276] Trial 5 pruned. \n",
            "[I 2023-06-05 17:37:56,568] Trial 6 pruned. \n",
            "[I 2023-06-05 17:37:58,871] Trial 7 pruned. \n",
            "[I 2023-06-05 17:38:17,405] Trial 8 finished with value: 0.771015625 and parameters: {'n_layers': 1, 'n_units_l0': 84, 'dropout_l0': 0.2903083719003713, 'optimizer': 'SGD', 'lr': 0.00042460164820091805}. Best is trial 4 with value: 0.775.\n",
            "[I 2023-06-05 17:38:20,062] Trial 9 pruned. \n",
            "[I 2023-06-05 17:38:22,189] Trial 10 pruned. \n",
            "[I 2023-06-05 17:38:27,845] Trial 11 pruned. \n",
            "[I 2023-06-05 17:38:46,126] Trial 12 finished with value: 0.6634375 and parameters: {'n_layers': 1, 'n_units_l0': 126, 'dropout_l0': 0.1094841024705337, 'optimizer': 'SGD', 'lr': 0.0006650831797501118}. Best is trial 4 with value: 0.775.\n",
            "[I 2023-06-05 17:38:48,165] Trial 13 pruned. \n",
            "[I 2023-06-05 17:39:03,415] Trial 14 pruned. \n",
            "[I 2023-06-05 17:39:05,396] Trial 15 pruned. \n",
            "[I 2023-06-05 17:39:07,427] Trial 16 pruned. \n",
            "[I 2023-06-05 17:39:09,865] Trial 17 pruned. \n",
            "[I 2023-06-05 17:39:28,432] Trial 18 finished with value: 0.83265625 and parameters: {'n_layers': 1, 'n_units_l0': 121, 'dropout_l0': 0.1605642917915864, 'optimizer': 'SGD', 'lr': 0.0001061907520833337}. Best is trial 18 with value: 0.83265625.\n",
            "[I 2023-06-05 17:39:30,465] Trial 19 pruned. \n",
            "[I 2023-06-05 17:39:32,797] Trial 20 pruned. \n",
            "[I 2023-06-05 17:39:34,634] Trial 21 pruned. \n",
            "[I 2023-06-05 17:39:36,496] Trial 22 pruned. \n",
            "[I 2023-06-05 17:39:38,695] Trial 23 pruned. \n",
            "[I 2023-06-05 17:39:57,225] Trial 24 finished with value: 0.8003125 and parameters: {'n_layers': 1, 'n_units_l0': 111, 'dropout_l0': 0.18405746995122302, 'optimizer': 'SGD', 'lr': 0.0005319811944687263}. Best is trial 18 with value: 0.83265625.\n",
            "[I 2023-06-05 17:39:59,432] Trial 25 pruned. \n",
            "[I 2023-06-05 17:40:01,401] Trial 26 pruned. \n",
            "[I 2023-06-05 17:40:03,715] Trial 27 pruned. \n",
            "[I 2023-06-05 17:40:06,275] Trial 28 pruned. \n",
            "[I 2023-06-05 17:40:08,672] Trial 29 pruned. \n",
            "[I 2023-06-05 17:40:10,540] Trial 30 pruned. \n",
            "[I 2023-06-05 17:40:12,367] Trial 31 pruned. \n",
            "[I 2023-06-05 17:40:14,427] Trial 32 pruned. \n",
            "[I 2023-06-05 17:40:16,399] Trial 33 pruned. \n",
            "[I 2023-06-05 17:40:18,274] Trial 34 pruned. \n",
            "[I 2023-06-05 17:40:36,845] Trial 35 finished with value: 0.710078125 and parameters: {'n_layers': 1, 'n_units_l0': 120, 'dropout_l0': 0.1317252340816687, 'optimizer': 'SGD', 'lr': 0.00022878795230794503}. Best is trial 18 with value: 0.83265625.\n",
            "[I 2023-06-05 17:40:39,080] Trial 36 pruned. \n",
            "[I 2023-06-05 17:40:57,894] Trial 37 finished with value: 0.785625 and parameters: {'n_layers': 1, 'n_units_l0': 102, 'dropout_l0': 0.10018178993981364, 'optimizer': 'RMSprop', 'lr': 0.0004211139903654734}. Best is trial 18 with value: 0.83265625.\n",
            "[I 2023-06-05 17:41:00,176] Trial 38 pruned. \n",
            "[I 2023-06-05 17:41:02,504] Trial 39 pruned. \n",
            "[I 2023-06-05 17:41:21,618] Trial 40 finished with value: 0.66703125 and parameters: {'n_layers': 1, 'n_units_l0': 111, 'dropout_l0': 0.10039845961109813, 'optimizer': 'RMSprop', 'lr': 0.0009832451715349442}. Best is trial 18 with value: 0.83265625.\n",
            "[I 2023-06-05 17:41:41,004] Trial 41 finished with value: 0.835078125 and parameters: {'n_layers': 1, 'n_units_l0': 93, 'dropout_l0': 0.16142112082679416, 'optimizer': 'RMSprop', 'lr': 0.00021693729915071006}. Best is trial 41 with value: 0.835078125.\n",
            "[I 2023-06-05 17:41:59,838] Trial 42 finished with value: 0.80671875 and parameters: {'n_layers': 1, 'n_units_l0': 94, 'dropout_l0': 0.15077923688131872, 'optimizer': 'RMSprop', 'lr': 0.0002091514159504614}. Best is trial 41 with value: 0.835078125.\n",
            "[I 2023-06-05 17:42:01,866] Trial 43 pruned. \n",
            "[I 2023-06-05 17:42:03,883] Trial 44 pruned. \n",
            "[I 2023-06-05 17:42:05,926] Trial 45 pruned. \n",
            "[I 2023-06-05 17:42:25,003] Trial 46 finished with value: 0.835390625 and parameters: {'n_layers': 1, 'n_units_l0': 84, 'dropout_l0': 0.14510440203332323, 'optimizer': 'RMSprop', 'lr': 0.00046113607669243936}. Best is trial 46 with value: 0.835390625.\n",
            "[I 2023-06-05 17:42:27,817] Trial 47 pruned. \n",
            "[I 2023-06-05 17:42:29,878] Trial 48 pruned. \n",
            "[I 2023-06-05 17:42:31,981] Trial 49 pruned. \n",
            "[I 2023-06-05 17:42:34,726] Trial 50 pruned. \n",
            "[I 2023-06-05 17:42:54,205] Trial 51 finished with value: 0.824921875 and parameters: {'n_layers': 1, 'n_units_l0': 90, 'dropout_l0': 0.13485760813069658, 'optimizer': 'RMSprop', 'lr': 0.00046036819606213734}. Best is trial 46 with value: 0.835390625.\n",
            "[I 2023-06-05 17:42:56,164] Trial 52 pruned. \n",
            "[I 2023-06-05 17:42:58,138] Trial 53 pruned. \n",
            "[I 2023-06-05 17:43:00,126] Trial 54 pruned. \n",
            "[I 2023-06-05 17:43:02,201] Trial 55 pruned. \n",
            "[I 2023-06-05 17:43:04,363] Trial 56 pruned. \n",
            "[I 2023-06-05 17:43:06,394] Trial 57 pruned. \n",
            "[I 2023-06-05 17:43:08,327] Trial 58 pruned. \n",
            "[I 2023-06-05 17:43:10,237] Trial 59 pruned. \n",
            "[I 2023-06-05 17:43:12,461] Trial 60 pruned. \n",
            "[I 2023-06-05 17:43:14,517] Trial 61 pruned. \n",
            "[I 2023-06-05 17:43:33,444] Trial 62 finished with value: 0.824765625 and parameters: {'n_layers': 1, 'n_units_l0': 98, 'dropout_l0': 0.13393742846465054, 'optimizer': 'RMSprop', 'lr': 0.000538830899808801}. Best is trial 46 with value: 0.835390625.\n",
            "[I 2023-06-05 17:43:35,356] Trial 63 pruned. \n",
            "[I 2023-06-05 17:43:37,353] Trial 64 pruned. \n",
            "[I 2023-06-05 17:43:39,347] Trial 65 pruned. \n",
            "[I 2023-06-05 17:43:41,252] Trial 66 pruned. \n",
            "[I 2023-06-05 17:43:43,261] Trial 67 pruned. \n",
            "[I 2023-06-05 17:43:45,673] Trial 68 pruned. \n",
            "[I 2023-06-05 17:43:47,570] Trial 69 pruned. \n",
            "[I 2023-06-05 17:43:49,608] Trial 70 pruned. \n",
            "[I 2023-06-05 17:43:51,673] Trial 71 pruned. \n",
            "[I 2023-06-05 17:43:53,569] Trial 72 pruned. \n",
            "[I 2023-06-05 17:43:55,478] Trial 73 pruned. \n",
            "[I 2023-06-05 17:44:14,814] Trial 74 finished with value: 0.821484375 and parameters: {'n_layers': 1, 'n_units_l0': 97, 'dropout_l0': 0.12730412129871976, 'optimizer': 'RMSprop', 'lr': 0.0002660491704307946}. Best is trial 46 with value: 0.835390625.\n",
            "[I 2023-06-05 17:44:16,952] Trial 75 pruned. \n",
            "[I 2023-06-05 17:44:18,819] Trial 76 pruned. \n",
            "[I 2023-06-05 17:44:20,729] Trial 77 pruned. \n",
            "[I 2023-06-05 17:44:22,649] Trial 78 pruned. \n",
            "[I 2023-06-05 17:44:24,768] Trial 79 pruned. \n",
            "[I 2023-06-05 17:44:26,823] Trial 80 pruned. \n",
            "[I 2023-06-05 17:44:28,835] Trial 81 pruned. \n",
            "[I 2023-06-05 17:44:47,894] Trial 82 finished with value: 0.78640625 and parameters: {'n_layers': 1, 'n_units_l0': 118, 'dropout_l0': 0.1423485965098591, 'optimizer': 'RMSprop', 'lr': 0.0003219353942083532}. Best is trial 46 with value: 0.835390625.\n",
            "[I 2023-06-05 17:44:49,896] Trial 83 pruned. \n",
            "[I 2023-06-05 17:44:51,986] Trial 84 pruned. \n",
            "[I 2023-06-05 17:45:11,095] Trial 85 finished with value: 0.79578125 and parameters: {'n_layers': 1, 'n_units_l0': 86, 'dropout_l0': 0.12391121018280249, 'optimizer': 'RMSprop', 'lr': 0.0007337619039390949}. Best is trial 46 with value: 0.835390625.\n",
            "[I 2023-06-05 17:45:12,987] Trial 86 pruned. \n",
            "[I 2023-06-05 17:45:15,200] Trial 87 pruned. \n",
            "[I 2023-06-05 17:45:17,188] Trial 88 pruned. \n",
            "[I 2023-06-05 17:45:19,325] Trial 89 pruned. \n",
            "[I 2023-06-05 17:45:21,252] Trial 90 pruned. \n",
            "[I 2023-06-05 17:45:23,182] Trial 91 pruned. \n",
            "[I 2023-06-05 17:45:25,130] Trial 92 pruned. \n",
            "[I 2023-06-05 17:45:27,212] Trial 93 pruned. \n",
            "[I 2023-06-05 17:45:29,190] Trial 94 pruned. \n",
            "[I 2023-06-05 17:45:31,110] Trial 95 pruned. \n",
            "[I 2023-06-05 17:45:33,045] Trial 96 pruned. \n",
            "[I 2023-06-05 17:45:34,977] Trial 97 pruned. \n",
            "[I 2023-06-05 17:45:37,095] Trial 98 pruned. \n",
            "[I 2023-06-05 17:45:39,969] Trial 99 pruned. \n"
          ]
        }
      ]
    },
    {
      "cell_type": "code",
      "source": [
        "optuna.visualization.plot_optimization_history(study)"
      ],
      "metadata": {
        "colab": {
          "base_uri": "https://localhost:8080/",
          "height": 542
        },
        "id": "Azo8h8KafAN3",
        "outputId": "cf6eb0c1-f281-4eae-b44e-01d60a856d85"
      },
      "execution_count": 16,
      "outputs": [
        {
          "output_type": "display_data",
          "data": {
            "text/html": [
              "<html>\n",
              "<head><meta charset=\"utf-8\" /></head>\n",
              "<body>\n",
              "    <div>            <script src=\"https://cdnjs.cloudflare.com/ajax/libs/mathjax/2.7.5/MathJax.js?config=TeX-AMS-MML_SVG\"></script><script type=\"text/javascript\">if (window.MathJax && window.MathJax.Hub && window.MathJax.Hub.Config) {window.MathJax.Hub.Config({SVG: {font: \"STIX-Web\"}});}</script>                <script type=\"text/javascript\">window.PlotlyConfig = {MathJaxConfig: 'local'};</script>\n",
              "        <script src=\"https://cdn.plot.ly/plotly-2.18.2.min.js\"></script>                <div id=\"da787848-fb7f-4c0f-9768-e0b5847439ec\" class=\"plotly-graph-div\" style=\"height:525px; width:100%;\"></div>            <script type=\"text/javascript\">                                    window.PLOTLYENV=window.PLOTLYENV || {};                                    if (document.getElementById(\"da787848-fb7f-4c0f-9768-e0b5847439ec\")) {                    Plotly.newPlot(                        \"da787848-fb7f-4c0f-9768-e0b5847439ec\",                        [{\"mode\":\"markers\",\"name\":\"Objective Value\",\"x\":[0,1,2,3,4,8,12,18,24,35,37,40,41,42,46,51,62,74,82,85],\"y\":[0.762265625,0.33171875,0.738828125,0.3478125,0.775,0.771015625,0.6634375,0.83265625,0.8003125,0.710078125,0.785625,0.66703125,0.835078125,0.80671875,0.835390625,0.824921875,0.824765625,0.821484375,0.78640625,0.79578125],\"type\":\"scatter\"},{\"name\":\"Best Value\",\"x\":[0,1,2,3,4,8,12,18,24,35,37,40,41,42,46,51,62,74,82,85],\"y\":[0.762265625,0.762265625,0.762265625,0.762265625,0.775,0.775,0.775,0.83265625,0.83265625,0.83265625,0.83265625,0.83265625,0.835078125,0.835078125,0.835390625,0.835390625,0.835390625,0.835390625,0.835390625,0.835390625],\"type\":\"scatter\"}],                        {\"title\":{\"text\":\"Optimization History Plot\"},\"xaxis\":{\"title\":{\"text\":\"Trial\"}},\"yaxis\":{\"title\":{\"text\":\"Objective Value\"}},\"template\":{\"data\":{\"histogram2dcontour\":[{\"type\":\"histogram2dcontour\",\"colorbar\":{\"outlinewidth\":0,\"ticks\":\"\"},\"colorscale\":[[0.0,\"#0d0887\"],[0.1111111111111111,\"#46039f\"],[0.2222222222222222,\"#7201a8\"],[0.3333333333333333,\"#9c179e\"],[0.4444444444444444,\"#bd3786\"],[0.5555555555555556,\"#d8576b\"],[0.6666666666666666,\"#ed7953\"],[0.7777777777777778,\"#fb9f3a\"],[0.8888888888888888,\"#fdca26\"],[1.0,\"#f0f921\"]]}],\"choropleth\":[{\"type\":\"choropleth\",\"colorbar\":{\"outlinewidth\":0,\"ticks\":\"\"}}],\"histogram2d\":[{\"type\":\"histogram2d\",\"colorbar\":{\"outlinewidth\":0,\"ticks\":\"\"},\"colorscale\":[[0.0,\"#0d0887\"],[0.1111111111111111,\"#46039f\"],[0.2222222222222222,\"#7201a8\"],[0.3333333333333333,\"#9c179e\"],[0.4444444444444444,\"#bd3786\"],[0.5555555555555556,\"#d8576b\"],[0.6666666666666666,\"#ed7953\"],[0.7777777777777778,\"#fb9f3a\"],[0.8888888888888888,\"#fdca26\"],[1.0,\"#f0f921\"]]}],\"heatmap\":[{\"type\":\"heatmap\",\"colorbar\":{\"outlinewidth\":0,\"ticks\":\"\"},\"colorscale\":[[0.0,\"#0d0887\"],[0.1111111111111111,\"#46039f\"],[0.2222222222222222,\"#7201a8\"],[0.3333333333333333,\"#9c179e\"],[0.4444444444444444,\"#bd3786\"],[0.5555555555555556,\"#d8576b\"],[0.6666666666666666,\"#ed7953\"],[0.7777777777777778,\"#fb9f3a\"],[0.8888888888888888,\"#fdca26\"],[1.0,\"#f0f921\"]]}],\"heatmapgl\":[{\"type\":\"heatmapgl\",\"colorbar\":{\"outlinewidth\":0,\"ticks\":\"\"},\"colorscale\":[[0.0,\"#0d0887\"],[0.1111111111111111,\"#46039f\"],[0.2222222222222222,\"#7201a8\"],[0.3333333333333333,\"#9c179e\"],[0.4444444444444444,\"#bd3786\"],[0.5555555555555556,\"#d8576b\"],[0.6666666666666666,\"#ed7953\"],[0.7777777777777778,\"#fb9f3a\"],[0.8888888888888888,\"#fdca26\"],[1.0,\"#f0f921\"]]}],\"contourcarpet\":[{\"type\":\"contourcarpet\",\"colorbar\":{\"outlinewidth\":0,\"ticks\":\"\"}}],\"contour\":[{\"type\":\"contour\",\"colorbar\":{\"outlinewidth\":0,\"ticks\":\"\"},\"colorscale\":[[0.0,\"#0d0887\"],[0.1111111111111111,\"#46039f\"],[0.2222222222222222,\"#7201a8\"],[0.3333333333333333,\"#9c179e\"],[0.4444444444444444,\"#bd3786\"],[0.5555555555555556,\"#d8576b\"],[0.6666666666666666,\"#ed7953\"],[0.7777777777777778,\"#fb9f3a\"],[0.8888888888888888,\"#fdca26\"],[1.0,\"#f0f921\"]]}],\"surface\":[{\"type\":\"surface\",\"colorbar\":{\"outlinewidth\":0,\"ticks\":\"\"},\"colorscale\":[[0.0,\"#0d0887\"],[0.1111111111111111,\"#46039f\"],[0.2222222222222222,\"#7201a8\"],[0.3333333333333333,\"#9c179e\"],[0.4444444444444444,\"#bd3786\"],[0.5555555555555556,\"#d8576b\"],[0.6666666666666666,\"#ed7953\"],[0.7777777777777778,\"#fb9f3a\"],[0.8888888888888888,\"#fdca26\"],[1.0,\"#f0f921\"]]}],\"mesh3d\":[{\"type\":\"mesh3d\",\"colorbar\":{\"outlinewidth\":0,\"ticks\":\"\"}}],\"scatter\":[{\"fillpattern\":{\"fillmode\":\"overlay\",\"size\":10,\"solidity\":0.2},\"type\":\"scatter\"}],\"parcoords\":[{\"type\":\"parcoords\",\"line\":{\"colorbar\":{\"outlinewidth\":0,\"ticks\":\"\"}}}],\"scatterpolargl\":[{\"type\":\"scatterpolargl\",\"marker\":{\"colorbar\":{\"outlinewidth\":0,\"ticks\":\"\"}}}],\"bar\":[{\"error_x\":{\"color\":\"#2a3f5f\"},\"error_y\":{\"color\":\"#2a3f5f\"},\"marker\":{\"line\":{\"color\":\"#E5ECF6\",\"width\":0.5},\"pattern\":{\"fillmode\":\"overlay\",\"size\":10,\"solidity\":0.2}},\"type\":\"bar\"}],\"scattergeo\":[{\"type\":\"scattergeo\",\"marker\":{\"colorbar\":{\"outlinewidth\":0,\"ticks\":\"\"}}}],\"scatterpolar\":[{\"type\":\"scatterpolar\",\"marker\":{\"colorbar\":{\"outlinewidth\":0,\"ticks\":\"\"}}}],\"histogram\":[{\"marker\":{\"pattern\":{\"fillmode\":\"overlay\",\"size\":10,\"solidity\":0.2}},\"type\":\"histogram\"}],\"scattergl\":[{\"type\":\"scattergl\",\"marker\":{\"colorbar\":{\"outlinewidth\":0,\"ticks\":\"\"}}}],\"scatter3d\":[{\"type\":\"scatter3d\",\"line\":{\"colorbar\":{\"outlinewidth\":0,\"ticks\":\"\"}},\"marker\":{\"colorbar\":{\"outlinewidth\":0,\"ticks\":\"\"}}}],\"scattermapbox\":[{\"type\":\"scattermapbox\",\"marker\":{\"colorbar\":{\"outlinewidth\":0,\"ticks\":\"\"}}}],\"scatterternary\":[{\"type\":\"scatterternary\",\"marker\":{\"colorbar\":{\"outlinewidth\":0,\"ticks\":\"\"}}}],\"scattercarpet\":[{\"type\":\"scattercarpet\",\"marker\":{\"colorbar\":{\"outlinewidth\":0,\"ticks\":\"\"}}}],\"carpet\":[{\"aaxis\":{\"endlinecolor\":\"#2a3f5f\",\"gridcolor\":\"white\",\"linecolor\":\"white\",\"minorgridcolor\":\"white\",\"startlinecolor\":\"#2a3f5f\"},\"baxis\":{\"endlinecolor\":\"#2a3f5f\",\"gridcolor\":\"white\",\"linecolor\":\"white\",\"minorgridcolor\":\"white\",\"startlinecolor\":\"#2a3f5f\"},\"type\":\"carpet\"}],\"table\":[{\"cells\":{\"fill\":{\"color\":\"#EBF0F8\"},\"line\":{\"color\":\"white\"}},\"header\":{\"fill\":{\"color\":\"#C8D4E3\"},\"line\":{\"color\":\"white\"}},\"type\":\"table\"}],\"barpolar\":[{\"marker\":{\"line\":{\"color\":\"#E5ECF6\",\"width\":0.5},\"pattern\":{\"fillmode\":\"overlay\",\"size\":10,\"solidity\":0.2}},\"type\":\"barpolar\"}],\"pie\":[{\"automargin\":true,\"type\":\"pie\"}]},\"layout\":{\"autotypenumbers\":\"strict\",\"colorway\":[\"#636efa\",\"#EF553B\",\"#00cc96\",\"#ab63fa\",\"#FFA15A\",\"#19d3f3\",\"#FF6692\",\"#B6E880\",\"#FF97FF\",\"#FECB52\"],\"font\":{\"color\":\"#2a3f5f\"},\"hovermode\":\"closest\",\"hoverlabel\":{\"align\":\"left\"},\"paper_bgcolor\":\"white\",\"plot_bgcolor\":\"#E5ECF6\",\"polar\":{\"bgcolor\":\"#E5ECF6\",\"angularaxis\":{\"gridcolor\":\"white\",\"linecolor\":\"white\",\"ticks\":\"\"},\"radialaxis\":{\"gridcolor\":\"white\",\"linecolor\":\"white\",\"ticks\":\"\"}},\"ternary\":{\"bgcolor\":\"#E5ECF6\",\"aaxis\":{\"gridcolor\":\"white\",\"linecolor\":\"white\",\"ticks\":\"\"},\"baxis\":{\"gridcolor\":\"white\",\"linecolor\":\"white\",\"ticks\":\"\"},\"caxis\":{\"gridcolor\":\"white\",\"linecolor\":\"white\",\"ticks\":\"\"}},\"coloraxis\":{\"colorbar\":{\"outlinewidth\":0,\"ticks\":\"\"}},\"colorscale\":{\"sequential\":[[0.0,\"#0d0887\"],[0.1111111111111111,\"#46039f\"],[0.2222222222222222,\"#7201a8\"],[0.3333333333333333,\"#9c179e\"],[0.4444444444444444,\"#bd3786\"],[0.5555555555555556,\"#d8576b\"],[0.6666666666666666,\"#ed7953\"],[0.7777777777777778,\"#fb9f3a\"],[0.8888888888888888,\"#fdca26\"],[1.0,\"#f0f921\"]],\"sequentialminus\":[[0.0,\"#0d0887\"],[0.1111111111111111,\"#46039f\"],[0.2222222222222222,\"#7201a8\"],[0.3333333333333333,\"#9c179e\"],[0.4444444444444444,\"#bd3786\"],[0.5555555555555556,\"#d8576b\"],[0.6666666666666666,\"#ed7953\"],[0.7777777777777778,\"#fb9f3a\"],[0.8888888888888888,\"#fdca26\"],[1.0,\"#f0f921\"]],\"diverging\":[[0,\"#8e0152\"],[0.1,\"#c51b7d\"],[0.2,\"#de77ae\"],[0.3,\"#f1b6da\"],[0.4,\"#fde0ef\"],[0.5,\"#f7f7f7\"],[0.6,\"#e6f5d0\"],[0.7,\"#b8e186\"],[0.8,\"#7fbc41\"],[0.9,\"#4d9221\"],[1,\"#276419\"]]},\"xaxis\":{\"gridcolor\":\"white\",\"linecolor\":\"white\",\"ticks\":\"\",\"title\":{\"standoff\":15},\"zerolinecolor\":\"white\",\"automargin\":true,\"zerolinewidth\":2},\"yaxis\":{\"gridcolor\":\"white\",\"linecolor\":\"white\",\"ticks\":\"\",\"title\":{\"standoff\":15},\"zerolinecolor\":\"white\",\"automargin\":true,\"zerolinewidth\":2},\"scene\":{\"xaxis\":{\"backgroundcolor\":\"#E5ECF6\",\"gridcolor\":\"white\",\"linecolor\":\"white\",\"showbackground\":true,\"ticks\":\"\",\"zerolinecolor\":\"white\",\"gridwidth\":2},\"yaxis\":{\"backgroundcolor\":\"#E5ECF6\",\"gridcolor\":\"white\",\"linecolor\":\"white\",\"showbackground\":true,\"ticks\":\"\",\"zerolinecolor\":\"white\",\"gridwidth\":2},\"zaxis\":{\"backgroundcolor\":\"#E5ECF6\",\"gridcolor\":\"white\",\"linecolor\":\"white\",\"showbackground\":true,\"ticks\":\"\",\"zerolinecolor\":\"white\",\"gridwidth\":2}},\"shapedefaults\":{\"line\":{\"color\":\"#2a3f5f\"}},\"annotationdefaults\":{\"arrowcolor\":\"#2a3f5f\",\"arrowhead\":0,\"arrowwidth\":1},\"geo\":{\"bgcolor\":\"white\",\"landcolor\":\"#E5ECF6\",\"subunitcolor\":\"white\",\"showland\":true,\"showlakes\":true,\"lakecolor\":\"white\"},\"title\":{\"x\":0.05},\"mapbox\":{\"style\":\"light\"}}}},                        {\"responsive\": true}                    ).then(function(){\n",
              "                            \n",
              "var gd = document.getElementById('da787848-fb7f-4c0f-9768-e0b5847439ec');\n",
              "var x = new MutationObserver(function (mutations, observer) {{\n",
              "        var display = window.getComputedStyle(gd).display;\n",
              "        if (!display || display === 'none') {{\n",
              "            console.log([gd, 'removed!']);\n",
              "            Plotly.purge(gd);\n",
              "            observer.disconnect();\n",
              "        }}\n",
              "}});\n",
              "\n",
              "// Listen for the removal of the full notebook cells\n",
              "var notebookContainer = gd.closest('#notebook-container');\n",
              "if (notebookContainer) {{\n",
              "    x.observe(notebookContainer, {childList: true});\n",
              "}}\n",
              "\n",
              "// Listen for the clearing of the current output cell\n",
              "var outputEl = gd.closest('.output');\n",
              "if (outputEl) {{\n",
              "    x.observe(outputEl, {childList: true});\n",
              "}}\n",
              "\n",
              "                        })                };                            </script>        </div>\n",
              "</body>\n",
              "</html>"
            ]
          },
          "metadata": {}
        }
      ]
    },
    {
      "cell_type": "code",
      "source": [
        "optuna.visualization.plot_param_importances(study)"
      ],
      "metadata": {
        "colab": {
          "base_uri": "https://localhost:8080/",
          "height": 542
        },
        "id": "N_fBV9B3fAQe",
        "outputId": "e8497ea8-d9a5-4aa0-ef7f-be56e7fdbb4d"
      },
      "execution_count": 17,
      "outputs": [
        {
          "output_type": "display_data",
          "data": {
            "text/html": [
              "<html>\n",
              "<head><meta charset=\"utf-8\" /></head>\n",
              "<body>\n",
              "    <div>            <script src=\"https://cdnjs.cloudflare.com/ajax/libs/mathjax/2.7.5/MathJax.js?config=TeX-AMS-MML_SVG\"></script><script type=\"text/javascript\">if (window.MathJax && window.MathJax.Hub && window.MathJax.Hub.Config) {window.MathJax.Hub.Config({SVG: {font: \"STIX-Web\"}});}</script>                <script type=\"text/javascript\">window.PlotlyConfig = {MathJaxConfig: 'local'};</script>\n",
              "        <script src=\"https://cdn.plot.ly/plotly-2.18.2.min.js\"></script>                <div id=\"a16acaa6-6fad-4ce4-b47c-f482e1c073e3\" class=\"plotly-graph-div\" style=\"height:525px; width:100%;\"></div>            <script type=\"text/javascript\">                                    window.PLOTLYENV=window.PLOTLYENV || {};                                    if (document.getElementById(\"a16acaa6-6fad-4ce4-b47c-f482e1c073e3\")) {                    Plotly.newPlot(                        \"a16acaa6-6fad-4ce4-b47c-f482e1c073e3\",                        [{\"cliponaxis\":false,\"hovertemplate\":[\"n_units_l0 (IntDistribution): 0.010285138323974319<extra></extra>\",\"optimizer (CategoricalDistribution): 0.012894496086574602<extra></extra>\",\"dropout_l0 (FloatDistribution): 0.06156827825114797<extra></extra>\",\"n_layers (IntDistribution): 0.2034904853389763<extra></extra>\",\"lr (FloatDistribution): 0.7117616019993269<extra></extra>\"],\"marker\":{\"color\":\"rgb(66,146,198)\"},\"orientation\":\"h\",\"text\":[\"0.01\",\"0.01\",\"0.06\",\"0.20\",\"0.71\"],\"textposition\":\"outside\",\"x\":[0.010285138323974319,0.012894496086574602,0.06156827825114797,0.2034904853389763,0.7117616019993269],\"y\":[\"n_units_l0\",\"optimizer\",\"dropout_l0\",\"n_layers\",\"lr\"],\"type\":\"bar\"}],                        {\"showlegend\":false,\"title\":{\"text\":\"Hyperparameter Importances\"},\"xaxis\":{\"title\":{\"text\":\"Importance for Objective Value\"}},\"yaxis\":{\"title\":{\"text\":\"Hyperparameter\"}},\"template\":{\"data\":{\"histogram2dcontour\":[{\"type\":\"histogram2dcontour\",\"colorbar\":{\"outlinewidth\":0,\"ticks\":\"\"},\"colorscale\":[[0.0,\"#0d0887\"],[0.1111111111111111,\"#46039f\"],[0.2222222222222222,\"#7201a8\"],[0.3333333333333333,\"#9c179e\"],[0.4444444444444444,\"#bd3786\"],[0.5555555555555556,\"#d8576b\"],[0.6666666666666666,\"#ed7953\"],[0.7777777777777778,\"#fb9f3a\"],[0.8888888888888888,\"#fdca26\"],[1.0,\"#f0f921\"]]}],\"choropleth\":[{\"type\":\"choropleth\",\"colorbar\":{\"outlinewidth\":0,\"ticks\":\"\"}}],\"histogram2d\":[{\"type\":\"histogram2d\",\"colorbar\":{\"outlinewidth\":0,\"ticks\":\"\"},\"colorscale\":[[0.0,\"#0d0887\"],[0.1111111111111111,\"#46039f\"],[0.2222222222222222,\"#7201a8\"],[0.3333333333333333,\"#9c179e\"],[0.4444444444444444,\"#bd3786\"],[0.5555555555555556,\"#d8576b\"],[0.6666666666666666,\"#ed7953\"],[0.7777777777777778,\"#fb9f3a\"],[0.8888888888888888,\"#fdca26\"],[1.0,\"#f0f921\"]]}],\"heatmap\":[{\"type\":\"heatmap\",\"colorbar\":{\"outlinewidth\":0,\"ticks\":\"\"},\"colorscale\":[[0.0,\"#0d0887\"],[0.1111111111111111,\"#46039f\"],[0.2222222222222222,\"#7201a8\"],[0.3333333333333333,\"#9c179e\"],[0.4444444444444444,\"#bd3786\"],[0.5555555555555556,\"#d8576b\"],[0.6666666666666666,\"#ed7953\"],[0.7777777777777778,\"#fb9f3a\"],[0.8888888888888888,\"#fdca26\"],[1.0,\"#f0f921\"]]}],\"heatmapgl\":[{\"type\":\"heatmapgl\",\"colorbar\":{\"outlinewidth\":0,\"ticks\":\"\"},\"colorscale\":[[0.0,\"#0d0887\"],[0.1111111111111111,\"#46039f\"],[0.2222222222222222,\"#7201a8\"],[0.3333333333333333,\"#9c179e\"],[0.4444444444444444,\"#bd3786\"],[0.5555555555555556,\"#d8576b\"],[0.6666666666666666,\"#ed7953\"],[0.7777777777777778,\"#fb9f3a\"],[0.8888888888888888,\"#fdca26\"],[1.0,\"#f0f921\"]]}],\"contourcarpet\":[{\"type\":\"contourcarpet\",\"colorbar\":{\"outlinewidth\":0,\"ticks\":\"\"}}],\"contour\":[{\"type\":\"contour\",\"colorbar\":{\"outlinewidth\":0,\"ticks\":\"\"},\"colorscale\":[[0.0,\"#0d0887\"],[0.1111111111111111,\"#46039f\"],[0.2222222222222222,\"#7201a8\"],[0.3333333333333333,\"#9c179e\"],[0.4444444444444444,\"#bd3786\"],[0.5555555555555556,\"#d8576b\"],[0.6666666666666666,\"#ed7953\"],[0.7777777777777778,\"#fb9f3a\"],[0.8888888888888888,\"#fdca26\"],[1.0,\"#f0f921\"]]}],\"surface\":[{\"type\":\"surface\",\"colorbar\":{\"outlinewidth\":0,\"ticks\":\"\"},\"colorscale\":[[0.0,\"#0d0887\"],[0.1111111111111111,\"#46039f\"],[0.2222222222222222,\"#7201a8\"],[0.3333333333333333,\"#9c179e\"],[0.4444444444444444,\"#bd3786\"],[0.5555555555555556,\"#d8576b\"],[0.6666666666666666,\"#ed7953\"],[0.7777777777777778,\"#fb9f3a\"],[0.8888888888888888,\"#fdca26\"],[1.0,\"#f0f921\"]]}],\"mesh3d\":[{\"type\":\"mesh3d\",\"colorbar\":{\"outlinewidth\":0,\"ticks\":\"\"}}],\"scatter\":[{\"fillpattern\":{\"fillmode\":\"overlay\",\"size\":10,\"solidity\":0.2},\"type\":\"scatter\"}],\"parcoords\":[{\"type\":\"parcoords\",\"line\":{\"colorbar\":{\"outlinewidth\":0,\"ticks\":\"\"}}}],\"scatterpolargl\":[{\"type\":\"scatterpolargl\",\"marker\":{\"colorbar\":{\"outlinewidth\":0,\"ticks\":\"\"}}}],\"bar\":[{\"error_x\":{\"color\":\"#2a3f5f\"},\"error_y\":{\"color\":\"#2a3f5f\"},\"marker\":{\"line\":{\"color\":\"#E5ECF6\",\"width\":0.5},\"pattern\":{\"fillmode\":\"overlay\",\"size\":10,\"solidity\":0.2}},\"type\":\"bar\"}],\"scattergeo\":[{\"type\":\"scattergeo\",\"marker\":{\"colorbar\":{\"outlinewidth\":0,\"ticks\":\"\"}}}],\"scatterpolar\":[{\"type\":\"scatterpolar\",\"marker\":{\"colorbar\":{\"outlinewidth\":0,\"ticks\":\"\"}}}],\"histogram\":[{\"marker\":{\"pattern\":{\"fillmode\":\"overlay\",\"size\":10,\"solidity\":0.2}},\"type\":\"histogram\"}],\"scattergl\":[{\"type\":\"scattergl\",\"marker\":{\"colorbar\":{\"outlinewidth\":0,\"ticks\":\"\"}}}],\"scatter3d\":[{\"type\":\"scatter3d\",\"line\":{\"colorbar\":{\"outlinewidth\":0,\"ticks\":\"\"}},\"marker\":{\"colorbar\":{\"outlinewidth\":0,\"ticks\":\"\"}}}],\"scattermapbox\":[{\"type\":\"scattermapbox\",\"marker\":{\"colorbar\":{\"outlinewidth\":0,\"ticks\":\"\"}}}],\"scatterternary\":[{\"type\":\"scatterternary\",\"marker\":{\"colorbar\":{\"outlinewidth\":0,\"ticks\":\"\"}}}],\"scattercarpet\":[{\"type\":\"scattercarpet\",\"marker\":{\"colorbar\":{\"outlinewidth\":0,\"ticks\":\"\"}}}],\"carpet\":[{\"aaxis\":{\"endlinecolor\":\"#2a3f5f\",\"gridcolor\":\"white\",\"linecolor\":\"white\",\"minorgridcolor\":\"white\",\"startlinecolor\":\"#2a3f5f\"},\"baxis\":{\"endlinecolor\":\"#2a3f5f\",\"gridcolor\":\"white\",\"linecolor\":\"white\",\"minorgridcolor\":\"white\",\"startlinecolor\":\"#2a3f5f\"},\"type\":\"carpet\"}],\"table\":[{\"cells\":{\"fill\":{\"color\":\"#EBF0F8\"},\"line\":{\"color\":\"white\"}},\"header\":{\"fill\":{\"color\":\"#C8D4E3\"},\"line\":{\"color\":\"white\"}},\"type\":\"table\"}],\"barpolar\":[{\"marker\":{\"line\":{\"color\":\"#E5ECF6\",\"width\":0.5},\"pattern\":{\"fillmode\":\"overlay\",\"size\":10,\"solidity\":0.2}},\"type\":\"barpolar\"}],\"pie\":[{\"automargin\":true,\"type\":\"pie\"}]},\"layout\":{\"autotypenumbers\":\"strict\",\"colorway\":[\"#636efa\",\"#EF553B\",\"#00cc96\",\"#ab63fa\",\"#FFA15A\",\"#19d3f3\",\"#FF6692\",\"#B6E880\",\"#FF97FF\",\"#FECB52\"],\"font\":{\"color\":\"#2a3f5f\"},\"hovermode\":\"closest\",\"hoverlabel\":{\"align\":\"left\"},\"paper_bgcolor\":\"white\",\"plot_bgcolor\":\"#E5ECF6\",\"polar\":{\"bgcolor\":\"#E5ECF6\",\"angularaxis\":{\"gridcolor\":\"white\",\"linecolor\":\"white\",\"ticks\":\"\"},\"radialaxis\":{\"gridcolor\":\"white\",\"linecolor\":\"white\",\"ticks\":\"\"}},\"ternary\":{\"bgcolor\":\"#E5ECF6\",\"aaxis\":{\"gridcolor\":\"white\",\"linecolor\":\"white\",\"ticks\":\"\"},\"baxis\":{\"gridcolor\":\"white\",\"linecolor\":\"white\",\"ticks\":\"\"},\"caxis\":{\"gridcolor\":\"white\",\"linecolor\":\"white\",\"ticks\":\"\"}},\"coloraxis\":{\"colorbar\":{\"outlinewidth\":0,\"ticks\":\"\"}},\"colorscale\":{\"sequential\":[[0.0,\"#0d0887\"],[0.1111111111111111,\"#46039f\"],[0.2222222222222222,\"#7201a8\"],[0.3333333333333333,\"#9c179e\"],[0.4444444444444444,\"#bd3786\"],[0.5555555555555556,\"#d8576b\"],[0.6666666666666666,\"#ed7953\"],[0.7777777777777778,\"#fb9f3a\"],[0.8888888888888888,\"#fdca26\"],[1.0,\"#f0f921\"]],\"sequentialminus\":[[0.0,\"#0d0887\"],[0.1111111111111111,\"#46039f\"],[0.2222222222222222,\"#7201a8\"],[0.3333333333333333,\"#9c179e\"],[0.4444444444444444,\"#bd3786\"],[0.5555555555555556,\"#d8576b\"],[0.6666666666666666,\"#ed7953\"],[0.7777777777777778,\"#fb9f3a\"],[0.8888888888888888,\"#fdca26\"],[1.0,\"#f0f921\"]],\"diverging\":[[0,\"#8e0152\"],[0.1,\"#c51b7d\"],[0.2,\"#de77ae\"],[0.3,\"#f1b6da\"],[0.4,\"#fde0ef\"],[0.5,\"#f7f7f7\"],[0.6,\"#e6f5d0\"],[0.7,\"#b8e186\"],[0.8,\"#7fbc41\"],[0.9,\"#4d9221\"],[1,\"#276419\"]]},\"xaxis\":{\"gridcolor\":\"white\",\"linecolor\":\"white\",\"ticks\":\"\",\"title\":{\"standoff\":15},\"zerolinecolor\":\"white\",\"automargin\":true,\"zerolinewidth\":2},\"yaxis\":{\"gridcolor\":\"white\",\"linecolor\":\"white\",\"ticks\":\"\",\"title\":{\"standoff\":15},\"zerolinecolor\":\"white\",\"automargin\":true,\"zerolinewidth\":2},\"scene\":{\"xaxis\":{\"backgroundcolor\":\"#E5ECF6\",\"gridcolor\":\"white\",\"linecolor\":\"white\",\"showbackground\":true,\"ticks\":\"\",\"zerolinecolor\":\"white\",\"gridwidth\":2},\"yaxis\":{\"backgroundcolor\":\"#E5ECF6\",\"gridcolor\":\"white\",\"linecolor\":\"white\",\"showbackground\":true,\"ticks\":\"\",\"zerolinecolor\":\"white\",\"gridwidth\":2},\"zaxis\":{\"backgroundcolor\":\"#E5ECF6\",\"gridcolor\":\"white\",\"linecolor\":\"white\",\"showbackground\":true,\"ticks\":\"\",\"zerolinecolor\":\"white\",\"gridwidth\":2}},\"shapedefaults\":{\"line\":{\"color\":\"#2a3f5f\"}},\"annotationdefaults\":{\"arrowcolor\":\"#2a3f5f\",\"arrowhead\":0,\"arrowwidth\":1},\"geo\":{\"bgcolor\":\"white\",\"landcolor\":\"#E5ECF6\",\"subunitcolor\":\"white\",\"showland\":true,\"showlakes\":true,\"lakecolor\":\"white\"},\"title\":{\"x\":0.05},\"mapbox\":{\"style\":\"light\"}}}},                        {\"responsive\": true}                    ).then(function(){\n",
              "                            \n",
              "var gd = document.getElementById('a16acaa6-6fad-4ce4-b47c-f482e1c073e3');\n",
              "var x = new MutationObserver(function (mutations, observer) {{\n",
              "        var display = window.getComputedStyle(gd).display;\n",
              "        if (!display || display === 'none') {{\n",
              "            console.log([gd, 'removed!']);\n",
              "            Plotly.purge(gd);\n",
              "            observer.disconnect();\n",
              "        }}\n",
              "}});\n",
              "\n",
              "// Listen for the removal of the full notebook cells\n",
              "var notebookContainer = gd.closest('#notebook-container');\n",
              "if (notebookContainer) {{\n",
              "    x.observe(notebookContainer, {childList: true});\n",
              "}}\n",
              "\n",
              "// Listen for the clearing of the current output cell\n",
              "var outputEl = gd.closest('.output');\n",
              "if (outputEl) {{\n",
              "    x.observe(outputEl, {childList: true});\n",
              "}}\n",
              "\n",
              "                        })                };                            </script>        </div>\n",
              "</body>\n",
              "</html>"
            ]
          },
          "metadata": {}
        }
      ]
    },
    {
      "cell_type": "code",
      "source": [
        "study.best_params"
      ],
      "metadata": {
        "colab": {
          "base_uri": "https://localhost:8080/"
        },
        "id": "ObbU6FfDgTKG",
        "outputId": "9351599a-6cb4-4499-a25b-b8e52ca51ce2"
      },
      "execution_count": 18,
      "outputs": [
        {
          "output_type": "execute_result",
          "data": {
            "text/plain": [
              "{'n_layers': 1,\n",
              " 'n_units_l0': 84,\n",
              " 'dropout_l0': 0.14510440203332323,\n",
              " 'optimizer': 'RMSprop',\n",
              " 'lr': 0.00046113607669243936}"
            ]
          },
          "metadata": {},
          "execution_count": 18
        }
      ]
    },
    {
      "cell_type": "code",
      "source": [
        "INPUT_DIM = 6\n",
        "HIDDEN_LAYERS = 84\n",
        "\n",
        "OUTPUT_DIM = 3\n",
        "criterion = nn.CrossEntropyLoss()"
      ],
      "metadata": {
        "id": "Hk831Ly2uSzr"
      },
      "execution_count": 19,
      "outputs": []
    },
    {
      "cell_type": "code",
      "source": [
        "class NN_optuna(nn.Module):\n",
        "  def __init__(self):\n",
        "    super(NN_optuna, self).__init__()\n",
        "    self.linear1 = nn.Linear(INPUT_DIM, HIDDEN_LAYERS)\n",
        "    self.dropout1 = nn.Dropout(0.1451)\n",
        "    self.linear2 = nn.Linear(HIDDEN_LAYERS, OUTPUT_DIM)\n",
        "\n",
        "  def forward(self, x):\n",
        "    x = torch.relu(self.linear1(x))\n",
        "    x = self.dropout1(x)\n",
        "    x = self.linear2(x)\n",
        "    return x"
      ],
      "metadata": {
        "id": "CRT-QJdTgTMk"
      },
      "execution_count": 24,
      "outputs": []
    },
    {
      "cell_type": "code",
      "source": [
        "NN_optuna = NN_optuna().to(DEVICE)\n",
        "print(NN_optuna)"
      ],
      "metadata": {
        "id": "y8tzaMo9vJah",
        "colab": {
          "base_uri": "https://localhost:8080/"
        },
        "outputId": "21e81daf-8a13-4332-8396-2bb3b69d6cd3"
      },
      "execution_count": 25,
      "outputs": [
        {
          "output_type": "stream",
          "name": "stdout",
          "text": [
            "NN_optuna(\n",
            "  (linear1): Linear(in_features=6, out_features=84, bias=True)\n",
            "  (dropout1): Dropout(p=0.1451, inplace=False)\n",
            "  (linear2): Linear(in_features=84, out_features=3, bias=True)\n",
            ")\n"
          ]
        }
      ]
    },
    {
      "cell_type": "code",
      "source": [
        "optimizer = torch.optim.RMSprop(NN_optuna.parameters(), lr = 0.00046)"
      ],
      "metadata": {
        "id": "mPQ0m-exu6k0"
      },
      "execution_count": 26,
      "outputs": []
    },
    {
      "cell_type": "code",
      "source": [
        "correct, total = 0, 0\n",
        "list_pred, list_true = [], []\n",
        "\n",
        "with torch.no_grad():\n",
        "  for (X, y) in test_loader:\n",
        "    X, y = X.to(DEVICE), y.to(DEVICE)\n",
        "\n",
        "    output = NN_optuna(X)\n",
        "    pred = output.argmax(dim = 1, keepdim = True)\n",
        "    list_pred.append(pred.cpu().numpy())\n",
        "    list_true.append(y.cpu().numpy())\n",
        "    correct += pred.eq(y.view_as(pred)).sum().item()\n",
        "accuracy = correct / len(test_loader.dataset)\n",
        "print(f'Accuracy: {accuracy:>0.4f} %')"
      ],
      "metadata": {
        "colab": {
          "base_uri": "https://localhost:8080/"
        },
        "id": "zYTTOyIAeULq",
        "outputId": "18130599-5e67-4ea0-91ac-c25b51a2d28a"
      },
      "execution_count": 27,
      "outputs": [
        {
          "output_type": "stream",
          "name": "stdout",
          "text": [
            "Accuracy: 0.3228 %\n"
          ]
        }
      ]
    },
    {
      "cell_type": "code",
      "source": [
        "list_pred = np.concatenate(list_pred)\n",
        "list_pred = np.hstack(list_pred).tolist()\n",
        "list_true = np.concatenate(list_true)\n",
        "list_true = np.hstack(list_true).tolist()"
      ],
      "metadata": {
        "id": "E44EAcF4Eo_Z"
      },
      "execution_count": 28,
      "outputs": []
    },
    {
      "cell_type": "code",
      "source": [
        "cm = confusion_matrix(list_pred, list_true)\n",
        "cm"
      ],
      "metadata": {
        "colab": {
          "base_uri": "https://localhost:8080/"
        },
        "id": "fj8bCnaUEpL9",
        "outputId": "c3b7c3d1-8bb8-4d49-84c0-7072a261cc4c"
      },
      "execution_count": 29,
      "outputs": [
        {
          "output_type": "execute_result",
          "data": {
            "text/plain": [
              "array([[4357, 4711, 5025],\n",
              "       [ 641,  677,  149],\n",
              "       [ 116,   93,   82]])"
            ]
          },
          "metadata": {},
          "execution_count": 29
        }
      ]
    },
    {
      "cell_type": "code",
      "source": [
        "disp = ConfusionMatrixDisplay(confusion_matrix = cm, display_labels = ['No activity', 'Walk', 'Run'])\n",
        "disp.plot()"
      ],
      "metadata": {
        "colab": {
          "base_uri": "https://localhost:8080/",
          "height": 470
        },
        "id": "KkbPbkznEpTO",
        "outputId": "e93b65f0-1ba0-4048-f743-0be79f60fa2d"
      },
      "execution_count": 30,
      "outputs": [
        {
          "output_type": "execute_result",
          "data": {
            "text/plain": [
              "<sklearn.metrics._plot.confusion_matrix.ConfusionMatrixDisplay at 0x7fae293023b0>"
            ]
          },
          "metadata": {},
          "execution_count": 30
        },
        {
          "output_type": "display_data",
          "data": {
            "text/plain": [
              "<Figure size 640x480 with 2 Axes>"
            ],
            "image/png": "[encoded data removed]"
          },
          "metadata": {}
        }
      ]
    }
  ]
}