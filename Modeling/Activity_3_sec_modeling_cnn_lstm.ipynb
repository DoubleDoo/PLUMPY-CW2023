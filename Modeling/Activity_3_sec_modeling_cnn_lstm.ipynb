{
  "nbformat": 4,
  "nbformat_minor": 0,
  "metadata": {
    "colab": {
      "provenance": [],
      "machine_shape": "hm",
      "gpuType": "V100"
    },
    "kernelspec": {
      "name": "python3",
      "display_name": "Python 3"
    },
    "language_info": {
      "name": "python"
    },
    "accelerator": "GPU"
  },
  "cells": [
    {
      "cell_type": "code",
      "execution_count": null,
      "metadata": {
        "id": "wQWxI8_SdYra"
      },
      "outputs": [],
      "source": [
        "import numpy as np\n",
        "import pandas as pd\n",
        "from tqdm import tqdm\n",
        "from copy import deepcopy\n",
        "import matplotlib.pyplot as plt\n",
        "\n",
        "import warnings\n",
        "warnings.filterwarnings('ignore')\n",
        "\n",
        "from sklearn.model_selection import train_test_split, KFold\n",
        "from sklearn.metrics import accuracy_score, balanced_accuracy_score, confusion_matrix, ConfusionMatrixDisplay, f1_score, roc_auc_score, matthews_corrcoef\n",
        "from sklearn.preprocessing import MinMaxScaler\n",
        "\n",
        "import torch\n",
        "import torch.nn as nn\n",
        "import torch.optim as optim\n",
        "from torch.utils.data import Dataset, DataLoader\n",
        "from torch.utils.mobile_optimizer import optimize_for_mobile"
      ]
    },
    {
      "cell_type": "code",
      "source": [
        "df = pd.read_csv('sample_data/final_df_activity_v2.csv')\n",
        "df"
      ],
      "metadata": {
        "colab": {
          "base_uri": "https://localhost:8080/",
          "height": 424
        },
        "id": "mIr6i0EzdrXk",
        "outputId": "6557ad2b-11c4-4420-bc0e-3c5855c2a342"
      },
      "execution_count": null,
      "outputs": [
        {
          "output_type": "execute_result",
          "data": {
            "text/plain": [
              "       gyro_x  gyro_y  gyro_z  acceleration_x  acceleration_y  acceleration_z  \\\n",
              "0         181   -3007    2892               5              -7              -2   \n",
              "1         185   -3010    2878               6              -7              -2   \n",
              "2         187   -3012    2892               6              -7              -2   \n",
              "3         186   -3009    2887               6              -7              -2   \n",
              "4         184   -3011    2888               6              -7              -2   \n",
              "...       ...     ...     ...             ...             ...             ...   \n",
              "52831   -4116   -1226     746            -174            -183              34   \n",
              "52832   -3750   -1417     789            -325             -36             -87   \n",
              "52833   -3811   -1375     806             311              90            -139   \n",
              "52834   -3775   -1227     902              19              34              62   \n",
              "52835   -3827   -1351     956              -6              23              50   \n",
              "\n",
              "       target  \n",
              "0           0  \n",
              "1           0  \n",
              "2           0  \n",
              "3           0  \n",
              "4           0  \n",
              "...       ...  \n",
              "52831       2  \n",
              "52832       2  \n",
              "52833       2  \n",
              "52834       2  \n",
              "52835       2  \n",
              "\n",
              "[52836 rows x 7 columns]"
            ],
            "text/html": [
              "\n",
              "  <div id=\"df-abac9b37-a702-42f5-a89b-76d41ee548b6\">\n",
              "    <div class=\"colab-df-container\">\n",
              "      <div>\n",
              "<style scoped>\n",
              "    .dataframe tbody tr th:only-of-type {\n",
              "        vertical-align: middle;\n",
              "    }\n",
              "\n",
              "    .dataframe tbody tr th {\n",
              "        vertical-align: top;\n",
              "    }\n",
              "\n",
              "    .dataframe thead th {\n",
              "        text-align: right;\n",
              "    }\n",
              "</style>\n",
              "<table border=\"1\" class=\"dataframe\">\n",
              "  <thead>\n",
              "    <tr style=\"text-align: right;\">\n",
              "      <th></th>\n",
              "      <th>gyro_x</th>\n",
              "      <th>gyro_y</th>\n",
              "      <th>gyro_z</th>\n",
              "      <th>acceleration_x</th>\n",
              "      <th>acceleration_y</th>\n",
              "      <th>acceleration_z</th>\n",
              "      <th>target</th>\n",
              "    </tr>\n",
              "  </thead>\n",
              "  <tbody>\n",
              "    <tr>\n",
              "      <th>0</th>\n",
              "      <td>181</td>\n",
              "      <td>-3007</td>\n",
              "      <td>2892</td>\n",
              "      <td>5</td>\n",
              "      <td>-7</td>\n",
              "      <td>-2</td>\n",
              "      <td>0</td>\n",
              "    </tr>\n",
              "    <tr>\n",
              "      <th>1</th>\n",
              "      <td>185</td>\n",
              "      <td>-3010</td>\n",
              "      <td>2878</td>\n",
              "      <td>6</td>\n",
              "      <td>-7</td>\n",
              "      <td>-2</td>\n",
              "      <td>0</td>\n",
              "    </tr>\n",
              "    <tr>\n",
              "      <th>2</th>\n",
              "      <td>187</td>\n",
              "      <td>-3012</td>\n",
              "      <td>2892</td>\n",
              "      <td>6</td>\n",
              "      <td>-7</td>\n",
              "      <td>-2</td>\n",
              "      <td>0</td>\n",
              "    </tr>\n",
              "    <tr>\n",
              "      <th>3</th>\n",
              "      <td>186</td>\n",
              "      <td>-3009</td>\n",
              "      <td>2887</td>\n",
              "      <td>6</td>\n",
              "      <td>-7</td>\n",
              "      <td>-2</td>\n",
              "      <td>0</td>\n",
              "    </tr>\n",
              "    <tr>\n",
              "      <th>4</th>\n",
              "      <td>184</td>\n",
              "      <td>-3011</td>\n",
              "      <td>2888</td>\n",
              "      <td>6</td>\n",
              "      <td>-7</td>\n",
              "      <td>-2</td>\n",
              "      <td>0</td>\n",
              "    </tr>\n",
              "    <tr>\n",
              "      <th>...</th>\n",
              "      <td>...</td>\n",
              "      <td>...</td>\n",
              "      <td>...</td>\n",
              "      <td>...</td>\n",
              "      <td>...</td>\n",
              "      <td>...</td>\n",
              "      <td>...</td>\n",
              "    </tr>\n",
              "    <tr>\n",
              "      <th>52831</th>\n",
              "      <td>-4116</td>\n",
              "      <td>-1226</td>\n",
              "      <td>746</td>\n",
              "      <td>-174</td>\n",
              "      <td>-183</td>\n",
              "      <td>34</td>\n",
              "      <td>2</td>\n",
              "    </tr>\n",
              "    <tr>\n",
              "      <th>52832</th>\n",
              "      <td>-3750</td>\n",
              "      <td>-1417</td>\n",
              "      <td>789</td>\n",
              "      <td>-325</td>\n",
              "      <td>-36</td>\n",
              "      <td>-87</td>\n",
              "      <td>2</td>\n",
              "    </tr>\n",
              "    <tr>\n",
              "      <th>52833</th>\n",
              "      <td>-3811</td>\n",
              "      <td>-1375</td>\n",
              "      <td>806</td>\n",
              "      <td>311</td>\n",
              "      <td>90</td>\n",
              "      <td>-139</td>\n",
              "      <td>2</td>\n",
              "    </tr>\n",
              "    <tr>\n",
              "      <th>52834</th>\n",
              "      <td>-3775</td>\n",
              "      <td>-1227</td>\n",
              "      <td>902</td>\n",
              "      <td>19</td>\n",
              "      <td>34</td>\n",
              "      <td>62</td>\n",
              "      <td>2</td>\n",
              "    </tr>\n",
              "    <tr>\n",
              "      <th>52835</th>\n",
              "      <td>-3827</td>\n",
              "      <td>-1351</td>\n",
              "      <td>956</td>\n",
              "      <td>-6</td>\n",
              "      <td>23</td>\n",
              "      <td>50</td>\n",
              "      <td>2</td>\n",
              "    </tr>\n",
              "  </tbody>\n",
              "</table>\n",
              "<p>52836 rows × 7 columns</p>\n",
              "</div>\n",
              "      <button class=\"colab-df-convert\" onclick=\"convertToInteractive('df-abac9b37-a702-42f5-a89b-76d41ee548b6')\"\n",
              "              title=\"Convert this dataframe to an interactive table.\"\n",
              "              style=\"display:none;\">\n",
              "        \n",
              "  <svg xmlns=\"http://www.w3.org/2000/svg\" height=\"24px\"viewBox=\"0 0 24 24\"\n",
              "       width=\"24px\">\n",
              "    <path d=\"M0 0h24v24H0V0z\" fill=\"none\"/>\n",
              "    <path d=\"M18.56 5.44l.94 2.06.94-2.06 2.06-.94-2.06-.94-.94-2.06-.94 2.06-2.06.94zm-11 1L8.5 8.5l.94-2.06 2.06-.94-2.06-.94L8.5 2.5l-.94 2.06-2.06.94zm10 10l.94 2.06.94-2.06 2.06-.94-2.06-.94-.94-2.06-.94 2.06-2.06.94z\"/><path d=\"M17.41 7.96l-1.37-1.37c-.4-.4-.92-.59-1.43-.59-.52 0-1.04.2-1.43.59L10.3 9.45l-7.72 7.72c-.78.78-.78 2.05 0 2.83L4 21.41c.39.39.9.59 1.41.59.51 0 1.02-.2 1.41-.59l7.78-7.78 2.81-2.81c.8-.78.8-2.07 0-2.86zM5.41 20L4 18.59l7.72-7.72 1.47 1.35L5.41 20z\"/>\n",
              "  </svg>\n",
              "      </button>\n",
              "      \n",
              "  <style>\n",
              "    .colab-df-container {\n",
              "      display:flex;\n",
              "      flex-wrap:wrap;\n",
              "      gap: 12px;\n",
              "    }\n",
              "\n",
              "    .colab-df-convert {\n",
              "      background-color: #E8F0FE;\n",
              "      border: none;\n",
              "      border-radius: 50%;\n",
              "      cursor: pointer;\n",
              "      display: none;\n",
              "      fill: #1967D2;\n",
              "      height: 32px;\n",
              "      padding: 0 0 0 0;\n",
              "      width: 32px;\n",
              "    }\n",
              "\n",
              "    .colab-df-convert:hover {\n",
              "      background-color: #E2EBFA;\n",
              "      box-shadow: 0px 1px 2px rgba(60, 64, 67, 0.3), 0px 1px 3px 1px rgba(60, 64, 67, 0.15);\n",
              "      fill: #174EA6;\n",
              "    }\n",
              "\n",
              "    [theme=dark] .colab-df-convert {\n",
              "      background-color: #3B4455;\n",
              "      fill: #D2E3FC;\n",
              "    }\n",
              "\n",
              "    [theme=dark] .colab-df-convert:hover {\n",
              "      background-color: #434B5C;\n",
              "      box-shadow: 0px 1px 3px 1px rgba(0, 0, 0, 0.15);\n",
              "      filter: drop-shadow(0px 1px 2px rgba(0, 0, 0, 0.3));\n",
              "      fill: #FFFFFF;\n",
              "    }\n",
              "  </style>\n",
              "\n",
              "      <script>\n",
              "        const buttonEl =\n",
              "          document.querySelector('#df-abac9b37-a702-42f5-a89b-76d41ee548b6 button.colab-df-convert');\n",
              "        buttonEl.style.display =\n",
              "          google.colab.kernel.accessAllowed ? 'block' : 'none';\n",
              "\n",
              "        async function convertToInteractive(key) {\n",
              "          const element = document.querySelector('#df-abac9b37-a702-42f5-a89b-76d41ee548b6');\n",
              "          const dataTable =\n",
              "            await google.colab.kernel.invokeFunction('convertToInteractive',\n",
              "                                                     [key], {});\n",
              "          if (!dataTable) return;\n",
              "\n",
              "          const docLinkHtml = 'Like what you see? Visit the ' +\n",
              "            '<a target=\"_blank\" href=https://colab.research.google.com/notebooks/data_table.ipynb>data table notebook</a>'\n",
              "            + ' to learn more about interactive tables.';\n",
              "          element.innerHTML = '';\n",
              "          dataTable['output_type'] = 'display_data';\n",
              "          await google.colab.output.renderOutput(dataTable, element);\n",
              "          const docLink = document.createElement('div');\n",
              "          docLink.innerHTML = docLinkHtml;\n",
              "          element.appendChild(docLink);\n",
              "        }\n",
              "      </script>\n",
              "    </div>\n",
              "  </div>\n",
              "  "
            ]
          },
          "metadata": {},
          "execution_count": 340
        }
      ]
    },
    {
      "cell_type": "code",
      "source": [
        "df['target'].value_counts()"
      ],
      "metadata": {
        "colab": {
          "base_uri": "https://localhost:8080/"
        },
        "id": "wdAryGE2g3Xl",
        "outputId": "86d349ca-83f0-430e-a33f-7179f5f41af5"
      },
      "execution_count": null,
      "outputs": [
        {
          "output_type": "execute_result",
          "data": {
            "text/plain": [
              "1    18420\n",
              "2    17574\n",
              "0    16842\n",
              "Name: target, dtype: int64"
            ]
          },
          "metadata": {},
          "execution_count": 341
        }
      ]
    },
    {
      "cell_type": "code",
      "source": [
        "df.describe()"
      ],
      "metadata": {
        "colab": {
          "base_uri": "https://localhost:8080/",
          "height": 301
        },
        "id": "ctL4C__I_zdO",
        "outputId": "97e8d554-f46f-47e5-b802-69a6f0e696fd"
      },
      "execution_count": null,
      "outputs": [
        {
          "output_type": "execute_result",
          "data": {
            "text/plain": [
              "             gyro_x        gyro_y        gyro_z  acceleration_x  \\\n",
              "count  52836.000000  52836.000000  52836.000000    52836.000000   \n",
              "mean   -1469.552483  -1616.591680    415.911102      -27.138069   \n",
              "std     3269.097115   3338.927476   1963.910800      872.232667   \n",
              "min   -32764.000000 -32679.000000 -14423.000000   -11072.000000   \n",
              "25%    -3851.000000  -2357.000000   -518.000000     -295.000000   \n",
              "50%    -1972.000000  -1141.000000    489.000000        6.000000   \n",
              "75%     1478.000000    229.000000   1408.000000      294.000000   \n",
              "max    12694.000000  22360.000000   9242.000000    10497.000000   \n",
              "\n",
              "       acceleration_y  acceleration_z        target  \n",
              "count    52836.000000    52836.000000  52836.000000  \n",
              "mean       -11.047808        9.825327      1.013854  \n",
              "std       1134.450965     1361.551947      0.806966  \n",
              "min      -5857.000000   -12018.000000      0.000000  \n",
              "25%       -262.000000     -230.000000      0.000000  \n",
              "50%         -7.000000        0.000000      1.000000  \n",
              "75%        243.000000      219.250000      2.000000  \n",
              "max       5605.000000    14226.000000      2.000000  "
            ],
            "text/html": [
              "\n",
              "  <div id=\"df-76a5215b-c03a-467c-b564-aff599235526\">\n",
              "    <div class=\"colab-df-container\">\n",
              "      <div>\n",
              "<style scoped>\n",
              "    .dataframe tbody tr th:only-of-type {\n",
              "        vertical-align: middle;\n",
              "    }\n",
              "\n",
              "    .dataframe tbody tr th {\n",
              "        vertical-align: top;\n",
              "    }\n",
              "\n",
              "    .dataframe thead th {\n",
              "        text-align: right;\n",
              "    }\n",
              "</style>\n",
              "<table border=\"1\" class=\"dataframe\">\n",
              "  <thead>\n",
              "    <tr style=\"text-align: right;\">\n",
              "      <th></th>\n",
              "      <th>gyro_x</th>\n",
              "      <th>gyro_y</th>\n",
              "      <th>gyro_z</th>\n",
              "      <th>acceleration_x</th>\n",
              "      <th>acceleration_y</th>\n",
              "      <th>acceleration_z</th>\n",
              "      <th>target</th>\n",
              "    </tr>\n",
              "  </thead>\n",
              "  <tbody>\n",
              "    <tr>\n",
              "      <th>count</th>\n",
              "      <td>52836.000000</td>\n",
              "      <td>52836.000000</td>\n",
              "      <td>52836.000000</td>\n",
              "      <td>52836.000000</td>\n",
              "      <td>52836.000000</td>\n",
              "      <td>52836.000000</td>\n",
              "      <td>52836.000000</td>\n",
              "    </tr>\n",
              "    <tr>\n",
              "      <th>mean</th>\n",
              "      <td>-1469.552483</td>\n",
              "      <td>-1616.591680</td>\n",
              "      <td>415.911102</td>\n",
              "      <td>-27.138069</td>\n",
              "      <td>-11.047808</td>\n",
              "      <td>9.825327</td>\n",
              "      <td>1.013854</td>\n",
              "    </tr>\n",
              "    <tr>\n",
              "      <th>std</th>\n",
              "      <td>3269.097115</td>\n",
              "      <td>3338.927476</td>\n",
              "      <td>1963.910800</td>\n",
              "      <td>872.232667</td>\n",
              "      <td>1134.450965</td>\n",
              "      <td>1361.551947</td>\n",
              "      <td>0.806966</td>\n",
              "    </tr>\n",
              "    <tr>\n",
              "      <th>min</th>\n",
              "      <td>-32764.000000</td>\n",
              "      <td>-32679.000000</td>\n",
              "      <td>-14423.000000</td>\n",
              "      <td>-11072.000000</td>\n",
              "      <td>-5857.000000</td>\n",
              "      <td>-12018.000000</td>\n",
              "      <td>0.000000</td>\n",
              "    </tr>\n",
              "    <tr>\n",
              "      <th>25%</th>\n",
              "      <td>-3851.000000</td>\n",
              "      <td>-2357.000000</td>\n",
              "      <td>-518.000000</td>\n",
              "      <td>-295.000000</td>\n",
              "      <td>-262.000000</td>\n",
              "      <td>-230.000000</td>\n",
              "      <td>0.000000</td>\n",
              "    </tr>\n",
              "    <tr>\n",
              "      <th>50%</th>\n",
              "      <td>-1972.000000</td>\n",
              "      <td>-1141.000000</td>\n",
              "      <td>489.000000</td>\n",
              "      <td>6.000000</td>\n",
              "      <td>-7.000000</td>\n",
              "      <td>0.000000</td>\n",
              "      <td>1.000000</td>\n",
              "    </tr>\n",
              "    <tr>\n",
              "      <th>75%</th>\n",
              "      <td>1478.000000</td>\n",
              "      <td>229.000000</td>\n",
              "      <td>1408.000000</td>\n",
              "      <td>294.000000</td>\n",
              "      <td>243.000000</td>\n",
              "      <td>219.250000</td>\n",
              "      <td>2.000000</td>\n",
              "    </tr>\n",
              "    <tr>\n",
              "      <th>max</th>\n",
              "      <td>12694.000000</td>\n",
              "      <td>22360.000000</td>\n",
              "      <td>9242.000000</td>\n",
              "      <td>10497.000000</td>\n",
              "      <td>5605.000000</td>\n",
              "      <td>14226.000000</td>\n",
              "      <td>2.000000</td>\n",
              "    </tr>\n",
              "  </tbody>\n",
              "</table>\n",
              "</div>\n",
              "      <button class=\"colab-df-convert\" onclick=\"convertToInteractive('df-76a5215b-c03a-467c-b564-aff599235526')\"\n",
              "              title=\"Convert this dataframe to an interactive table.\"\n",
              "              style=\"display:none;\">\n",
              "        \n",
              "  <svg xmlns=\"http://www.w3.org/2000/svg\" height=\"24px\"viewBox=\"0 0 24 24\"\n",
              "       width=\"24px\">\n",
              "    <path d=\"M0 0h24v24H0V0z\" fill=\"none\"/>\n",
              "    <path d=\"M18.56 5.44l.94 2.06.94-2.06 2.06-.94-2.06-.94-.94-2.06-.94 2.06-2.06.94zm-11 1L8.5 8.5l.94-2.06 2.06-.94-2.06-.94L8.5 2.5l-.94 2.06-2.06.94zm10 10l.94 2.06.94-2.06 2.06-.94-2.06-.94-.94-2.06-.94 2.06-2.06.94z\"/><path d=\"M17.41 7.96l-1.37-1.37c-.4-.4-.92-.59-1.43-.59-.52 0-1.04.2-1.43.59L10.3 9.45l-7.72 7.72c-.78.78-.78 2.05 0 2.83L4 21.41c.39.39.9.59 1.41.59.51 0 1.02-.2 1.41-.59l7.78-7.78 2.81-2.81c.8-.78.8-2.07 0-2.86zM5.41 20L4 18.59l7.72-7.72 1.47 1.35L5.41 20z\"/>\n",
              "  </svg>\n",
              "      </button>\n",
              "      \n",
              "  <style>\n",
              "    .colab-df-container {\n",
              "      display:flex;\n",
              "      flex-wrap:wrap;\n",
              "      gap: 12px;\n",
              "    }\n",
              "\n",
              "    .colab-df-convert {\n",
              "      background-color: #E8F0FE;\n",
              "      border: none;\n",
              "      border-radius: 50%;\n",
              "      cursor: pointer;\n",
              "      display: none;\n",
              "      fill: #1967D2;\n",
              "      height: 32px;\n",
              "      padding: 0 0 0 0;\n",
              "      width: 32px;\n",
              "    }\n",
              "\n",
              "    .colab-df-convert:hover {\n",
              "      background-color: #E2EBFA;\n",
              "      box-shadow: 0px 1px 2px rgba(60, 64, 67, 0.3), 0px 1px 3px 1px rgba(60, 64, 67, 0.15);\n",
              "      fill: #174EA6;\n",
              "    }\n",
              "\n",
              "    [theme=dark] .colab-df-convert {\n",
              "      background-color: #3B4455;\n",
              "      fill: #D2E3FC;\n",
              "    }\n",
              "\n",
              "    [theme=dark] .colab-df-convert:hover {\n",
              "      background-color: #434B5C;\n",
              "      box-shadow: 0px 1px 3px 1px rgba(0, 0, 0, 0.15);\n",
              "      filter: drop-shadow(0px 1px 2px rgba(0, 0, 0, 0.3));\n",
              "      fill: #FFFFFF;\n",
              "    }\n",
              "  </style>\n",
              "\n",
              "      <script>\n",
              "        const buttonEl =\n",
              "          document.querySelector('#df-76a5215b-c03a-467c-b564-aff599235526 button.colab-df-convert');\n",
              "        buttonEl.style.display =\n",
              "          google.colab.kernel.accessAllowed ? 'block' : 'none';\n",
              "\n",
              "        async function convertToInteractive(key) {\n",
              "          const element = document.querySelector('#df-76a5215b-c03a-467c-b564-aff599235526');\n",
              "          const dataTable =\n",
              "            await google.colab.kernel.invokeFunction('convertToInteractive',\n",
              "                                                     [key], {});\n",
              "          if (!dataTable) return;\n",
              "\n",
              "          const docLinkHtml = 'Like what you see? Visit the ' +\n",
              "            '<a target=\"_blank\" href=https://colab.research.google.com/notebooks/data_table.ipynb>data table notebook</a>'\n",
              "            + ' to learn more about interactive tables.';\n",
              "          element.innerHTML = '';\n",
              "          dataTable['output_type'] = 'display_data';\n",
              "          await google.colab.output.renderOutput(dataTable, element);\n",
              "          const docLink = document.createElement('div');\n",
              "          docLink.innerHTML = docLinkHtml;\n",
              "          element.appendChild(docLink);\n",
              "        }\n",
              "      </script>\n",
              "    </div>\n",
              "  </div>\n",
              "  "
            ]
          },
          "metadata": {},
          "execution_count": 347
        }
      ]
    },
    {
      "cell_type": "code",
      "source": [
        "names = df.columns\n",
        "scaler = MinMaxScaler()\n",
        "\n",
        "sc = scaler.fit_transform(df.iloc[:, :-1])\n",
        "scaled_df = pd.DataFrame(sc, columns = names[:-1])\n",
        "scaled_df['target'] = df['target']\n",
        "scaled_df"
      ],
      "metadata": {
        "colab": {
          "base_uri": "https://localhost:8080/",
          "height": 424
        },
        "id": "IQQdjXmT7lBA",
        "outputId": "b9e0cdcf-1514-4408-9949-71a877a114c7"
      },
      "execution_count": null,
      "outputs": [
        {
          "output_type": "execute_result",
          "data": {
            "text/plain": [
              "         gyro_x    gyro_y    gyro_z  acceleration_x  acceleration_y  \\\n",
              "0      0.724735  0.539109  0.731671        0.513561        0.510382   \n",
              "1      0.724823  0.539054  0.731080        0.513607        0.510382   \n",
              "2      0.724867  0.539018  0.731671        0.513607        0.510382   \n",
              "3      0.724845  0.539072  0.731460        0.513607        0.510382   \n",
              "4      0.724801  0.539036  0.731502        0.513607        0.510382   \n",
              "...         ...       ...       ...             ...             ...   \n",
              "52831  0.630208  0.571468  0.640989        0.505262        0.495027   \n",
              "52832  0.638259  0.567997  0.642806        0.498261        0.507852   \n",
              "52833  0.636918  0.568760  0.643524        0.527748        0.518845   \n",
              "52834  0.637710  0.571449  0.647581        0.514210        0.513959   \n",
              "52835  0.636566  0.569196  0.649863        0.513051        0.512999   \n",
              "\n",
              "       acceleration_z  target  \n",
              "0            0.457857       0  \n",
              "1            0.457857       0  \n",
              "2            0.457857       0  \n",
              "3            0.457857       0  \n",
              "4            0.457857       0  \n",
              "...               ...     ...  \n",
              "52831        0.459229       2  \n",
              "52832        0.454618       2  \n",
              "52833        0.452637       2  \n",
              "52834        0.460296       2  \n",
              "52835        0.459838       2  \n",
              "\n",
              "[52836 rows x 7 columns]"
            ],
            "text/html": [
              "\n",
              "  <div id=\"df-e96bddbc-e222-4cdf-9ec7-70d1d313d4cc\">\n",
              "    <div class=\"colab-df-container\">\n",
              "      <div>\n",
              "<style scoped>\n",
              "    .dataframe tbody tr th:only-of-type {\n",
              "        vertical-align: middle;\n",
              "    }\n",
              "\n",
              "    .dataframe tbody tr th {\n",
              "        vertical-align: top;\n",
              "    }\n",
              "\n",
              "    .dataframe thead th {\n",
              "        text-align: right;\n",
              "    }\n",
              "</style>\n",
              "<table border=\"1\" class=\"dataframe\">\n",
              "  <thead>\n",
              "    <tr style=\"text-align: right;\">\n",
              "      <th></th>\n",
              "      <th>gyro_x</th>\n",
              "      <th>gyro_y</th>\n",
              "      <th>gyro_z</th>\n",
              "      <th>acceleration_x</th>\n",
              "      <th>acceleration_y</th>\n",
              "      <th>acceleration_z</th>\n",
              "      <th>target</th>\n",
              "    </tr>\n",
              "  </thead>\n",
              "  <tbody>\n",
              "    <tr>\n",
              "      <th>0</th>\n",
              "      <td>0.724735</td>\n",
              "      <td>0.539109</td>\n",
              "      <td>0.731671</td>\n",
              "      <td>0.513561</td>\n",
              "      <td>0.510382</td>\n",
              "      <td>0.457857</td>\n",
              "      <td>0</td>\n",
              "    </tr>\n",
              "    <tr>\n",
              "      <th>1</th>\n",
              "      <td>0.724823</td>\n",
              "      <td>0.539054</td>\n",
              "      <td>0.731080</td>\n",
              "      <td>0.513607</td>\n",
              "      <td>0.510382</td>\n",
              "      <td>0.457857</td>\n",
              "      <td>0</td>\n",
              "    </tr>\n",
              "    <tr>\n",
              "      <th>2</th>\n",
              "      <td>0.724867</td>\n",
              "      <td>0.539018</td>\n",
              "      <td>0.731671</td>\n",
              "      <td>0.513607</td>\n",
              "      <td>0.510382</td>\n",
              "      <td>0.457857</td>\n",
              "      <td>0</td>\n",
              "    </tr>\n",
              "    <tr>\n",
              "      <th>3</th>\n",
              "      <td>0.724845</td>\n",
              "      <td>0.539072</td>\n",
              "      <td>0.731460</td>\n",
              "      <td>0.513607</td>\n",
              "      <td>0.510382</td>\n",
              "      <td>0.457857</td>\n",
              "      <td>0</td>\n",
              "    </tr>\n",
              "    <tr>\n",
              "      <th>4</th>\n",
              "      <td>0.724801</td>\n",
              "      <td>0.539036</td>\n",
              "      <td>0.731502</td>\n",
              "      <td>0.513607</td>\n",
              "      <td>0.510382</td>\n",
              "      <td>0.457857</td>\n",
              "      <td>0</td>\n",
              "    </tr>\n",
              "    <tr>\n",
              "      <th>...</th>\n",
              "      <td>...</td>\n",
              "      <td>...</td>\n",
              "      <td>...</td>\n",
              "      <td>...</td>\n",
              "      <td>...</td>\n",
              "      <td>...</td>\n",
              "      <td>...</td>\n",
              "    </tr>\n",
              "    <tr>\n",
              "      <th>52831</th>\n",
              "      <td>0.630208</td>\n",
              "      <td>0.571468</td>\n",
              "      <td>0.640989</td>\n",
              "      <td>0.505262</td>\n",
              "      <td>0.495027</td>\n",
              "      <td>0.459229</td>\n",
              "      <td>2</td>\n",
              "    </tr>\n",
              "    <tr>\n",
              "      <th>52832</th>\n",
              "      <td>0.638259</td>\n",
              "      <td>0.567997</td>\n",
              "      <td>0.642806</td>\n",
              "      <td>0.498261</td>\n",
              "      <td>0.507852</td>\n",
              "      <td>0.454618</td>\n",
              "      <td>2</td>\n",
              "    </tr>\n",
              "    <tr>\n",
              "      <th>52833</th>\n",
              "      <td>0.636918</td>\n",
              "      <td>0.568760</td>\n",
              "      <td>0.643524</td>\n",
              "      <td>0.527748</td>\n",
              "      <td>0.518845</td>\n",
              "      <td>0.452637</td>\n",
              "      <td>2</td>\n",
              "    </tr>\n",
              "    <tr>\n",
              "      <th>52834</th>\n",
              "      <td>0.637710</td>\n",
              "      <td>0.571449</td>\n",
              "      <td>0.647581</td>\n",
              "      <td>0.514210</td>\n",
              "      <td>0.513959</td>\n",
              "      <td>0.460296</td>\n",
              "      <td>2</td>\n",
              "    </tr>\n",
              "    <tr>\n",
              "      <th>52835</th>\n",
              "      <td>0.636566</td>\n",
              "      <td>0.569196</td>\n",
              "      <td>0.649863</td>\n",
              "      <td>0.513051</td>\n",
              "      <td>0.512999</td>\n",
              "      <td>0.459838</td>\n",
              "      <td>2</td>\n",
              "    </tr>\n",
              "  </tbody>\n",
              "</table>\n",
              "<p>52836 rows × 7 columns</p>\n",
              "</div>\n",
              "      <button class=\"colab-df-convert\" onclick=\"convertToInteractive('df-e96bddbc-e222-4cdf-9ec7-70d1d313d4cc')\"\n",
              "              title=\"Convert this dataframe to an interactive table.\"\n",
              "              style=\"display:none;\">\n",
              "        \n",
              "  <svg xmlns=\"http://www.w3.org/2000/svg\" height=\"24px\"viewBox=\"0 0 24 24\"\n",
              "       width=\"24px\">\n",
              "    <path d=\"M0 0h24v24H0V0z\" fill=\"none\"/>\n",
              "    <path d=\"M18.56 5.44l.94 2.06.94-2.06 2.06-.94-2.06-.94-.94-2.06-.94 2.06-2.06.94zm-11 1L8.5 8.5l.94-2.06 2.06-.94-2.06-.94L8.5 2.5l-.94 2.06-2.06.94zm10 10l.94 2.06.94-2.06 2.06-.94-2.06-.94-.94-2.06-.94 2.06-2.06.94z\"/><path d=\"M17.41 7.96l-1.37-1.37c-.4-.4-.92-.59-1.43-.59-.52 0-1.04.2-1.43.59L10.3 9.45l-7.72 7.72c-.78.78-.78 2.05 0 2.83L4 21.41c.39.39.9.59 1.41.59.51 0 1.02-.2 1.41-.59l7.78-7.78 2.81-2.81c.8-.78.8-2.07 0-2.86zM5.41 20L4 18.59l7.72-7.72 1.47 1.35L5.41 20z\"/>\n",
              "  </svg>\n",
              "      </button>\n",
              "      \n",
              "  <style>\n",
              "    .colab-df-container {\n",
              "      display:flex;\n",
              "      flex-wrap:wrap;\n",
              "      gap: 12px;\n",
              "    }\n",
              "\n",
              "    .colab-df-convert {\n",
              "      background-color: #E8F0FE;\n",
              "      border: none;\n",
              "      border-radius: 50%;\n",
              "      cursor: pointer;\n",
              "      display: none;\n",
              "      fill: #1967D2;\n",
              "      height: 32px;\n",
              "      padding: 0 0 0 0;\n",
              "      width: 32px;\n",
              "    }\n",
              "\n",
              "    .colab-df-convert:hover {\n",
              "      background-color: #E2EBFA;\n",
              "      box-shadow: 0px 1px 2px rgba(60, 64, 67, 0.3), 0px 1px 3px 1px rgba(60, 64, 67, 0.15);\n",
              "      fill: #174EA6;\n",
              "    }\n",
              "\n",
              "    [theme=dark] .colab-df-convert {\n",
              "      background-color: #3B4455;\n",
              "      fill: #D2E3FC;\n",
              "    }\n",
              "\n",
              "    [theme=dark] .colab-df-convert:hover {\n",
              "      background-color: #434B5C;\n",
              "      box-shadow: 0px 1px 3px 1px rgba(0, 0, 0, 0.15);\n",
              "      filter: drop-shadow(0px 1px 2px rgba(0, 0, 0, 0.3));\n",
              "      fill: #FFFFFF;\n",
              "    }\n",
              "  </style>\n",
              "\n",
              "      <script>\n",
              "        const buttonEl =\n",
              "          document.querySelector('#df-e96bddbc-e222-4cdf-9ec7-70d1d313d4cc button.colab-df-convert');\n",
              "        buttonEl.style.display =\n",
              "          google.colab.kernel.accessAllowed ? 'block' : 'none';\n",
              "\n",
              "        async function convertToInteractive(key) {\n",
              "          const element = document.querySelector('#df-e96bddbc-e222-4cdf-9ec7-70d1d313d4cc');\n",
              "          const dataTable =\n",
              "            await google.colab.kernel.invokeFunction('convertToInteractive',\n",
              "                                                     [key], {});\n",
              "          if (!dataTable) return;\n",
              "\n",
              "          const docLinkHtml = 'Like what you see? Visit the ' +\n",
              "            '<a target=\"_blank\" href=https://colab.research.google.com/notebooks/data_table.ipynb>data table notebook</a>'\n",
              "            + ' to learn more about interactive tables.';\n",
              "          element.innerHTML = '';\n",
              "          dataTable['output_type'] = 'display_data';\n",
              "          await google.colab.output.renderOutput(dataTable, element);\n",
              "          const docLink = document.createElement('div');\n",
              "          docLink.innerHTML = docLinkHtml;\n",
              "          element.appendChild(docLink);\n",
              "        }\n",
              "      </script>\n",
              "    </div>\n",
              "  </div>\n",
              "  "
            ]
          },
          "metadata": {},
          "execution_count": 348
        }
      ]
    },
    {
      "cell_type": "code",
      "source": [
        "scaled_df['target'].value_counts()"
      ],
      "metadata": {
        "colab": {
          "base_uri": "https://localhost:8080/"
        },
        "id": "mIxeGeZfe5Tx",
        "outputId": "a1dff845-961e-487e-8a09-29cf2b6dc9de"
      },
      "execution_count": null,
      "outputs": [
        {
          "output_type": "execute_result",
          "data": {
            "text/plain": [
              "1    18420\n",
              "2    17574\n",
              "0    16842\n",
              "Name: target, dtype: int64"
            ]
          },
          "metadata": {},
          "execution_count": 350
        }
      ]
    },
    {
      "cell_type": "code",
      "source": [
        "def prepare_df(df, n_steps = 1):\n",
        "  df = deepcopy(df)\n",
        "\n",
        "  for i in range(1, n_steps + 1):\n",
        "    df[f'acceleration_x(t-{i})'] = df['acceleration_x'].shift(i)\n",
        "    df[f'acceleration_y(t-{i})'] = df['acceleration_y'].shift(i)\n",
        "    df[f'acceleration_z(t-{i})'] = df['acceleration_z'].shift(i)\n",
        "    df[f'gyro_x(t-{i})'] = df['gyro_x'].shift(i)\n",
        "    df[f'gyro_y(t-{i})'] = df['gyro_y'].shift(i)\n",
        "    df[f'gyro_z(t-{i})'] = df['gyro_z'].shift(i)\n",
        "\n",
        "  df.dropna(inplace = True)\n",
        "  df = df.reset_index(drop = True)\n",
        "\n",
        "  return df"
      ],
      "metadata": {
        "id": "b2uNs-njeApr"
      },
      "execution_count": null,
      "outputs": []
    },
    {
      "cell_type": "code",
      "source": [
        "shifted_df = prepare_df(scaled_df, 38)\n",
        "shifted_df"
      ],
      "metadata": {
        "colab": {
          "base_uri": "https://localhost:8080/",
          "height": 505
        },
        "id": "yvCSSdS3ejxP",
        "outputId": "813ce5be-7da4-4cc1-953d-207eb1ef3035"
      },
      "execution_count": null,
      "outputs": [
        {
          "output_type": "execute_result",
          "data": {
            "text/plain": [
              "         gyro_x    gyro_y    gyro_z  acceleration_x  acceleration_y  \\\n",
              "0      0.636368  0.572939  0.655694        0.513005        0.510993   \n",
              "1      0.635994  0.572612  0.655863        0.514952        0.512214   \n",
              "2      0.636368  0.572412  0.656243        0.515323        0.511516   \n",
              "3      0.635708  0.572485  0.654976        0.512495        0.509771   \n",
              "4      0.635774  0.573048  0.654764        0.513978        0.510295   \n",
              "...         ...       ...       ...             ...             ...   \n",
              "52793  0.630208  0.571468  0.640989        0.505262        0.495027   \n",
              "52794  0.638259  0.567997  0.642806        0.498261        0.507852   \n",
              "52795  0.636918  0.568760  0.643524        0.527748        0.518845   \n",
              "52796  0.637710  0.571449  0.647581        0.514210        0.513959   \n",
              "52797  0.636566  0.569196  0.649863        0.513051        0.512999   \n",
              "\n",
              "       acceleration_z  target  acceleration_x(t-1)  acceleration_y(t-1)  \\\n",
              "0            0.457895       0             0.512773             0.509684   \n",
              "1            0.458276       0             0.513005             0.510993   \n",
              "2            0.458657       0             0.514952             0.512214   \n",
              "3            0.457743       0             0.515323             0.511516   \n",
              "4            0.457590       0             0.512495             0.509771   \n",
              "...               ...     ...                  ...                  ...   \n",
              "52793        0.459229       2             0.514535             0.503315   \n",
              "52794        0.454618       2             0.505262             0.495027   \n",
              "52795        0.452637       2             0.498261             0.507852   \n",
              "52796        0.460296       2             0.527748             0.518845   \n",
              "52797        0.459838       2             0.514210             0.513959   \n",
              "\n",
              "       acceleration_z(t-1)  ...  acceleration_z(t-37)  gyro_x(t-37)  \\\n",
              "0                 0.457324  ...              0.457857      0.724823   \n",
              "1                 0.457895  ...              0.457857      0.724867   \n",
              "2                 0.458276  ...              0.457857      0.724845   \n",
              "3                 0.458657  ...              0.457857      0.724801   \n",
              "4                 0.457743  ...              0.457857      0.724801   \n",
              "...                    ...  ...                   ...           ...   \n",
              "52793             0.456638  ...              0.450351      0.642175   \n",
              "52794             0.459229  ...              0.461591      0.641449   \n",
              "52795             0.454618  ...              0.474204      0.639887   \n",
              "52796             0.452637  ...              0.476185      0.636390   \n",
              "52797             0.460296  ...              0.476376      0.637182   \n",
              "\n",
              "       gyro_y(t-37)  gyro_z(t-37)  acceleration_x(t-38)  acceleration_y(t-38)  \\\n",
              "0          0.539054      0.731080              0.513561              0.510382   \n",
              "1          0.539018      0.731671              0.513607              0.510382   \n",
              "2          0.539072      0.731460              0.513607              0.510382   \n",
              "3          0.539036      0.731502              0.513607              0.510382   \n",
              "4          0.539018      0.731418              0.513607              0.510382   \n",
              "...             ...           ...                   ...                   ...   \n",
              "52793      0.570287      0.656370              0.522648              0.527918   \n",
              "52794      0.569632      0.655145              0.516575              0.520677   \n",
              "52795      0.566217      0.656750              0.518754              0.512214   \n",
              "52796      0.567289      0.656793              0.513515              0.504101   \n",
              "52797      0.566744      0.653328              0.516528              0.498604   \n",
              "\n",
              "       acceleration_z(t-38)  gyro_x(t-38)  gyro_y(t-38)  gyro_z(t-38)  \n",
              "0                  0.457857      0.724735      0.539109      0.731671  \n",
              "1                  0.457857      0.724823      0.539054      0.731080  \n",
              "2                  0.457857      0.724867      0.539018      0.731671  \n",
              "3                  0.457857      0.724845      0.539072      0.731460  \n",
              "4                  0.457857      0.724801      0.539036      0.731502  \n",
              "...                     ...           ...           ...           ...  \n",
              "52793              0.436366      0.636236      0.569596      0.653074  \n",
              "52794              0.450351      0.642175      0.570287      0.656370  \n",
              "52795              0.461591      0.641449      0.569632      0.655145  \n",
              "52796              0.474204      0.639887      0.566217      0.656750  \n",
              "52797              0.476185      0.636390      0.567289      0.656793  \n",
              "\n",
              "[52798 rows x 235 columns]"
            ],
            "text/html": [
              "\n",
              "  <div id=\"df-3469fb62-c85d-44f6-83a6-b00eb4fd0afe\">\n",
              "    <div class=\"colab-df-container\">\n",
              "      <div>\n",
              "<style scoped>\n",
              "    .dataframe tbody tr th:only-of-type {\n",
              "        vertical-align: middle;\n",
              "    }\n",
              "\n",
              "    .dataframe tbody tr th {\n",
              "        vertical-align: top;\n",
              "    }\n",
              "\n",
              "    .dataframe thead th {\n",
              "        text-align: right;\n",
              "    }\n",
              "</style>\n",
              "<table border=\"1\" class=\"dataframe\">\n",
              "  <thead>\n",
              "    <tr style=\"text-align: right;\">\n",
              "      <th></th>\n",
              "      <th>gyro_x</th>\n",
              "      <th>gyro_y</th>\n",
              "      <th>gyro_z</th>\n",
              "      <th>acceleration_x</th>\n",
              "      <th>acceleration_y</th>\n",
              "      <th>acceleration_z</th>\n",
              "      <th>target</th>\n",
              "      <th>acceleration_x(t-1)</th>\n",
              "      <th>acceleration_y(t-1)</th>\n",
              "      <th>acceleration_z(t-1)</th>\n",
              "      <th>...</th>\n",
              "      <th>acceleration_z(t-37)</th>\n",
              "      <th>gyro_x(t-37)</th>\n",
              "      <th>gyro_y(t-37)</th>\n",
              "      <th>gyro_z(t-37)</th>\n",
              "      <th>acceleration_x(t-38)</th>\n",
              "      <th>acceleration_y(t-38)</th>\n",
              "      <th>acceleration_z(t-38)</th>\n",
              "      <th>gyro_x(t-38)</th>\n",
              "      <th>gyro_y(t-38)</th>\n",
              "      <th>gyro_z(t-38)</th>\n",
              "    </tr>\n",
              "  </thead>\n",
              "  <tbody>\n",
              "    <tr>\n",
              "      <th>0</th>\n",
              "      <td>0.636368</td>\n",
              "      <td>0.572939</td>\n",
              "      <td>0.655694</td>\n",
              "      <td>0.513005</td>\n",
              "      <td>0.510993</td>\n",
              "      <td>0.457895</td>\n",
              "      <td>0</td>\n",
              "      <td>0.512773</td>\n",
              "      <td>0.509684</td>\n",
              "      <td>0.457324</td>\n",
              "      <td>...</td>\n",
              "      <td>0.457857</td>\n",
              "      <td>0.724823</td>\n",
              "      <td>0.539054</td>\n",
              "      <td>0.731080</td>\n",
              "      <td>0.513561</td>\n",
              "      <td>0.510382</td>\n",
              "      <td>0.457857</td>\n",
              "      <td>0.724735</td>\n",
              "      <td>0.539109</td>\n",
              "      <td>0.731671</td>\n",
              "    </tr>\n",
              "    <tr>\n",
              "      <th>1</th>\n",
              "      <td>0.635994</td>\n",
              "      <td>0.572612</td>\n",
              "      <td>0.655863</td>\n",
              "      <td>0.514952</td>\n",
              "      <td>0.512214</td>\n",
              "      <td>0.458276</td>\n",
              "      <td>0</td>\n",
              "      <td>0.513005</td>\n",
              "      <td>0.510993</td>\n",
              "      <td>0.457895</td>\n",
              "      <td>...</td>\n",
              "      <td>0.457857</td>\n",
              "      <td>0.724867</td>\n",
              "      <td>0.539018</td>\n",
              "      <td>0.731671</td>\n",
              "      <td>0.513607</td>\n",
              "      <td>0.510382</td>\n",
              "      <td>0.457857</td>\n",
              "      <td>0.724823</td>\n",
              "      <td>0.539054</td>\n",
              "      <td>0.731080</td>\n",
              "    </tr>\n",
              "    <tr>\n",
              "      <th>2</th>\n",
              "      <td>0.636368</td>\n",
              "      <td>0.572412</td>\n",
              "      <td>0.656243</td>\n",
              "      <td>0.515323</td>\n",
              "      <td>0.511516</td>\n",
              "      <td>0.458657</td>\n",
              "      <td>0</td>\n",
              "      <td>0.514952</td>\n",
              "      <td>0.512214</td>\n",
              "      <td>0.458276</td>\n",
              "      <td>...</td>\n",
              "      <td>0.457857</td>\n",
              "      <td>0.724845</td>\n",
              "      <td>0.539072</td>\n",
              "      <td>0.731460</td>\n",
              "      <td>0.513607</td>\n",
              "      <td>0.510382</td>\n",
              "      <td>0.457857</td>\n",
              "      <td>0.724867</td>\n",
              "      <td>0.539018</td>\n",
              "      <td>0.731671</td>\n",
              "    </tr>\n",
              "    <tr>\n",
              "      <th>3</th>\n",
              "      <td>0.635708</td>\n",
              "      <td>0.572485</td>\n",
              "      <td>0.654976</td>\n",
              "      <td>0.512495</td>\n",
              "      <td>0.509771</td>\n",
              "      <td>0.457743</td>\n",
              "      <td>0</td>\n",
              "      <td>0.515323</td>\n",
              "      <td>0.511516</td>\n",
              "      <td>0.458657</td>\n",
              "      <td>...</td>\n",
              "      <td>0.457857</td>\n",
              "      <td>0.724801</td>\n",
              "      <td>0.539036</td>\n",
              "      <td>0.731502</td>\n",
              "      <td>0.513607</td>\n",
              "      <td>0.510382</td>\n",
              "      <td>0.457857</td>\n",
              "      <td>0.724845</td>\n",
              "      <td>0.539072</td>\n",
              "      <td>0.731460</td>\n",
              "    </tr>\n",
              "    <tr>\n",
              "      <th>4</th>\n",
              "      <td>0.635774</td>\n",
              "      <td>0.573048</td>\n",
              "      <td>0.654764</td>\n",
              "      <td>0.513978</td>\n",
              "      <td>0.510295</td>\n",
              "      <td>0.457590</td>\n",
              "      <td>0</td>\n",
              "      <td>0.512495</td>\n",
              "      <td>0.509771</td>\n",
              "      <td>0.457743</td>\n",
              "      <td>...</td>\n",
              "      <td>0.457857</td>\n",
              "      <td>0.724801</td>\n",
              "      <td>0.539018</td>\n",
              "      <td>0.731418</td>\n",
              "      <td>0.513607</td>\n",
              "      <td>0.510382</td>\n",
              "      <td>0.457857</td>\n",
              "      <td>0.724801</td>\n",
              "      <td>0.539036</td>\n",
              "      <td>0.731502</td>\n",
              "    </tr>\n",
              "    <tr>\n",
              "      <th>...</th>\n",
              "      <td>...</td>\n",
              "      <td>...</td>\n",
              "      <td>...</td>\n",
              "      <td>...</td>\n",
              "      <td>...</td>\n",
              "      <td>...</td>\n",
              "      <td>...</td>\n",
              "      <td>...</td>\n",
              "      <td>...</td>\n",
              "      <td>...</td>\n",
              "      <td>...</td>\n",
              "      <td>...</td>\n",
              "      <td>...</td>\n",
              "      <td>...</td>\n",
              "      <td>...</td>\n",
              "      <td>...</td>\n",
              "      <td>...</td>\n",
              "      <td>...</td>\n",
              "      <td>...</td>\n",
              "      <td>...</td>\n",
              "      <td>...</td>\n",
              "    </tr>\n",
              "    <tr>\n",
              "      <th>52793</th>\n",
              "      <td>0.630208</td>\n",
              "      <td>0.571468</td>\n",
              "      <td>0.640989</td>\n",
              "      <td>0.505262</td>\n",
              "      <td>0.495027</td>\n",
              "      <td>0.459229</td>\n",
              "      <td>2</td>\n",
              "      <td>0.514535</td>\n",
              "      <td>0.503315</td>\n",
              "      <td>0.456638</td>\n",
              "      <td>...</td>\n",
              "      <td>0.450351</td>\n",
              "      <td>0.642175</td>\n",
              "      <td>0.570287</td>\n",
              "      <td>0.656370</td>\n",
              "      <td>0.522648</td>\n",
              "      <td>0.527918</td>\n",
              "      <td>0.436366</td>\n",
              "      <td>0.636236</td>\n",
              "      <td>0.569596</td>\n",
              "      <td>0.653074</td>\n",
              "    </tr>\n",
              "    <tr>\n",
              "      <th>52794</th>\n",
              "      <td>0.638259</td>\n",
              "      <td>0.567997</td>\n",
              "      <td>0.642806</td>\n",
              "      <td>0.498261</td>\n",
              "      <td>0.507852</td>\n",
              "      <td>0.454618</td>\n",
              "      <td>2</td>\n",
              "      <td>0.505262</td>\n",
              "      <td>0.495027</td>\n",
              "      <td>0.459229</td>\n",
              "      <td>...</td>\n",
              "      <td>0.461591</td>\n",
              "      <td>0.641449</td>\n",
              "      <td>0.569632</td>\n",
              "      <td>0.655145</td>\n",
              "      <td>0.516575</td>\n",
              "      <td>0.520677</td>\n",
              "      <td>0.450351</td>\n",
              "      <td>0.642175</td>\n",
              "      <td>0.570287</td>\n",
              "      <td>0.656370</td>\n",
              "    </tr>\n",
              "    <tr>\n",
              "      <th>52795</th>\n",
              "      <td>0.636918</td>\n",
              "      <td>0.568760</td>\n",
              "      <td>0.643524</td>\n",
              "      <td>0.527748</td>\n",
              "      <td>0.518845</td>\n",
              "      <td>0.452637</td>\n",
              "      <td>2</td>\n",
              "      <td>0.498261</td>\n",
              "      <td>0.507852</td>\n",
              "      <td>0.454618</td>\n",
              "      <td>...</td>\n",
              "      <td>0.474204</td>\n",
              "      <td>0.639887</td>\n",
              "      <td>0.566217</td>\n",
              "      <td>0.656750</td>\n",
              "      <td>0.518754</td>\n",
              "      <td>0.512214</td>\n",
              "      <td>0.461591</td>\n",
              "      <td>0.641449</td>\n",
              "      <td>0.569632</td>\n",
              "      <td>0.655145</td>\n",
              "    </tr>\n",
              "    <tr>\n",
              "      <th>52796</th>\n",
              "      <td>0.637710</td>\n",
              "      <td>0.571449</td>\n",
              "      <td>0.647581</td>\n",
              "      <td>0.514210</td>\n",
              "      <td>0.513959</td>\n",
              "      <td>0.460296</td>\n",
              "      <td>2</td>\n",
              "      <td>0.527748</td>\n",
              "      <td>0.518845</td>\n",
              "      <td>0.452637</td>\n",
              "      <td>...</td>\n",
              "      <td>0.476185</td>\n",
              "      <td>0.636390</td>\n",
              "      <td>0.567289</td>\n",
              "      <td>0.656793</td>\n",
              "      <td>0.513515</td>\n",
              "      <td>0.504101</td>\n",
              "      <td>0.474204</td>\n",
              "      <td>0.639887</td>\n",
              "      <td>0.566217</td>\n",
              "      <td>0.656750</td>\n",
              "    </tr>\n",
              "    <tr>\n",
              "      <th>52797</th>\n",
              "      <td>0.636566</td>\n",
              "      <td>0.569196</td>\n",
              "      <td>0.649863</td>\n",
              "      <td>0.513051</td>\n",
              "      <td>0.512999</td>\n",
              "      <td>0.459838</td>\n",
              "      <td>2</td>\n",
              "      <td>0.514210</td>\n",
              "      <td>0.513959</td>\n",
              "      <td>0.460296</td>\n",
              "      <td>...</td>\n",
              "      <td>0.476376</td>\n",
              "      <td>0.637182</td>\n",
              "      <td>0.566744</td>\n",
              "      <td>0.653328</td>\n",
              "      <td>0.516528</td>\n",
              "      <td>0.498604</td>\n",
              "      <td>0.476185</td>\n",
              "      <td>0.636390</td>\n",
              "      <td>0.567289</td>\n",
              "      <td>0.656793</td>\n",
              "    </tr>\n",
              "  </tbody>\n",
              "</table>\n",
              "<p>52798 rows × 235 columns</p>\n",
              "</div>\n",
              "      <button class=\"colab-df-convert\" onclick=\"convertToInteractive('df-3469fb62-c85d-44f6-83a6-b00eb4fd0afe')\"\n",
              "              title=\"Convert this dataframe to an interactive table.\"\n",
              "              style=\"display:none;\">\n",
              "        \n",
              "  <svg xmlns=\"http://www.w3.org/2000/svg\" height=\"24px\"viewBox=\"0 0 24 24\"\n",
              "       width=\"24px\">\n",
              "    <path d=\"M0 0h24v24H0V0z\" fill=\"none\"/>\n",
              "    <path d=\"M18.56 5.44l.94 2.06.94-2.06 2.06-.94-2.06-.94-.94-2.06-.94 2.06-2.06.94zm-11 1L8.5 8.5l.94-2.06 2.06-.94-2.06-.94L8.5 2.5l-.94 2.06-2.06.94zm10 10l.94 2.06.94-2.06 2.06-.94-2.06-.94-.94-2.06-.94 2.06-2.06.94z\"/><path d=\"M17.41 7.96l-1.37-1.37c-.4-.4-.92-.59-1.43-.59-.52 0-1.04.2-1.43.59L10.3 9.45l-7.72 7.72c-.78.78-.78 2.05 0 2.83L4 21.41c.39.39.9.59 1.41.59.51 0 1.02-.2 1.41-.59l7.78-7.78 2.81-2.81c.8-.78.8-2.07 0-2.86zM5.41 20L4 18.59l7.72-7.72 1.47 1.35L5.41 20z\"/>\n",
              "  </svg>\n",
              "      </button>\n",
              "      \n",
              "  <style>\n",
              "    .colab-df-container {\n",
              "      display:flex;\n",
              "      flex-wrap:wrap;\n",
              "      gap: 12px;\n",
              "    }\n",
              "\n",
              "    .colab-df-convert {\n",
              "      background-color: #E8F0FE;\n",
              "      border: none;\n",
              "      border-radius: 50%;\n",
              "      cursor: pointer;\n",
              "      display: none;\n",
              "      fill: #1967D2;\n",
              "      height: 32px;\n",
              "      padding: 0 0 0 0;\n",
              "      width: 32px;\n",
              "    }\n",
              "\n",
              "    .colab-df-convert:hover {\n",
              "      background-color: #E2EBFA;\n",
              "      box-shadow: 0px 1px 2px rgba(60, 64, 67, 0.3), 0px 1px 3px 1px rgba(60, 64, 67, 0.15);\n",
              "      fill: #174EA6;\n",
              "    }\n",
              "\n",
              "    [theme=dark] .colab-df-convert {\n",
              "      background-color: #3B4455;\n",
              "      fill: #D2E3FC;\n",
              "    }\n",
              "\n",
              "    [theme=dark] .colab-df-convert:hover {\n",
              "      background-color: #434B5C;\n",
              "      box-shadow: 0px 1px 3px 1px rgba(0, 0, 0, 0.15);\n",
              "      filter: drop-shadow(0px 1px 2px rgba(0, 0, 0, 0.3));\n",
              "      fill: #FFFFFF;\n",
              "    }\n",
              "  </style>\n",
              "\n",
              "      <script>\n",
              "        const buttonEl =\n",
              "          document.querySelector('#df-3469fb62-c85d-44f6-83a6-b00eb4fd0afe button.colab-df-convert');\n",
              "        buttonEl.style.display =\n",
              "          google.colab.kernel.accessAllowed ? 'block' : 'none';\n",
              "\n",
              "        async function convertToInteractive(key) {\n",
              "          const element = document.querySelector('#df-3469fb62-c85d-44f6-83a6-b00eb4fd0afe');\n",
              "          const dataTable =\n",
              "            await google.colab.kernel.invokeFunction('convertToInteractive',\n",
              "                                                     [key], {});\n",
              "          if (!dataTable) return;\n",
              "\n",
              "          const docLinkHtml = 'Like what you see? Visit the ' +\n",
              "            '<a target=\"_blank\" href=https://colab.research.google.com/notebooks/data_table.ipynb>data table notebook</a>'\n",
              "            + ' to learn more about interactive tables.';\n",
              "          element.innerHTML = '';\n",
              "          dataTable['output_type'] = 'display_data';\n",
              "          await google.colab.output.renderOutput(dataTable, element);\n",
              "          const docLink = document.createElement('div');\n",
              "          docLink.innerHTML = docLinkHtml;\n",
              "          element.appendChild(docLink);\n",
              "        }\n",
              "      </script>\n",
              "    </div>\n",
              "  </div>\n",
              "  "
            ]
          },
          "metadata": {},
          "execution_count": 352
        }
      ]
    },
    {
      "cell_type": "code",
      "source": [
        "X = shifted_df.drop(columns = ['target'])\n",
        "y = shifted_df['target']"
      ],
      "metadata": {
        "id": "mwaG1znEdrdL"
      },
      "execution_count": null,
      "outputs": []
    },
    {
      "cell_type": "code",
      "source": [
        "X_train, X_test, y_train, y_test = train_test_split(X, \n",
        "                                                    y, \n",
        "                                                    test_size = 0.3,\n",
        "                                                    shuffle = True)"
      ],
      "metadata": {
        "id": "Rw22_MsJhA48"
      },
      "execution_count": null,
      "outputs": []
    },
    {
      "cell_type": "code",
      "source": [
        "device = torch.device('cuda' if torch.cuda.is_available() else 'cpu')\n",
        "device"
      ],
      "metadata": {
        "colab": {
          "base_uri": "https://localhost:8080/"
        },
        "id": "vlX_zLDUdrf1",
        "outputId": "f3704faf-ff81-489f-e86a-a52b95f7351a"
      },
      "execution_count": null,
      "outputs": [
        {
          "output_type": "execute_result",
          "data": {
            "text/plain": [
              "device(type='cuda')"
            ]
          },
          "metadata": {},
          "execution_count": 355
        }
      ]
    },
    {
      "cell_type": "code",
      "source": [
        "class Data(Dataset):\n",
        "  def __init__(self, X_train, y_train):\n",
        "    self.X = torch.from_numpy(X_train.astype(np.float32))\n",
        "    self.y = torch.from_numpy(y_train).type(torch.LongTensor)\n",
        "    self.len = self.X.shape[0]\n",
        "  \n",
        "  def __getitem__(self, index):\n",
        "    return self.X[index], self.y[index]\n",
        "    \n",
        "  def __len__(self):\n",
        "    return self.len"
      ],
      "metadata": {
        "id": "O9UNf8fMdriv"
      },
      "execution_count": null,
      "outputs": []
    },
    {
      "cell_type": "code",
      "source": [
        "BATCH_SIZE = 64\n",
        "INPUT_DIM = 234\n",
        "CONV_DIM = 3648 \n",
        "HIDDEN_LAYERS = 1024\n",
        "OUTPUT_DIM = 3\n",
        "NUM_STACKED_LAYERS = 1\n",
        "\n",
        "# INPUT_DIM = 117\n",
        "# CONV_DIM = 1856 "
      ],
      "metadata": {
        "id": "o4RnGr60drlh"
      },
      "execution_count": null,
      "outputs": []
    },
    {
      "cell_type": "code",
      "source": [
        "train_data = Data(X_train.to_numpy(), y_train.to_numpy())\n",
        "test_data = Data(X_test.to_numpy(), y_test.to_numpy())\n",
        "\n",
        "train_loader = DataLoader(train_data, batch_size = BATCH_SIZE, shuffle = True, num_workers = 2)\n",
        "test_loader = DataLoader(test_data, batch_size = BATCH_SIZE, shuffle = True, num_workers = 2)"
      ],
      "metadata": {
        "id": "nG12XaZgg8o6"
      },
      "execution_count": null,
      "outputs": []
    },
    {
      "cell_type": "code",
      "source": [
        "class LSTM(nn.Module):\n",
        "  def __init__(self):\n",
        "    super(LSTM, self).__init__()\n",
        "    self.lstm = nn.LSTM(INPUT_DIM, HIDDEN_LAYERS, NUM_STACKED_LAYERS, batch_first = True)\n",
        "    self.linear_1 = nn.Linear(HIDDEN_LAYERS, HIDDEN_LAYERS * 2)\n",
        "    self.dropout_1 = nn.Dropout(0.2)\n",
        "    self.linear_2 = nn.Linear(HIDDEN_LAYERS * 2, HIDDEN_LAYERS)\n",
        "    self.dropout_2 = nn.Dropout(0.2)\n",
        "    self.linear_3 = nn.Linear(HIDDEN_LAYERS, OUTPUT_DIM)\n",
        "\n",
        "  def forward(self, x):\n",
        "\n",
        "    h0 = torch.zeros(NUM_STACKED_LAYERS, x.size(0), HIDDEN_LAYERS).to(device)\n",
        "    c0 = torch.zeros(NUM_STACKED_LAYERS, x.size(0), HIDDEN_LAYERS).to(device)\n",
        "\n",
        "    x = x.unsqueeze(1)\n",
        "\n",
        "    x, _ = self.lstm(x, (h0, c0))\n",
        "   \n",
        "    x = torch.relu(self.linear_1(x[:, -1, :]))\n",
        "    x = self.dropout_1(x)\n",
        "    x = torch.relu(self.linear_2(x))\n",
        "    x = self.dropout_2(x)\n",
        "    x = self.linear_3(x)\n",
        "\n",
        "    return x"
      ],
      "metadata": {
        "id": "OwM43FMbdroi"
      },
      "execution_count": null,
      "outputs": []
    },
    {
      "cell_type": "code",
      "source": [
        "class CNN(nn.Module):\n",
        "  def __init__(self):\n",
        "    super(CNN, self).__init__()\n",
        "\n",
        "    self.conv = nn.Sequential(nn.Conv1d(in_channels = 1, out_channels = 16, kernel_size = 1),\n",
        "                              nn.ReLU(),\n",
        "                              nn.MaxPool1d(kernel_size = 2),\n",
        "                              nn.Conv1d(in_channels = 16, out_channels = 64, kernel_size = 1),\n",
        "                              nn.ReLU(),\n",
        "                              nn.MaxPool1d(kernel_size = 2),\n",
        "                              nn.Flatten())  \n",
        "    \n",
        "    self.linear = nn.Sequential(nn.Linear(CONV_DIM, HIDDEN_LAYERS),\n",
        "                                nn.Dropout(0.2),\n",
        "                                nn.Linear(HIDDEN_LAYERS, HIDDEN_LAYERS // 4),\n",
        "                                nn.Dropout(0.2),\n",
        "                                nn.Linear(HIDDEN_LAYERS // 4, OUTPUT_DIM))\n",
        "    \n",
        "  def forward(self, x):\n",
        "    x = x.unsqueeze(1)\n",
        "    x = self.conv(x)\n",
        "    x = self.linear(x)\n",
        "    return x"
      ],
      "metadata": {
        "id": "7YV_lf3lrtmY"
      },
      "execution_count": null,
      "outputs": []
    },
    {
      "cell_type": "code",
      "source": [
        "class CNN_LSTM(nn.Module):\n",
        "  def __init__(self):\n",
        "    super(CNN_LSTM, self).__init__()\n",
        "\n",
        "    self.conv = nn.Sequential(nn.Conv1d(in_channels = 1, out_channels = 16, kernel_size = 3),\n",
        "                              nn.BatchNorm1d(num_features = 16),\n",
        "                              nn.ELU(),\n",
        "                              nn.MaxPool1d(kernel_size = 2),\n",
        "                              #nn.Dropout(0.2),\n",
        "                              nn.Conv1d(in_channels = 16, out_channels = 64, kernel_size = 3),\n",
        "                              nn.BatchNorm1d(num_features = 64),\n",
        "                              nn.ELU(),\n",
        "                              nn.MaxPool1d(kernel_size = 2),\n",
        "                              #nn.Dropout(0.2),\n",
        "                              nn.Flatten())  \n",
        "    \n",
        "    self.lstm = nn.Sequential(nn.LSTM(input_size = CONV_DIM, hidden_size  = HIDDEN_LAYERS, num_layers = NUM_STACKED_LAYERS, batch_first = True))  \n",
        "\n",
        "\n",
        "    self.linear = nn.Sequential(nn.Linear(HIDDEN_LAYERS, HIDDEN_LAYERS // 4),\n",
        "                                nn.ELU(),\n",
        "                                nn.Dropout(0.2),\n",
        "                                nn.Linear(HIDDEN_LAYERS // 4, OUTPUT_DIM))\n",
        "    \n",
        "  def forward(self, x):\n",
        "    x = x.unsqueeze(1)\n",
        "    x = self.conv(x)\n",
        "    x = x.unsqueeze(1)\n",
        "    x, _ = self.lstm(x)\n",
        "    x = self.linear(x[:, -1, :])\n",
        "    return x\n"
      ],
      "metadata": {
        "id": "OANRyXaV-HZ8"
      },
      "execution_count": null,
      "outputs": []
    },
    {
      "cell_type": "code",
      "source": [
        "model = CNN_LSTM().to(device)"
      ],
      "metadata": {
        "id": "972-FKZU7FYG"
      },
      "execution_count": null,
      "outputs": []
    },
    {
      "cell_type": "code",
      "source": [
        "criterion = nn.CrossEntropyLoss()\n",
        "optimizer = torch.optim.Adam(model.parameters(), lr = 0.001)"
      ],
      "metadata": {
        "id": "VpAI_Zfe7Fai"
      },
      "execution_count": null,
      "outputs": []
    },
    {
      "cell_type": "code",
      "source": [
        "NUM_EPOCHS = 100\n",
        "\n",
        "for epoch in range(NUM_EPOCHS):\n",
        "  loop = tqdm(train_loader)\n",
        "  for batch, (X, y) in enumerate(loop):\n",
        "    X, y = X.to(device), y.to(device)\n",
        "\n",
        "    output = model(X)\n",
        "\n",
        "    loss = criterion(output, y)\n",
        "\n",
        "    optimizer.zero_grad()\n",
        "    loss.backward()\n",
        "    optimizer.step()\n",
        "\n",
        "    loop.set_description(f\"Epoch [{epoch}/{NUM_EPOCHS}]\")\n",
        "    loop.set_postfix(loss = loss.item())"
      ],
      "metadata": {
        "colab": {
          "base_uri": "https://localhost:8080/"
        },
        "id": "9fho9mLh6kdu",
        "outputId": "af7335c6-a287-4db1-8a57-65b2de38eb03"
      },
      "execution_count": null,
      "outputs": [
        {
          "output_type": "stream",
          "name": "stderr",
          "text": [
            "Epoch [0/100]: 100%|██████████| 578/578 [00:06<00:00, 94.59it/s, loss=0.248] \n",
            "Epoch [1/100]: 100%|██████████| 578/578 [00:05<00:00, 101.48it/s, loss=0.171]\n",
            "Epoch [2/100]: 100%|██████████| 578/578 [00:05<00:00, 98.88it/s, loss=0.362] \n",
            "Epoch [3/100]: 100%|██████████| 578/578 [00:05<00:00, 98.23it/s, loss=0.205]\n",
            "Epoch [4/100]: 100%|██████████| 578/578 [00:06<00:00, 95.08it/s, loss=0.0339] \n",
            "Epoch [5/100]: 100%|██████████| 578/578 [00:05<00:00, 99.69it/s, loss=0.0587]\n",
            "Epoch [6/100]: 100%|██████████| 578/578 [00:06<00:00, 94.55it/s, loss=0.00423]\n",
            "Epoch [7/100]: 100%|██████████| 578/578 [00:05<00:00, 100.09it/s, loss=0.0183]\n",
            "Epoch [8/100]: 100%|██████████| 578/578 [00:06<00:00, 95.83it/s, loss=0.00046]\n",
            "Epoch [9/100]: 100%|██████████| 578/578 [00:05<00:00, 99.66it/s, loss=0.00682] \n",
            "Epoch [10/100]: 100%|██████████| 578/578 [00:06<00:00, 96.33it/s, loss=0.124]\n",
            "Epoch [11/100]: 100%|██████████| 578/578 [00:05<00:00, 99.44it/s, loss=0.254] \n",
            "Epoch [12/100]: 100%|██████████| 578/578 [00:06<00:00, 95.56it/s, loss=0.00694]\n",
            "Epoch [13/100]: 100%|██████████| 578/578 [00:05<00:00, 99.94it/s, loss=0.0318] \n",
            "Epoch [14/100]: 100%|██████████| 578/578 [00:05<00:00, 97.06it/s, loss=0.0272]\n",
            "Epoch [15/100]: 100%|██████████| 578/578 [00:06<00:00, 96.18it/s, loss=0.0514] \n",
            "Epoch [16/100]: 100%|██████████| 578/578 [00:06<00:00, 95.79it/s, loss=0.0246]\n",
            "Epoch [17/100]: 100%|██████████| 578/578 [00:05<00:00, 97.85it/s, loss=0.0542] \n",
            "Epoch [18/100]: 100%|██████████| 578/578 [00:06<00:00, 96.12it/s, loss=0.259]\n",
            "Epoch [19/100]: 100%|██████████| 578/578 [00:05<00:00, 96.59it/s, loss=0.00116]\n",
            "Epoch [20/100]: 100%|██████████| 578/578 [00:05<00:00, 98.30it/s, loss=0.024]\n",
            "Epoch [21/100]: 100%|██████████| 578/578 [00:05<00:00, 97.09it/s, loss=0.00323] \n",
            "Epoch [22/100]: 100%|██████████| 578/578 [00:05<00:00, 97.88it/s, loss=0.000192]\n",
            "Epoch [23/100]: 100%|██████████| 578/578 [00:06<00:00, 93.45it/s, loss=0.0105]\n",
            "Epoch [24/100]: 100%|██████████| 578/578 [00:05<00:00, 99.27it/s, loss=0.0349]\n",
            "Epoch [25/100]: 100%|██████████| 578/578 [00:05<00:00, 98.69it/s, loss=0.0643] \n",
            "Epoch [26/100]: 100%|██████████| 578/578 [00:05<00:00, 96.86it/s, loss=0.159]\n",
            "Epoch [27/100]: 100%|██████████| 578/578 [00:06<00:00, 94.31it/s, loss=0.0125]\n",
            "Epoch [28/100]: 100%|██████████| 578/578 [00:05<00:00, 99.70it/s, loss=0.000148]\n",
            "Epoch [29/100]: 100%|██████████| 578/578 [00:06<00:00, 96.08it/s, loss=0.00409] \n",
            "Epoch [30/100]: 100%|██████████| 578/578 [00:05<00:00, 99.44it/s, loss=0.055]\n",
            "Epoch [31/100]: 100%|██████████| 578/578 [00:06<00:00, 93.57it/s, loss=4.91e-5] \n",
            "Epoch [32/100]: 100%|██████████| 578/578 [00:05<00:00, 98.67it/s, loss=0.00654]\n",
            "Epoch [33/100]: 100%|██████████| 578/578 [00:05<00:00, 98.21it/s, loss=0.0512] \n",
            "Epoch [34/100]: 100%|██████████| 578/578 [00:05<00:00, 98.72it/s, loss=0.00047]\n",
            "Epoch [35/100]: 100%|██████████| 578/578 [00:06<00:00, 94.77it/s, loss=0.000124] \n",
            "Epoch [36/100]: 100%|██████████| 578/578 [00:05<00:00, 100.66it/s, loss=0.000223]\n",
            "Epoch [37/100]: 100%|██████████| 578/578 [00:06<00:00, 94.41it/s, loss=0.013] \n",
            "Epoch [38/100]: 100%|██████████| 578/578 [00:05<00:00, 98.65it/s, loss=0.0301] \n",
            "Epoch [39/100]: 100%|██████████| 578/578 [00:06<00:00, 95.57it/s, loss=4.04e-6] \n",
            "Epoch [40/100]: 100%|██████████| 578/578 [00:05<00:00, 97.87it/s, loss=0.00661]\n",
            "Epoch [41/100]: 100%|██████████| 578/578 [00:06<00:00, 95.14it/s, loss=0.000732] \n",
            "Epoch [42/100]: 100%|██████████| 578/578 [00:05<00:00, 97.09it/s, loss=0.0324]\n",
            "Epoch [43/100]: 100%|██████████| 578/578 [00:06<00:00, 94.87it/s, loss=6.13e-5] \n",
            "Epoch [44/100]: 100%|██████████| 578/578 [00:05<00:00, 100.04it/s, loss=0.0124]\n",
            "Epoch [45/100]: 100%|██████████| 578/578 [00:06<00:00, 95.89it/s, loss=0.00438] \n",
            "Epoch [46/100]: 100%|██████████| 578/578 [00:06<00:00, 96.12it/s, loss=0.0087] \n",
            "Epoch [47/100]: 100%|██████████| 578/578 [00:06<00:00, 95.15it/s, loss=5.53e-6] \n",
            "Epoch [48/100]: 100%|██████████| 578/578 [00:05<00:00, 98.44it/s, loss=2.23e-6]\n",
            "Epoch [49/100]: 100%|██████████| 578/578 [00:06<00:00, 94.19it/s, loss=6.53e-5]\n",
            "Epoch [50/100]: 100%|██████████| 578/578 [00:05<00:00, 97.94it/s, loss=0.0438] \n",
            "Epoch [51/100]: 100%|██████████| 578/578 [00:06<00:00, 95.72it/s, loss=2.11e-5] \n",
            "Epoch [52/100]: 100%|██████████| 578/578 [00:05<00:00, 98.73it/s, loss=0.000841] \n",
            "Epoch [53/100]: 100%|██████████| 578/578 [00:06<00:00, 96.16it/s, loss=0.012] \n",
            "Epoch [54/100]: 100%|██████████| 578/578 [00:05<00:00, 98.44it/s, loss=3.97e-6] \n",
            "Epoch [55/100]: 100%|██████████| 578/578 [00:06<00:00, 95.58it/s, loss=0.00983] \n",
            "Epoch [56/100]: 100%|██████████| 578/578 [00:05<00:00, 98.13it/s, loss=5.52e-5] \n",
            "Epoch [57/100]: 100%|██████████| 578/578 [00:06<00:00, 90.92it/s, loss=5.8e-7]\n",
            "Epoch [58/100]: 100%|██████████| 578/578 [00:05<00:00, 98.85it/s, loss=2.28e-6] \n",
            "Epoch [59/100]: 100%|██████████| 578/578 [00:06<00:00, 95.67it/s, loss=2.94e-7] \n",
            "Epoch [60/100]: 100%|██████████| 578/578 [00:05<00:00, 98.03it/s, loss=0.000779] \n",
            "Epoch [61/100]: 100%|██████████| 578/578 [00:06<00:00, 92.79it/s, loss=0.00167]\n",
            "Epoch [62/100]: 100%|██████████| 578/578 [00:05<00:00, 99.16it/s, loss=0.0419]\n",
            "Epoch [63/100]: 100%|██████████| 578/578 [00:06<00:00, 94.89it/s, loss=0.000219] \n",
            "Epoch [64/100]: 100%|██████████| 578/578 [00:05<00:00, 100.06it/s, loss=8.96e-5]\n",
            "Epoch [65/100]: 100%|██████████| 578/578 [00:06<00:00, 92.54it/s, loss=0.000317] \n",
            "Epoch [66/100]: 100%|██████████| 578/578 [00:05<00:00, 98.66it/s, loss=0.0655] \n",
            "Epoch [67/100]: 100%|██████████| 578/578 [00:06<00:00, 94.54it/s, loss=0.000392]\n",
            "Epoch [68/100]: 100%|██████████| 578/578 [00:05<00:00, 97.84it/s, loss=0.00033]\n",
            "Epoch [69/100]: 100%|██████████| 578/578 [00:06<00:00, 90.86it/s, loss=0.000338]\n",
            "Epoch [70/100]: 100%|██████████| 578/578 [00:05<00:00, 99.39it/s, loss=0.00236]\n",
            "Epoch [71/100]: 100%|██████████| 578/578 [00:06<00:00, 94.40it/s, loss=0.000391]\n",
            "Epoch [72/100]: 100%|██████████| 578/578 [00:05<00:00, 98.54it/s, loss=0.000144]\n",
            "Epoch [73/100]: 100%|██████████| 578/578 [00:06<00:00, 92.05it/s, loss=6.41e-6]\n",
            "Epoch [74/100]: 100%|██████████| 578/578 [00:05<00:00, 98.32it/s, loss=0.000523]\n",
            "Epoch [75/100]: 100%|██████████| 578/578 [00:06<00:00, 95.89it/s, loss=9.31e-5]\n",
            "Epoch [76/100]: 100%|██████████| 578/578 [00:05<00:00, 97.86it/s, loss=0.00363]\n",
            "Epoch [77/100]: 100%|██████████| 578/578 [00:06<00:00, 91.66it/s, loss=0.000103]\n",
            "Epoch [78/100]: 100%|██████████| 578/578 [00:05<00:00, 99.19it/s, loss=0.000676]\n",
            "Epoch [79/100]: 100%|██████████| 578/578 [00:06<00:00, 93.91it/s, loss=1.55e-5]\n",
            "Epoch [80/100]: 100%|██████████| 578/578 [00:05<00:00, 97.39it/s, loss=0.000585]\n",
            "Epoch [81/100]: 100%|██████████| 578/578 [00:06<00:00, 93.45it/s, loss=0.000306]\n",
            "Epoch [82/100]: 100%|██████████| 578/578 [00:05<00:00, 99.58it/s, loss=0.000715] \n",
            "Epoch [83/100]: 100%|██████████| 578/578 [00:06<00:00, 95.03it/s, loss=1.37e-5]\n",
            "Epoch [84/100]: 100%|██████████| 578/578 [00:05<00:00, 99.25it/s, loss=0.00399]\n",
            "Epoch [85/100]: 100%|██████████| 578/578 [00:06<00:00, 92.66it/s, loss=3.06e-5]\n",
            "Epoch [86/100]: 100%|██████████| 578/578 [00:05<00:00, 98.82it/s, loss=0.0114] \n",
            "Epoch [87/100]: 100%|██████████| 578/578 [00:06<00:00, 94.96it/s, loss=0.000241]\n",
            "Epoch [88/100]: 100%|██████████| 578/578 [00:06<00:00, 93.11it/s, loss=0.00845]\n",
            "Epoch [89/100]: 100%|██████████| 578/578 [00:06<00:00, 95.70it/s, loss=0.00252]\n",
            "Epoch [90/100]: 100%|██████████| 578/578 [00:05<00:00, 97.06it/s, loss=3.66e-6] \n",
            "Epoch [91/100]: 100%|██████████| 578/578 [00:06<00:00, 95.25it/s, loss=0.00231]\n",
            "Epoch [92/100]: 100%|██████████| 578/578 [00:05<00:00, 96.49it/s, loss=2.71e-6]\n",
            "Epoch [93/100]: 100%|██████████| 578/578 [00:05<00:00, 97.14it/s, loss=1.21e-5]\n",
            "Epoch [94/100]: 100%|██████████| 578/578 [00:06<00:00, 95.95it/s, loss=0.00151] \n",
            "Epoch [95/100]: 100%|██████████| 578/578 [00:06<00:00, 96.08it/s, loss=0.00024]\n",
            "Epoch [96/100]: 100%|██████████| 578/578 [00:06<00:00, 94.04it/s, loss=0.0211] \n",
            "Epoch [97/100]: 100%|██████████| 578/578 [00:06<00:00, 95.99it/s, loss=0.0191]\n",
            "Epoch [98/100]: 100%|██████████| 578/578 [00:05<00:00, 96.96it/s, loss=8.78e-7] \n",
            "Epoch [99/100]: 100%|██████████| 578/578 [00:06<00:00, 93.97it/s, loss=2.63e-6]\n"
          ]
        }
      ]
    },
    {
      "cell_type": "code",
      "source": [
        "correct, total = 0, 0\n",
        "list_pred, list_true = [], []\n",
        "\n",
        "with torch.no_grad():\n",
        "  for (X, y) in test_loader:\n",
        "    X, y = X.to(device), y.to(device)\n",
        "\n",
        "    output = model(X)\n",
        "    pred = output.argmax(dim = 1, keepdim = True)\n",
        "    list_pred.append(pred.cpu().numpy())\n",
        "    list_true.append(y.cpu().numpy())\n",
        "    correct += pred.eq(y.view_as(pred)).sum().item()\n",
        "accuracy = correct / len(test_loader.dataset)\n",
        "print(f'Accuracy: {accuracy:>0.4f} %')"
      ],
      "metadata": {
        "id": "stC0dkvwgwKS",
        "colab": {
          "base_uri": "https://localhost:8080/"
        },
        "outputId": "43f94cfa-375e-4368-966b-e5155a7d4c10"
      },
      "execution_count": null,
      "outputs": [
        {
          "output_type": "stream",
          "name": "stdout",
          "text": [
            "Accuracy: 0.9947 %\n"
          ]
        }
      ]
    },
    {
      "cell_type": "code",
      "source": [
        "list_pred = np.concatenate(list_pred)\n",
        "list_pred = np.hstack(list_pred).tolist()\n",
        "list_true = np.concatenate(list_true)\n",
        "list_true = np.hstack(list_true).tolist()\n",
        "cm = confusion_matrix(list_pred, list_true)\n",
        "cm"
      ],
      "metadata": {
        "id": "2P_p9REUgwNX",
        "colab": {
          "base_uri": "https://localhost:8080/"
        },
        "outputId": "1fa1c9d6-e96d-4a7a-d4fc-864f9874cd2e"
      },
      "execution_count": null,
      "outputs": [
        {
          "output_type": "execute_result",
          "data": {
            "text/plain": [
              "array([[5004,   11,   32],\n",
              "       [   0, 5495,   11],\n",
              "       [  15,   15, 5257]])"
            ]
          },
          "metadata": {},
          "execution_count": 366
        }
      ]
    },
    {
      "cell_type": "code",
      "source": [
        "nn_AS_test = accuracy_score(list_pred, list_true)\n",
        "nn_BAS_test = balanced_accuracy_score(list_pred, list_true)\n",
        "nn_f1_weighted_test = f1_score(list_pred, list_true, average = 'weighted')\n",
        "nn_mcc_test = matthews_corrcoef(list_pred, list_true)\n",
        "\n",
        "nn_test_scores_dict = {'Accuracy' : nn_AS_test,\n",
        "                       'Balanced accuracy' : nn_BAS_test,\n",
        "                       'F1 score' : nn_f1_weighted_test,\n",
        "                       'Matthews correlation coefficient' : nn_mcc_test}\n",
        "\n",
        "nn_test_scores_df = pd.DataFrame.from_dict(nn_test_scores_dict, orient = 'index', columns = ['Scores'])\n",
        "\n",
        "nn_test_scores_df"
      ],
      "metadata": {
        "id": "gaAcMSAtgwQf",
        "colab": {
          "base_uri": "https://localhost:8080/",
          "height": 175
        },
        "outputId": "eeb7cb21-68cb-47cf-dfba-639407c9fa57"
      },
      "execution_count": null,
      "outputs": [
        {
          "output_type": "execute_result",
          "data": {
            "text/plain": [
              "                                    Scores\n",
              "Accuracy                          0.994697\n",
              "Balanced accuracy                 0.994603\n",
              "F1 score                          0.994696\n",
              "Matthews correlation coefficient  0.992043"
            ],
            "text/html": [
              "\n",
              "  <div id=\"df-d0eee420-0ebb-48c4-894d-dd05ba0d196b\">\n",
              "    <div class=\"colab-df-container\">\n",
              "      <div>\n",
              "<style scoped>\n",
              "    .dataframe tbody tr th:only-of-type {\n",
              "        vertical-align: middle;\n",
              "    }\n",
              "\n",
              "    .dataframe tbody tr th {\n",
              "        vertical-align: top;\n",
              "    }\n",
              "\n",
              "    .dataframe thead th {\n",
              "        text-align: right;\n",
              "    }\n",
              "</style>\n",
              "<table border=\"1\" class=\"dataframe\">\n",
              "  <thead>\n",
              "    <tr style=\"text-align: right;\">\n",
              "      <th></th>\n",
              "      <th>Scores</th>\n",
              "    </tr>\n",
              "  </thead>\n",
              "  <tbody>\n",
              "    <tr>\n",
              "      <th>Accuracy</th>\n",
              "      <td>0.994697</td>\n",
              "    </tr>\n",
              "    <tr>\n",
              "      <th>Balanced accuracy</th>\n",
              "      <td>0.994603</td>\n",
              "    </tr>\n",
              "    <tr>\n",
              "      <th>F1 score</th>\n",
              "      <td>0.994696</td>\n",
              "    </tr>\n",
              "    <tr>\n",
              "      <th>Matthews correlation coefficient</th>\n",
              "      <td>0.992043</td>\n",
              "    </tr>\n",
              "  </tbody>\n",
              "</table>\n",
              "</div>\n",
              "      <button class=\"colab-df-convert\" onclick=\"convertToInteractive('df-d0eee420-0ebb-48c4-894d-dd05ba0d196b')\"\n",
              "              title=\"Convert this dataframe to an interactive table.\"\n",
              "              style=\"display:none;\">\n",
              "        \n",
              "  <svg xmlns=\"http://www.w3.org/2000/svg\" height=\"24px\"viewBox=\"0 0 24 24\"\n",
              "       width=\"24px\">\n",
              "    <path d=\"M0 0h24v24H0V0z\" fill=\"none\"/>\n",
              "    <path d=\"M18.56 5.44l.94 2.06.94-2.06 2.06-.94-2.06-.94-.94-2.06-.94 2.06-2.06.94zm-11 1L8.5 8.5l.94-2.06 2.06-.94-2.06-.94L8.5 2.5l-.94 2.06-2.06.94zm10 10l.94 2.06.94-2.06 2.06-.94-2.06-.94-.94-2.06-.94 2.06-2.06.94z\"/><path d=\"M17.41 7.96l-1.37-1.37c-.4-.4-.92-.59-1.43-.59-.52 0-1.04.2-1.43.59L10.3 9.45l-7.72 7.72c-.78.78-.78 2.05 0 2.83L4 21.41c.39.39.9.59 1.41.59.51 0 1.02-.2 1.41-.59l7.78-7.78 2.81-2.81c.8-.78.8-2.07 0-2.86zM5.41 20L4 18.59l7.72-7.72 1.47 1.35L5.41 20z\"/>\n",
              "  </svg>\n",
              "      </button>\n",
              "      \n",
              "  <style>\n",
              "    .colab-df-container {\n",
              "      display:flex;\n",
              "      flex-wrap:wrap;\n",
              "      gap: 12px;\n",
              "    }\n",
              "\n",
              "    .colab-df-convert {\n",
              "      background-color: #E8F0FE;\n",
              "      border: none;\n",
              "      border-radius: 50%;\n",
              "      cursor: pointer;\n",
              "      display: none;\n",
              "      fill: #1967D2;\n",
              "      height: 32px;\n",
              "      padding: 0 0 0 0;\n",
              "      width: 32px;\n",
              "    }\n",
              "\n",
              "    .colab-df-convert:hover {\n",
              "      background-color: #E2EBFA;\n",
              "      box-shadow: 0px 1px 2px rgba(60, 64, 67, 0.3), 0px 1px 3px 1px rgba(60, 64, 67, 0.15);\n",
              "      fill: #174EA6;\n",
              "    }\n",
              "\n",
              "    [theme=dark] .colab-df-convert {\n",
              "      background-color: #3B4455;\n",
              "      fill: #D2E3FC;\n",
              "    }\n",
              "\n",
              "    [theme=dark] .colab-df-convert:hover {\n",
              "      background-color: #434B5C;\n",
              "      box-shadow: 0px 1px 3px 1px rgba(0, 0, 0, 0.15);\n",
              "      filter: drop-shadow(0px 1px 2px rgba(0, 0, 0, 0.3));\n",
              "      fill: #FFFFFF;\n",
              "    }\n",
              "  </style>\n",
              "\n",
              "      <script>\n",
              "        const buttonEl =\n",
              "          document.querySelector('#df-d0eee420-0ebb-48c4-894d-dd05ba0d196b button.colab-df-convert');\n",
              "        buttonEl.style.display =\n",
              "          google.colab.kernel.accessAllowed ? 'block' : 'none';\n",
              "\n",
              "        async function convertToInteractive(key) {\n",
              "          const element = document.querySelector('#df-d0eee420-0ebb-48c4-894d-dd05ba0d196b');\n",
              "          const dataTable =\n",
              "            await google.colab.kernel.invokeFunction('convertToInteractive',\n",
              "                                                     [key], {});\n",
              "          if (!dataTable) return;\n",
              "\n",
              "          const docLinkHtml = 'Like what you see? Visit the ' +\n",
              "            '<a target=\"_blank\" href=https://colab.research.google.com/notebooks/data_table.ipynb>data table notebook</a>'\n",
              "            + ' to learn more about interactive tables.';\n",
              "          element.innerHTML = '';\n",
              "          dataTable['output_type'] = 'display_data';\n",
              "          await google.colab.output.renderOutput(dataTable, element);\n",
              "          const docLink = document.createElement('div');\n",
              "          docLink.innerHTML = docLinkHtml;\n",
              "          element.appendChild(docLink);\n",
              "        }\n",
              "      </script>\n",
              "    </div>\n",
              "  </div>\n",
              "  "
            ]
          },
          "metadata": {},
          "execution_count": 367
        }
      ]
    },
    {
      "cell_type": "code",
      "source": [
        "disp = ConfusionMatrixDisplay(confusion_matrix = cm, display_labels = ['No activity', 'Walk', 'Run'])\n",
        "disp.plot()\n",
        "plt.show()"
      ],
      "metadata": {
        "id": "MNAOTnmdgwTP",
        "colab": {
          "base_uri": "https://localhost:8080/",
          "height": 449
        },
        "outputId": "825d9ec6-4444-4878-9392-b8e38e04bd0d"
      },
      "execution_count": null,
      "outputs": [
        {
          "output_type": "display_data",
          "data": {
            "text/plain": [
              "<Figure size 640x480 with 2 Axes>"
            ],
            "image/png": "[encoded data removed]"
          },
          "metadata": {}
        }
      ]
    },
    {
      "cell_type": "code",
      "source": [
        "model.eval()"
      ],
      "metadata": {
        "id": "aW4onq42jJYx",
        "colab": {
          "base_uri": "https://localhost:8080/"
        },
        "outputId": "a0a599a2-be3e-494d-ad15-fb5cacff7bd0"
      },
      "execution_count": null,
      "outputs": [
        {
          "output_type": "execute_result",
          "data": {
            "text/plain": [
              "CNN_LSTM(\n",
              "  (conv): Sequential(\n",
              "    (0): Conv1d(1, 16, kernel_size=(3,), stride=(1,))\n",
              "    (1): BatchNorm1d(16, eps=1e-05, momentum=0.1, affine=True, track_running_stats=True)\n",
              "    (2): ELU(alpha=1.0)\n",
              "    (3): MaxPool1d(kernel_size=2, stride=2, padding=0, dilation=1, ceil_mode=False)\n",
              "    (4): Conv1d(16, 64, kernel_size=(3,), stride=(1,))\n",
              "    (5): BatchNorm1d(64, eps=1e-05, momentum=0.1, affine=True, track_running_stats=True)\n",
              "    (6): ELU(alpha=1.0)\n",
              "    (7): MaxPool1d(kernel_size=2, stride=2, padding=0, dilation=1, ceil_mode=False)\n",
              "    (8): Flatten(start_dim=1, end_dim=-1)\n",
              "  )\n",
              "  (lstm): Sequential(\n",
              "    (0): LSTM(3648, 1024, batch_first=True)\n",
              "  )\n",
              "  (linear): Sequential(\n",
              "    (0): Linear(in_features=1024, out_features=256, bias=True)\n",
              "    (1): ELU(alpha=1.0)\n",
              "    (2): Dropout(p=0.2, inplace=False)\n",
              "    (3): Linear(in_features=256, out_features=3, bias=True)\n",
              "  )\n",
              ")"
            ]
          },
          "metadata": {},
          "execution_count": 369
        }
      ]
    },
    {
      "cell_type": "markdown",
      "source": [
        "# Больше тестов"
      ],
      "metadata": {
        "id": "oQHkQpu7NLLY"
      }
    },
    {
      "cell_type": "code",
      "source": [
        "test_df = pd.read_csv('sample_data/8_30_05_2023_10_11_32_10_16_01_mix.csv')\n",
        "test_df = test_df.drop(columns = ['time', 'pocket_id', 'v7'])\n",
        "test_df = test_df.rename(columns={'v1' : 'gyro_x', \n",
        "                                  'v2' : 'gyro_y',\n",
        "                                  'v3' : 'gyro_z',\n",
        "                                  'v4' : 'acceleration_x',\n",
        "                                  'v5' : 'acceleration_y',\n",
        "                                  'v6' : 'acceleration_z'})\n",
        "test_df"
      ],
      "metadata": {
        "id": "gUmph200NHm7"
      },
      "execution_count": null,
      "outputs": []
    },
    {
      "cell_type": "code",
      "source": [
        "test_df.describe()"
      ],
      "metadata": {
        "id": "R4xRj4FsUb0W"
      },
      "execution_count": null,
      "outputs": []
    },
    {
      "cell_type": "code",
      "source": [
        "def Vizualize(df_to_vizualize, description: str):\n",
        "  plt.figure(figsize = (12.8, 9.6))\n",
        "  plt.grid(True)\n",
        "  plt.plot(df_to_vizualize.to_numpy())\n",
        "  plt.title(description)\n",
        "  plt.legend(df_to_vizualize)\n",
        "  plt.show()"
      ],
      "metadata": {
        "id": "QZiZiSF0a2TG"
      },
      "execution_count": null,
      "outputs": []
    },
    {
      "cell_type": "code",
      "source": [
        "df_to_plot = test_df.drop(columns = ['gyro_x', 'gyro_y', 'gyro_z'])\n",
        "Vizualize(df_to_plot, 'acceleration')"
      ],
      "metadata": {
        "id": "Qy9csy26a584"
      },
      "execution_count": null,
      "outputs": []
    },
    {
      "cell_type": "code",
      "source": [
        "df_to_plot.iloc[1600:1900].describe()"
      ],
      "metadata": {
        "id": "ILQ5qQYQpkJY"
      },
      "execution_count": null,
      "outputs": []
    },
    {
      "cell_type": "code",
      "source": [
        "df_to_plot_1 = test_df.drop(columns = ['acceleration_x', 'acceleration_y', 'acceleration_z'])\n",
        "Vizualize(df_to_plot_1, 'gyro')"
      ],
      "metadata": {
        "id": "sQRFmR4Ka5_j"
      },
      "execution_count": null,
      "outputs": []
    },
    {
      "cell_type": "code",
      "source": [
        "df_to_plot_1.iloc[1600:1900].describe()"
      ],
      "metadata": {
        "id": "WuT5WK-ypWU7"
      },
      "execution_count": null,
      "outputs": []
    },
    {
      "cell_type": "code",
      "source": [
        "names_test_df = test_df.columns\n",
        "sc = scaler.transform(test_df)\n",
        "scaled_test_df = pd.DataFrame(sc, columns = names_test_df)\n",
        "\n",
        "if INPUT_DIM == 117:\n",
        "  scaled_test_df = scaled_test_df.drop(columns = ['acceleration_x', 'acceleration_y', 'acceleration_z'])\n",
        "  \n",
        "scaled_test_df"
      ],
      "metadata": {
        "id": "bbSZuHmiQ3vo"
      },
      "execution_count": null,
      "outputs": []
    },
    {
      "cell_type": "code",
      "source": [
        "shifted_scaled_test_df = prepare_df(scaled_test_df, 38)\n",
        "shifted_scaled_test_df_tensor = torch.from_numpy(shifted_scaled_test_df.to_numpy().astype(np.float32))\n",
        "\n",
        "with torch.no_grad():\n",
        "    output_test_df = model(shifted_scaled_test_df_tensor.to(device))"
      ],
      "metadata": {
        "id": "hZTDVCIOkWH3"
      },
      "execution_count": null,
      "outputs": []
    },
    {
      "cell_type": "code",
      "source": [
        "output_test_df"
      ],
      "metadata": {
        "id": "tLHU6Um8QUio"
      },
      "execution_count": null,
      "outputs": []
    },
    {
      "cell_type": "code",
      "source": [
        "pred_test_df = output_test_df.argmax(dim = 1, keepdim = True)\n",
        "list_pred_test_df = np.hstack(pred_test_df.cpu().numpy()).tolist()"
      ],
      "metadata": {
        "id": "pS9v40b3TDfW"
      },
      "execution_count": null,
      "outputs": []
    },
    {
      "cell_type": "code",
      "source": [
        "plt.figure(figsize = (12.8, 9.6))\n",
        "plt.plot(list_pred_test_df)\n",
        "plt.title('Predicted')\n",
        "plt.show()"
      ],
      "metadata": {
        "id": "HxUAoCAWK9v3"
      },
      "execution_count": null,
      "outputs": []
    },
    {
      "cell_type": "code",
      "source": [
        "list_true = np.concatenate(list_true)\n",
        "list_true = np.hstack(list_true).tolist()"
      ],
      "metadata": {
        "id": "DSpSgdoU9J7w"
      },
      "execution_count": null,
      "outputs": []
    },
    {
      "cell_type": "code",
      "source": [
        "# np.savetxt('test1.txt', list_pred_test_df, fmt = '%d')"
      ],
      "metadata": {
        "id": "dvom-tkhYAYn"
      },
      "execution_count": null,
      "outputs": []
    },
    {
      "cell_type": "markdown",
      "source": [
        "# Тест 2"
      ],
      "metadata": {
        "id": "sYJdnvRe4mtC"
      }
    },
    {
      "cell_type": "code",
      "source": [
        "test2_df = pd.read_csv('sample_data/data_export.csv')\n",
        "test2_df = test2_df.drop(columns = ['time', 'pocket_id', 'v7'])\n",
        "test2_df = test2_df.rename(columns={'v1' : 'gyro_x', \n",
        "                                  'v2' : 'gyro_y',\n",
        "                                  'v3' : 'gyro_z',\n",
        "                                  'v4' : 'acceleration_x',\n",
        "                                  'v5' : 'acceleration_y',\n",
        "                                  'v6' : 'acceleration_z'})\n",
        "test2_df"
      ],
      "metadata": {
        "id": "PWQwXKQd4pgu"
      },
      "execution_count": null,
      "outputs": []
    },
    {
      "cell_type": "code",
      "source": [
        "test2_df.describe()"
      ],
      "metadata": {
        "id": "HN_X-2yWUB7E"
      },
      "execution_count": null,
      "outputs": []
    },
    {
      "cell_type": "code",
      "source": [
        "df2_to_plot = test2_df.drop(columns = ['gyro_x', 'gyro_y', 'gyro_z'])\n",
        "Vizualize(df2_to_plot, 'acceleration')"
      ],
      "metadata": {
        "id": "sH16f7r25CYk"
      },
      "execution_count": null,
      "outputs": []
    },
    {
      "cell_type": "code",
      "source": [
        "df2_to_plot.iloc[850:1150].describe()"
      ],
      "metadata": {
        "id": "61G6Jh0DopIa"
      },
      "execution_count": null,
      "outputs": []
    },
    {
      "cell_type": "code",
      "source": [
        "df2_to_plot_1 = test2_df.drop(columns = ['acceleration_x', 'acceleration_y', 'acceleration_z'])\n",
        "Vizualize(df2_to_plot_1, 'gyro')"
      ],
      "metadata": {
        "id": "vq3EZ-1o5Cbc"
      },
      "execution_count": null,
      "outputs": []
    },
    {
      "cell_type": "code",
      "source": [
        "df2_to_plot_1.iloc[850:1150].describe()"
      ],
      "metadata": {
        "id": "9R42HSl-o9YV"
      },
      "execution_count": null,
      "outputs": []
    },
    {
      "cell_type": "code",
      "source": [
        "df2_to_plot_1"
      ],
      "metadata": {
        "id": "KqY-uM1ynW-U"
      },
      "execution_count": null,
      "outputs": []
    },
    {
      "cell_type": "code",
      "source": [
        "names_test2_df = test2_df.columns\n",
        "sc2 = scaler.transform(test2_df)\n",
        "scaled_test2_df = pd.DataFrame(sc2, columns = names_test2_df)\n",
        "\n",
        "if INPUT_DIM == 117:\n",
        "  scaled_test2_df = scaled_test2_df.drop(columns = ['acceleration_x', 'acceleration_y', 'acceleration_z'])\n",
        "  \n",
        "scaled_test2_df"
      ],
      "metadata": {
        "id": "OKc7rmU45CeN"
      },
      "execution_count": null,
      "outputs": []
    },
    {
      "cell_type": "code",
      "source": [
        "shifted_scaled_test2_df = prepare_df(scaled_test2_df, 38)\n",
        "shifted_scaled_test2_df_tensor = torch.from_numpy(shifted_scaled_test2_df.to_numpy().astype(np.float32))\n",
        "\n",
        "with torch.no_grad():\n",
        "    output_test2_df = model(shifted_scaled_test2_df_tensor.to(device))"
      ],
      "metadata": {
        "id": "7w8rR2SG5ChH"
      },
      "execution_count": null,
      "outputs": []
    },
    {
      "cell_type": "code",
      "source": [
        "output_test2_df"
      ],
      "metadata": {
        "id": "NhxfPqxf5CkG"
      },
      "execution_count": null,
      "outputs": []
    },
    {
      "cell_type": "code",
      "source": [
        "pred_test2_df = output_test2_df.argmax(dim = 1, keepdim = True)\n",
        "list_pred_test2_df = np.hstack(pred_test2_df.cpu().numpy()).tolist()"
      ],
      "metadata": {
        "id": "PGEXWKVf58dC"
      },
      "execution_count": null,
      "outputs": []
    },
    {
      "cell_type": "code",
      "source": [
        "plt.figure(figsize = (12.8, 9.6))\n",
        "plt.plot(list_pred_test2_df)\n",
        "plt.title('Predicted')\n",
        "plt.show()"
      ],
      "metadata": {
        "id": "aGV93W2i58fx"
      },
      "execution_count": null,
      "outputs": []
    },
    {
      "cell_type": "markdown",
      "source": [
        "#Save Model"
      ],
      "metadata": {
        "id": "nST2yPU_JC1z"
      }
    },
    {
      "cell_type": "code",
      "source": [
        " example, _ = next(iter(train_loader))\n",
        "model(example.to(device))"
      ],
      "metadata": {
        "id": "m_3p3wLJYFRG"
      },
      "execution_count": null,
      "outputs": []
    },
    {
      "cell_type": "code",
      "source": [
        "example[0]"
      ],
      "metadata": {
        "id": "1XlWfPlXqICd"
      },
      "execution_count": null,
      "outputs": []
    },
    {
      "cell_type": "code",
      "source": [
        "example.shape"
      ],
      "metadata": {
        "id": "MNhgRJd3L1J1"
      },
      "execution_count": null,
      "outputs": []
    },
    {
      "cell_type": "code",
      "source": [
        "traced_script_module = torch.jit.trace(model, example.to(device))"
      ],
      "metadata": {
        "id": "w7-n5cdhJGC2"
      },
      "execution_count": null,
      "outputs": []
    },
    {
      "cell_type": "code",
      "source": [
        "traced_script_module_optimized = optimize_for_mobile(traced_script_module)"
      ],
      "metadata": {
        "id": "TxKPV0kuJGFc"
      },
      "execution_count": null,
      "outputs": []
    },
    {
      "cell_type": "code",
      "source": [
        "traced_script_module_optimized(example.to(device))"
      ],
      "metadata": {
        "id": "7hpCfq2Ep5VE"
      },
      "execution_count": null,
      "outputs": []
    },
    {
      "cell_type": "code",
      "source": [
        "traced_script_module_optimized._save_for_lite_interpreter('./activity_lstm_3sec_3params_2.ptl')"
      ],
      "metadata": {
        "id": "CLbqSBXjcc2Z"
      },
      "execution_count": null,
      "outputs": []
    },
    {
      "cell_type": "code",
      "source": [
        "traced_script_module_optimized(list_pred_test2_df)"
      ],
      "metadata": {
        "id": "eUb7qSAvcz9U"
      },
      "execution_count": null,
      "outputs": []
    }
  ]
}