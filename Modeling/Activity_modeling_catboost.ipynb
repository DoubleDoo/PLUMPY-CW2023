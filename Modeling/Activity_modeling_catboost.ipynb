{
  "cells": [
    {
      "cell_type": "code",
      "execution_count": null,
      "metadata": {
        "id": "T3x6xascgEYJ"
      },
      "outputs": [],
      "source": [
        "!pip install optuna"
      ]
    },
    {
      "cell_type": "code",
      "execution_count": null,
      "metadata": {
        "id": "-lM1jDujgKJa"
      },
      "outputs": [],
      "source": [
        "!pip install catboost"
      ]
    },
    {
      "cell_type": "code",
      "execution_count": null,
      "metadata": {
        "id": "bseYzeOzgX-s"
      },
      "outputs": [],
      "source": [
        "import numpy as np\n",
        "import pandas as pd\n",
        "import seaborn as sns\n",
        "import matplotlib.pyplot as plt\n",
        "\n",
        "from sklearn.metrics import accuracy_score, balanced_accuracy_score, confusion_matrix, ConfusionMatrixDisplay, f1_score, roc_auc_score, matthews_corrcoef\n",
        "from sklearn.model_selection import train_test_split, KFold\n",
        "\n",
        "import optuna\n",
        "from optuna.integration import CatBoostPruningCallback\n",
        "\n",
        "from catboost import CatBoostClassifier"
      ]
    },
    {
      "cell_type": "code",
      "execution_count": null,
      "metadata": {
        "id": "Jc2BmcmogYBp"
      },
      "outputs": [],
      "source": [
        "df = pd.read_csv('sample_data/final_df_v0.csv')\n",
        "df"
      ]
    },
    {
      "cell_type": "code",
      "source": [
        "df['target'].value_counts()"
      ],
      "metadata": {
        "id": "W6TSFAHn7_Rg"
      },
      "execution_count": null,
      "outputs": []
    },
    {
      "cell_type": "code",
      "execution_count": null,
      "metadata": {
        "id": "R1HXFZzvgYFG"
      },
      "outputs": [],
      "source": [
        "plt.figure(figsize = (20, 20))\n",
        "sns.heatmap(df.corr(), annot = True, cmap = 'viridis')"
      ]
    },
    {
      "cell_type": "code",
      "execution_count": null,
      "metadata": {
        "id": "G8ngqqj9gYH-"
      },
      "outputs": [],
      "source": [
        "df.isna().sum()"
      ]
    },
    {
      "cell_type": "code",
      "execution_count": null,
      "metadata": {
        "id": "Orsr0836gYM0"
      },
      "outputs": [],
      "source": [
        "df = df.drop(columns = ['time'])\n",
        "df"
      ]
    },
    {
      "cell_type": "code",
      "execution_count": null,
      "metadata": {
        "id": "MmHhrjGigYPs"
      },
      "outputs": [],
      "source": [
        "X = df.drop(columns = ['target'])\n",
        "y = df['target']"
      ]
    },
    {
      "cell_type": "code",
      "execution_count": null,
      "metadata": {
        "id": "u1pXT95OhPRb"
      },
      "outputs": [],
      "source": [
        "plt.figure(figsize = (20 , 20))\n",
        "\n",
        "i = 1\n",
        "for x in X.columns:\n",
        "    plt.subplot(3, 3, i)\n",
        "    sns.histplot(X[x])\n",
        "    plt.title(x)\n",
        "    i += 1"
      ]
    },
    {
      "cell_type": "markdown",
      "metadata": {
        "id": "nyx7IxIhtXWn"
      },
      "source": [
        "#Catboost + optuna"
      ]
    },
    {
      "cell_type": "code",
      "execution_count": null,
      "metadata": {
        "id": "PHN6474JhP5x"
      },
      "outputs": [],
      "source": [
        "X_train, X_test, y_train, y_test = train_test_split(X, \n",
        "                                                    y, \n",
        "                                                    test_size = 0.3, \n",
        "                                                    random_state = 42, \n",
        "                                                    shuffle = True)"
      ]
    },
    {
      "cell_type": "code",
      "execution_count": null,
      "metadata": {
        "id": "5TsovMFYhd5y"
      },
      "outputs": [],
      "source": [
        "def objective_catboost(trial, X, y):\n",
        "    train_x, valid_x, train_y, valid_y = train_test_split(X, y, test_size = 0.25)\n",
        "\n",
        "    param_grid_catboost = { 'learning_rate': trial.suggest_float('learning_rate', 0.01, 0.1),\n",
        "                            'colsample_bylevel': trial.suggest_float('colsample_bylevel', 0.01, 0.1, log = True),\n",
        "                            'boosting_type': trial.suggest_categorical('boosting_type', ['Ordered', 'Plain']),\n",
        "                            'bootstrap_type': trial.suggest_categorical('bootstrap_type', ['Bayesian', 'Bernoulli', 'MVS']),\n",
        "                            'iterations': trial.suggest_int('iterations', 100, 1200),\n",
        "                            'l2_leaf_reg': trial.suggest_float('l2_leaf_reg', 1e-5, 10, log = True),\n",
        "                            'border_count': trial.suggest_int('border_count', 32, 255),\n",
        "                            'random_strength': trial.suggest_float(\"random_strength\", 1e-8, 10.0, log = True),\n",
        "                            'od_type': trial.suggest_categorical('od_type', ['IncToDec', 'Iter']),\n",
        "                            'od_wait': trial.suggest_int('od_wait', 10, 50),\n",
        "                            'depth': trial.suggest_int('depth', 1, 12),\n",
        "                            'min_data_in_leaf': trial.suggest_int('min_data_in_leaf',1, 30),\n",
        "                            'leaf_estimation_iterations': trial.suggest_int('leaf_estimation_iterations', 1, 15),\n",
        "                            'eval_metric': 'Accuracy',\n",
        "                            'task_type': 'CPU',\n",
        "                           }\n",
        "\n",
        "    if param_grid_catboost['bootstrap_type'] == 'Bayesian':\n",
        "        param_grid_catboost['bagging_temperature'] = trial.suggest_float('bagging_temperature', 0, 10)\n",
        "    elif param_grid_catboost['bootstrap_type'] == 'Bernoulli':\n",
        "        param_grid_catboost['subsample'] = trial.suggest_float('subsample', 0.1, 1, log = True)\n",
        "    \n",
        "    pruning_callback = CatBoostPruningCallback(trial, 'Accuracy')\n",
        "\n",
        "    cv = KFold(n_splits = 5, shuffle = True, random_state = 42)\n",
        "    \n",
        "    for idx, (train_idx, test_idx) in enumerate(cv.split(train_x, train_y)):\n",
        "        X_train, X_test = X.iloc[train_idx], X.iloc[test_idx]\n",
        "        y_train, y_test = y.iloc[train_idx], y.iloc[test_idx]\n",
        "        \n",
        "        catboost_model = CatBoostClassifier(**param_grid_catboost)\n",
        "        \n",
        "        catboost_model.fit(X_train, y_train, eval_set=[(valid_x, valid_y)], early_stopping_rounds = 100, callbacks = [pruning_callback])\n",
        "    \n",
        "    pruning_callback.check_pruned()\n",
        "\n",
        "    return accuracy_score(catboost_model.predict(X_test), y_test).mean()"
      ]
    },
    {
      "cell_type": "code",
      "execution_count": null,
      "metadata": {
        "colab": {
          "background_save": true
        },
        "id": "RNLJAN-EhgUK"
      },
      "outputs": [],
      "source": [
        "study_catboost = optuna.create_study(pruner = optuna.pruners.MedianPruner(n_warmup_steps = 5), direction = 'maximize')\n",
        "func_catboost = lambda trial: objective_catboost(trial, X_train, y_train)\n",
        "study_catboost.optimize(func_catboost, n_trials = 100)"
      ]
    },
    {
      "cell_type": "code",
      "execution_count": null,
      "metadata": {
        "colab": {
          "background_save": true
        },
        "id": "dEwkh9NyhlEq"
      },
      "outputs": [],
      "source": [
        "optuna.visualization.plot_optimization_history(study_catboost)"
      ]
    },
    {
      "cell_type": "code",
      "execution_count": null,
      "metadata": {
        "colab": {
          "background_save": true
        },
        "id": "DigFeENChpjZ"
      },
      "outputs": [],
      "source": [
        "optuna.visualization.plot_param_importances(study_catboost)"
      ]
    },
    {
      "cell_type": "code",
      "execution_count": null,
      "metadata": {
        "colab": {
          "background_save": true
        },
        "id": "y6HkET_qhrAi"
      },
      "outputs": [],
      "source": [
        "study_catboost.best_params"
      ]
    },
    {
      "cell_type": "code",
      "execution_count": null,
      "metadata": {
        "colab": {
          "background_save": true
        },
        "id": "QqGbCv22hsci"
      },
      "outputs": [],
      "source": [
        "cv = KFold(n_splits = 5, shuffle = True)\n",
        " \n",
        "for idx, (train_idx, test_idx) in enumerate(cv.split(X, y)):\n",
        "    X_train, X_test = X.iloc[train_idx], X.iloc[test_idx]\n",
        "    y_train, y_test = y.iloc[train_idx], y.iloc[test_idx]\n",
        "\n",
        "    catboost = CatBoostClassifier(**study_catboost.best_params)\n",
        "\n",
        "    catboost_model = catboost.fit(X_train, y_train)   \n",
        "    \n",
        "print(accuracy_score(catboost_model.predict(X_test), y_test))"
      ]
    },
    {
      "cell_type": "code",
      "execution_count": null,
      "metadata": {
        "id": "5FnBknechuoK"
      },
      "outputs": [],
      "source": [
        "catboost_model.save_model('catboost_steps.json')"
      ]
    },
    {
      "cell_type": "code",
      "source": [
        "cm = confusion_matrix(catboost_model.predict(X_test), y_test)\n",
        "cm"
      ],
      "metadata": {
        "id": "A7PZ1SL9nr9n"
      },
      "execution_count": null,
      "outputs": []
    },
    {
      "cell_type": "code",
      "source": [
        "catboost_model.classes_"
      ],
      "metadata": {
        "id": "XIY2tvJbnsAH"
      },
      "execution_count": null,
      "outputs": []
    },
    {
      "cell_type": "code",
      "source": [
        "disp = ConfusionMatrixDisplay(confusion_matrix = cm, display_labels = ['No activity', 'Walk', 'Run'])\n",
        "disp.plot()\n",
        "plt.show()"
      ],
      "metadata": {
        "id": "q1AoewPCn_rD"
      },
      "execution_count": null,
      "outputs": []
    }
  ],
  "metadata": {
    "colab": {
      "provenance": []
    },
    "kernelspec": {
      "display_name": "Python 3",
      "name": "python3"
    },
    "language_info": {
      "name": "python"
    }
  },
  "nbformat": 4,
  "nbformat_minor": 0
}