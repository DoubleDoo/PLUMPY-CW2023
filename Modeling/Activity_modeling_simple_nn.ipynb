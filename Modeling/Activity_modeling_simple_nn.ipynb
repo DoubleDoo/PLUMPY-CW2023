{
  "nbformat": 4,
  "nbformat_minor": 0,
  "metadata": {
    "colab": {
      "provenance": [],
      "machine_shape": "hm",
      "gpuType": "A100"
    },
    "kernelspec": {
      "name": "python3",
      "display_name": "Python 3"
    },
    "language_info": {
      "name": "python"
    },
    "accelerator": "GPU"
  },
  "cells": [
    {
      "cell_type": "code",
      "source": [
        "import numpy as np\n",
        "import pandas as pd\n",
        "import matplotlib.pyplot as plt\n",
        "\n",
        "from sklearn.model_selection import train_test_split, KFold\n",
        "from sklearn.metrics import accuracy_score, balanced_accuracy_score, confusion_matrix, ConfusionMatrixDisplay, f1_score, roc_auc_score, matthews_corrcoef\n",
        "\n",
        "import torch\n",
        "import torch.nn as nn\n",
        "from tqdm import tqdm\n",
        "import torch.optim as optim\n",
        "from torch.utils.data import Dataset, DataLoader\n",
        "from torchsummary import summary"
      ],
      "metadata": {
        "id": "t-tOzoJaSkE-"
      },
      "execution_count": 1,
      "outputs": []
    },
    {
      "cell_type": "code",
      "source": [
        "df = pd.read_csv('sample_data/final_df_activity_v2.csv')\n",
        "df"
      ],
      "metadata": {
        "colab": {
          "base_uri": "https://localhost:8080/",
          "height": 424
        },
        "id": "WE3BBx2bSksU",
        "outputId": "dafb814b-f466-4f79-9ea3-f1aac53947d3"
      },
      "execution_count": 2,
      "outputs": [
        {
          "output_type": "execute_result",
          "data": {
            "text/plain": [
              "       gyro_x  gyro_y  gyro_z  acceleration_x  acceleration_y  acceleration_z  \\\n",
              "0         181   -3007    2892               5              -7              -2   \n",
              "1         185   -3010    2878               6              -7              -2   \n",
              "2         187   -3012    2892               6              -7              -2   \n",
              "3         186   -3009    2887               6              -7              -2   \n",
              "4         184   -3011    2888               6              -7              -2   \n",
              "...       ...     ...     ...             ...             ...             ...   \n",
              "52831   -4116   -1226     746            -174            -183              34   \n",
              "52832   -3750   -1417     789            -325             -36             -87   \n",
              "52833   -3811   -1375     806             311              90            -139   \n",
              "52834   -3775   -1227     902              19              34              62   \n",
              "52835   -3827   -1351     956              -6              23              50   \n",
              "\n",
              "       target  \n",
              "0           0  \n",
              "1           0  \n",
              "2           0  \n",
              "3           0  \n",
              "4           0  \n",
              "...       ...  \n",
              "52831       2  \n",
              "52832       2  \n",
              "52833       2  \n",
              "52834       2  \n",
              "52835       2  \n",
              "\n",
              "[52836 rows x 7 columns]"
            ],
            "text/html": [
              "\n",
              "  <div id=\"df-9f2ee07a-d6cf-443c-a7f2-2ac9d9d2c418\">\n",
              "    <div class=\"colab-df-container\">\n",
              "      <div>\n",
              "<style scoped>\n",
              "    .dataframe tbody tr th:only-of-type {\n",
              "        vertical-align: middle;\n",
              "    }\n",
              "\n",
              "    .dataframe tbody tr th {\n",
              "        vertical-align: top;\n",
              "    }\n",
              "\n",
              "    .dataframe thead th {\n",
              "        text-align: right;\n",
              "    }\n",
              "</style>\n",
              "<table border=\"1\" class=\"dataframe\">\n",
              "  <thead>\n",
              "    <tr style=\"text-align: right;\">\n",
              "      <th></th>\n",
              "      <th>gyro_x</th>\n",
              "      <th>gyro_y</th>\n",
              "      <th>gyro_z</th>\n",
              "      <th>acceleration_x</th>\n",
              "      <th>acceleration_y</th>\n",
              "      <th>acceleration_z</th>\n",
              "      <th>target</th>\n",
              "    </tr>\n",
              "  </thead>\n",
              "  <tbody>\n",
              "    <tr>\n",
              "      <th>0</th>\n",
              "      <td>181</td>\n",
              "      <td>-3007</td>\n",
              "      <td>2892</td>\n",
              "      <td>5</td>\n",
              "      <td>-7</td>\n",
              "      <td>-2</td>\n",
              "      <td>0</td>\n",
              "    </tr>\n",
              "    <tr>\n",
              "      <th>1</th>\n",
              "      <td>185</td>\n",
              "      <td>-3010</td>\n",
              "      <td>2878</td>\n",
              "      <td>6</td>\n",
              "      <td>-7</td>\n",
              "      <td>-2</td>\n",
              "      <td>0</td>\n",
              "    </tr>\n",
              "    <tr>\n",
              "      <th>2</th>\n",
              "      <td>187</td>\n",
              "      <td>-3012</td>\n",
              "      <td>2892</td>\n",
              "      <td>6</td>\n",
              "      <td>-7</td>\n",
              "      <td>-2</td>\n",
              "      <td>0</td>\n",
              "    </tr>\n",
              "    <tr>\n",
              "      <th>3</th>\n",
              "      <td>186</td>\n",
              "      <td>-3009</td>\n",
              "      <td>2887</td>\n",
              "      <td>6</td>\n",
              "      <td>-7</td>\n",
              "      <td>-2</td>\n",
              "      <td>0</td>\n",
              "    </tr>\n",
              "    <tr>\n",
              "      <th>4</th>\n",
              "      <td>184</td>\n",
              "      <td>-3011</td>\n",
              "      <td>2888</td>\n",
              "      <td>6</td>\n",
              "      <td>-7</td>\n",
              "      <td>-2</td>\n",
              "      <td>0</td>\n",
              "    </tr>\n",
              "    <tr>\n",
              "      <th>...</th>\n",
              "      <td>...</td>\n",
              "      <td>...</td>\n",
              "      <td>...</td>\n",
              "      <td>...</td>\n",
              "      <td>...</td>\n",
              "      <td>...</td>\n",
              "      <td>...</td>\n",
              "    </tr>\n",
              "    <tr>\n",
              "      <th>52831</th>\n",
              "      <td>-4116</td>\n",
              "      <td>-1226</td>\n",
              "      <td>746</td>\n",
              "      <td>-174</td>\n",
              "      <td>-183</td>\n",
              "      <td>34</td>\n",
              "      <td>2</td>\n",
              "    </tr>\n",
              "    <tr>\n",
              "      <th>52832</th>\n",
              "      <td>-3750</td>\n",
              "      <td>-1417</td>\n",
              "      <td>789</td>\n",
              "      <td>-325</td>\n",
              "      <td>-36</td>\n",
              "      <td>-87</td>\n",
              "      <td>2</td>\n",
              "    </tr>\n",
              "    <tr>\n",
              "      <th>52833</th>\n",
              "      <td>-3811</td>\n",
              "      <td>-1375</td>\n",
              "      <td>806</td>\n",
              "      <td>311</td>\n",
              "      <td>90</td>\n",
              "      <td>-139</td>\n",
              "      <td>2</td>\n",
              "    </tr>\n",
              "    <tr>\n",
              "      <th>52834</th>\n",
              "      <td>-3775</td>\n",
              "      <td>-1227</td>\n",
              "      <td>902</td>\n",
              "      <td>19</td>\n",
              "      <td>34</td>\n",
              "      <td>62</td>\n",
              "      <td>2</td>\n",
              "    </tr>\n",
              "    <tr>\n",
              "      <th>52835</th>\n",
              "      <td>-3827</td>\n",
              "      <td>-1351</td>\n",
              "      <td>956</td>\n",
              "      <td>-6</td>\n",
              "      <td>23</td>\n",
              "      <td>50</td>\n",
              "      <td>2</td>\n",
              "    </tr>\n",
              "  </tbody>\n",
              "</table>\n",
              "<p>52836 rows × 7 columns</p>\n",
              "</div>\n",
              "      <button class=\"colab-df-convert\" onclick=\"convertToInteractive('df-9f2ee07a-d6cf-443c-a7f2-2ac9d9d2c418')\"\n",
              "              title=\"Convert this dataframe to an interactive table.\"\n",
              "              style=\"display:none;\">\n",
              "        \n",
              "  <svg xmlns=\"http://www.w3.org/2000/svg\" height=\"24px\"viewBox=\"0 0 24 24\"\n",
              "       width=\"24px\">\n",
              "    <path d=\"M0 0h24v24H0V0z\" fill=\"none\"/>\n",
              "    <path d=\"M18.56 5.44l.94 2.06.94-2.06 2.06-.94-2.06-.94-.94-2.06-.94 2.06-2.06.94zm-11 1L8.5 8.5l.94-2.06 2.06-.94-2.06-.94L8.5 2.5l-.94 2.06-2.06.94zm10 10l.94 2.06.94-2.06 2.06-.94-2.06-.94-.94-2.06-.94 2.06-2.06.94z\"/><path d=\"M17.41 7.96l-1.37-1.37c-.4-.4-.92-.59-1.43-.59-.52 0-1.04.2-1.43.59L10.3 9.45l-7.72 7.72c-.78.78-.78 2.05 0 2.83L4 21.41c.39.39.9.59 1.41.59.51 0 1.02-.2 1.41-.59l7.78-7.78 2.81-2.81c.8-.78.8-2.07 0-2.86zM5.41 20L4 18.59l7.72-7.72 1.47 1.35L5.41 20z\"/>\n",
              "  </svg>\n",
              "      </button>\n",
              "      \n",
              "  <style>\n",
              "    .colab-df-container {\n",
              "      display:flex;\n",
              "      flex-wrap:wrap;\n",
              "      gap: 12px;\n",
              "    }\n",
              "\n",
              "    .colab-df-convert {\n",
              "      background-color: #E8F0FE;\n",
              "      border: none;\n",
              "      border-radius: 50%;\n",
              "      cursor: pointer;\n",
              "      display: none;\n",
              "      fill: #1967D2;\n",
              "      height: 32px;\n",
              "      padding: 0 0 0 0;\n",
              "      width: 32px;\n",
              "    }\n",
              "\n",
              "    .colab-df-convert:hover {\n",
              "      background-color: #E2EBFA;\n",
              "      box-shadow: 0px 1px 2px rgba(60, 64, 67, 0.3), 0px 1px 3px 1px rgba(60, 64, 67, 0.15);\n",
              "      fill: #174EA6;\n",
              "    }\n",
              "\n",
              "    [theme=dark] .colab-df-convert {\n",
              "      background-color: #3B4455;\n",
              "      fill: #D2E3FC;\n",
              "    }\n",
              "\n",
              "    [theme=dark] .colab-df-convert:hover {\n",
              "      background-color: #434B5C;\n",
              "      box-shadow: 0px 1px 3px 1px rgba(0, 0, 0, 0.15);\n",
              "      filter: drop-shadow(0px 1px 2px rgba(0, 0, 0, 0.3));\n",
              "      fill: #FFFFFF;\n",
              "    }\n",
              "  </style>\n",
              "\n",
              "      <script>\n",
              "        const buttonEl =\n",
              "          document.querySelector('#df-9f2ee07a-d6cf-443c-a7f2-2ac9d9d2c418 button.colab-df-convert');\n",
              "        buttonEl.style.display =\n",
              "          google.colab.kernel.accessAllowed ? 'block' : 'none';\n",
              "\n",
              "        async function convertToInteractive(key) {\n",
              "          const element = document.querySelector('#df-9f2ee07a-d6cf-443c-a7f2-2ac9d9d2c418');\n",
              "          const dataTable =\n",
              "            await google.colab.kernel.invokeFunction('convertToInteractive',\n",
              "                                                     [key], {});\n",
              "          if (!dataTable) return;\n",
              "\n",
              "          const docLinkHtml = 'Like what you see? Visit the ' +\n",
              "            '<a target=\"_blank\" href=https://colab.research.google.com/notebooks/data_table.ipynb>data table notebook</a>'\n",
              "            + ' to learn more about interactive tables.';\n",
              "          element.innerHTML = '';\n",
              "          dataTable['output_type'] = 'display_data';\n",
              "          await google.colab.output.renderOutput(dataTable, element);\n",
              "          const docLink = document.createElement('div');\n",
              "          docLink.innerHTML = docLinkHtml;\n",
              "          element.appendChild(docLink);\n",
              "        }\n",
              "      </script>\n",
              "    </div>\n",
              "  </div>\n",
              "  "
            ]
          },
          "metadata": {},
          "execution_count": 2
        }
      ]
    },
    {
      "cell_type": "code",
      "source": [
        "X = df.drop(columns = ['target'])\n",
        "y = df['target']"
      ],
      "metadata": {
        "id": "2tPFKzkWSkyB"
      },
      "execution_count": 3,
      "outputs": []
    },
    {
      "cell_type": "code",
      "source": [
        "X_train, X_test, y_train, y_test = train_test_split(X, \n",
        "                                                    y, \n",
        "                                                    test_size = 0.3, \n",
        "                                                    random_state = 42, \n",
        "                                                    shuffle = True)"
      ],
      "metadata": {
        "id": "mnsuTWYfSk1A"
      },
      "execution_count": 4,
      "outputs": []
    },
    {
      "cell_type": "code",
      "source": [
        "device = torch.device('cuda' if torch.cuda.is_available() else 'cpu')\n",
        "device"
      ],
      "metadata": {
        "colab": {
          "base_uri": "https://localhost:8080/"
        },
        "id": "3L8n3zrfSk39",
        "outputId": "1ba4fc01-a84f-49f7-f8cb-742c95fe926a"
      },
      "execution_count": 5,
      "outputs": [
        {
          "output_type": "execute_result",
          "data": {
            "text/plain": [
              "device(type='cuda')"
            ]
          },
          "metadata": {},
          "execution_count": 5
        }
      ]
    },
    {
      "cell_type": "code",
      "source": [
        "class Data(Dataset):\n",
        "  def __init__(self, X_train, y_train):\n",
        "    self.X = torch.from_numpy(X_train.astype(np.float32))\n",
        "    self.y = torch.from_numpy(y_train).type(torch.LongTensor)\n",
        "    self.len = self.X.shape[0]\n",
        "  \n",
        "  def __getitem__(self, index):\n",
        "    return self.X[index], self.y[index]\n",
        "    \n",
        "  def __len__(self):\n",
        "    return self.len"
      ],
      "metadata": {
        "id": "vXT-MfHvSk6e"
      },
      "execution_count": 6,
      "outputs": []
    },
    {
      "cell_type": "code",
      "source": [
        "BATCH_SIZE = 64\n",
        "INPUT_DIM = 6\n",
        "HIDDEN_LAYERS = 25\n",
        "OUTPUT_DIM = 3"
      ],
      "metadata": {
        "id": "GIo_1h3uULAE"
      },
      "execution_count": 7,
      "outputs": []
    },
    {
      "cell_type": "code",
      "source": [
        "train_data = Data(X_train.to_numpy(), y_train.to_numpy())\n",
        "test_data = Data(X_test.to_numpy(), y_test.to_numpy())\n",
        "\n",
        "train_loader = DataLoader(train_data, batch_size = BATCH_SIZE, shuffle = True, num_workers = 2)\n",
        "test_loader = DataLoader(test_data, batch_size = BATCH_SIZE, shuffle = True, num_workers = 2)"
      ],
      "metadata": {
        "id": "g0qWGOUwTd0F"
      },
      "execution_count": 8,
      "outputs": []
    },
    {
      "cell_type": "code",
      "source": [
        "class NN(nn.Module):\n",
        "  def __init__(self):\n",
        "    super(NN, self).__init__()\n",
        "    self.linear1 = nn.Linear(INPUT_DIM, HIDDEN_LAYERS)\n",
        "    self.linear2 = nn.Linear(HIDDEN_LAYERS, HIDDEN_LAYERS * 2)\n",
        "    self.dropout = nn.Dropout(0.2)\n",
        "    self.linear3 = nn.Linear(HIDDEN_LAYERS * 2, HIDDEN_LAYERS)\n",
        "    self.linear4 = nn.Linear(HIDDEN_LAYERS, OUTPUT_DIM)\n",
        "    self.dropout = nn.Dropout(0.2)\n",
        "\n",
        "  def forward(self, x):\n",
        "    x = torch.relu(self.linear1(x))\n",
        "    x = torch.relu(self.linear2(x))\n",
        "    x = self.dropout(x)\n",
        "    x = torch.relu(self.linear3(x))\n",
        "    x = self.linear4(x)\n",
        "    return x"
      ],
      "metadata": {
        "id": "S9oudAowTd9L"
      },
      "execution_count": 9,
      "outputs": []
    },
    {
      "cell_type": "code",
      "source": [
        "NN = NN().to(device)\n",
        "summary(NN, (1, 6))"
      ],
      "metadata": {
        "colab": {
          "base_uri": "https://localhost:8080/"
        },
        "id": "xYDit7E0Tlug",
        "outputId": "496671e0-9830-4de1-fc6a-f1ef83081a71"
      },
      "execution_count": 10,
      "outputs": [
        {
          "output_type": "stream",
          "name": "stdout",
          "text": [
            "----------------------------------------------------------------\n",
            "        Layer (type)               Output Shape         Param #\n",
            "================================================================\n",
            "            Linear-1                [-1, 1, 25]             175\n",
            "            Linear-2                [-1, 1, 50]           1,300\n",
            "           Dropout-3                [-1, 1, 50]               0\n",
            "            Linear-4                [-1, 1, 25]           1,275\n",
            "            Linear-5                 [-1, 1, 3]              78\n",
            "================================================================\n",
            "Total params: 2,828\n",
            "Trainable params: 2,828\n",
            "Non-trainable params: 0\n",
            "----------------------------------------------------------------\n",
            "Input size (MB): 0.00\n",
            "Forward/backward pass size (MB): 0.00\n",
            "Params size (MB): 0.01\n",
            "Estimated Total Size (MB): 0.01\n",
            "----------------------------------------------------------------\n"
          ]
        }
      ]
    },
    {
      "cell_type": "code",
      "source": [
        "print(NN)"
      ],
      "metadata": {
        "colab": {
          "base_uri": "https://localhost:8080/"
        },
        "id": "bO2eeY7nBBCd",
        "outputId": "350a0307-b7d4-4981-d185-e3d94c6d7d03"
      },
      "execution_count": 11,
      "outputs": [
        {
          "output_type": "stream",
          "name": "stdout",
          "text": [
            "NN(\n",
            "  (linear1): Linear(in_features=6, out_features=25, bias=True)\n",
            "  (linear2): Linear(in_features=25, out_features=50, bias=True)\n",
            "  (dropout): Dropout(p=0.2, inplace=False)\n",
            "  (linear3): Linear(in_features=50, out_features=25, bias=True)\n",
            "  (linear4): Linear(in_features=25, out_features=3, bias=True)\n",
            ")\n"
          ]
        }
      ]
    },
    {
      "cell_type": "code",
      "source": [
        "criterion = nn.CrossEntropyLoss()\n",
        "optimizer = torch.optim.Adam(NN.parameters(), lr = 0.001)"
      ],
      "metadata": {
        "id": "nzIftUUxTlxa"
      },
      "execution_count": 12,
      "outputs": []
    },
    {
      "cell_type": "code",
      "source": [
        "NUM_EPOCHS = 20\n",
        "\n",
        "for epoch in range(NUM_EPOCHS):\n",
        "  loop = tqdm(train_loader)\n",
        "  for batch, (X, y) in enumerate(loop):\n",
        "    X, y = X.to(device), y.to(device)\n",
        "\n",
        "    pred = NN(X)\n",
        "\n",
        "    loss = criterion(pred, y)\n",
        "\n",
        "    optimizer.zero_grad()\n",
        "    loss.backward()\n",
        "    optimizer.step()\n",
        "    \n",
        "    loop.set_description(f\"Epoch [{epoch}/{NUM_EPOCHS}]\")\n",
        "    loop.set_postfix(loss = loss.item())"
      ],
      "metadata": {
        "id": "PFg_JVvsTl0S",
        "colab": {
          "base_uri": "https://localhost:8080/"
        },
        "outputId": "ba622ba9-c35f-4ae5-ce2c-e277e604f8a7"
      },
      "execution_count": 13,
      "outputs": [
        {
          "output_type": "stream",
          "name": "stderr",
          "text": [
            "Epoch [0/20]: 100%|██████████| 578/578 [00:03<00:00, 160.84it/s, loss=0.447]\n",
            "Epoch [1/20]: 100%|██████████| 578/578 [00:03<00:00, 150.28it/s, loss=0.323]\n",
            "Epoch [2/20]: 100%|██████████| 578/578 [00:03<00:00, 171.19it/s, loss=0.366]\n",
            "Epoch [3/20]: 100%|██████████| 578/578 [00:03<00:00, 179.88it/s, loss=0.432]\n",
            "Epoch [4/20]: 100%|██████████| 578/578 [00:03<00:00, 175.01it/s, loss=0.342]\n",
            "Epoch [5/20]: 100%|██████████| 578/578 [00:03<00:00, 178.75it/s, loss=0.558]\n",
            "Epoch [6/20]: 100%|██████████| 578/578 [00:03<00:00, 175.58it/s, loss=0.311]\n",
            "Epoch [7/20]: 100%|██████████| 578/578 [00:03<00:00, 172.06it/s, loss=0.382]\n",
            "Epoch [8/20]: 100%|██████████| 578/578 [00:03<00:00, 178.23it/s, loss=0.31]\n",
            "Epoch [9/20]: 100%|██████████| 578/578 [00:03<00:00, 172.97it/s, loss=0.539]\n",
            "Epoch [10/20]: 100%|██████████| 578/578 [00:03<00:00, 174.83it/s, loss=0.311]\n",
            "Epoch [11/20]: 100%|██████████| 578/578 [00:03<00:00, 172.72it/s, loss=0.147]\n",
            "Epoch [12/20]: 100%|██████████| 578/578 [00:03<00:00, 175.96it/s, loss=0.274]\n",
            "Epoch [13/20]: 100%|██████████| 578/578 [00:03<00:00, 176.80it/s, loss=0.397]\n",
            "Epoch [14/20]: 100%|██████████| 578/578 [00:03<00:00, 174.65it/s, loss=0.343]\n",
            "Epoch [15/20]: 100%|██████████| 578/578 [00:03<00:00, 175.64it/s, loss=0.24]\n",
            "Epoch [16/20]: 100%|██████████| 578/578 [00:03<00:00, 175.76it/s, loss=0.122]\n",
            "Epoch [17/20]: 100%|██████████| 578/578 [00:03<00:00, 176.96it/s, loss=0.261]\n",
            "Epoch [18/20]: 100%|██████████| 578/578 [00:03<00:00, 171.96it/s, loss=0.635]\n",
            "Epoch [19/20]: 100%|██████████| 578/578 [00:03<00:00, 175.53it/s, loss=0.255]\n"
          ]
        }
      ]
    },
    {
      "cell_type": "code",
      "source": [
        "correct, total = 0, 0\n",
        "list_pred, list_true = [], []\n",
        "\n",
        "with torch.no_grad():\n",
        "  for (X, y) in test_loader:\n",
        "    X, y = X.to(device), y.to(device)\n",
        "\n",
        "    output = NN(X)\n",
        "    pred = output.argmax(dim = 1, keepdim = True)\n",
        "    list_pred.append(pred.cpu().numpy())\n",
        "    list_true.append(y.cpu().numpy())\n",
        "    correct += pred.eq(y.view_as(pred)).sum().item()\n",
        "accuracy = correct / len(test_loader.dataset)\n",
        "print(f'Accuracy: {accuracy:>0.4f} %')"
      ],
      "metadata": {
        "colab": {
          "base_uri": "https://localhost:8080/"
        },
        "id": "OkFP4espTl6H",
        "outputId": "673ca281-77c1-4b9a-a33e-8cd1ce5e2ea6"
      },
      "execution_count": 14,
      "outputs": [
        {
          "output_type": "stream",
          "name": "stdout",
          "text": [
            "Accuracy: 0.8896 %\n"
          ]
        }
      ]
    },
    {
      "cell_type": "code",
      "source": [
        "list_pred = np.concatenate(list_pred)\n",
        "list_pred = np.hstack(list_pred).tolist()\n",
        "list_true = np.concatenate(list_true)\n",
        "list_true = np.hstack(list_true).tolist()\n",
        "cm = confusion_matrix(list_pred, list_true)\n",
        "cm"
      ],
      "metadata": {
        "colab": {
          "base_uri": "https://localhost:8080/"
        },
        "id": "6OLg0d6nV-Jg",
        "outputId": "4a44b082-9499-43a1-e667-20bdbb8fd4d0"
      },
      "execution_count": 15,
      "outputs": [
        {
          "output_type": "execute_result",
          "data": {
            "text/plain": [
              "array([[4336,  176,  388],\n",
              "       [ 397, 5183,  286],\n",
              "       [ 381,  122, 4582]])"
            ]
          },
          "metadata": {},
          "execution_count": 15
        }
      ]
    },
    {
      "cell_type": "code",
      "source": [
        "nn_AS_test = accuracy_score(list_pred, list_true)\n",
        "nn_BAS_test = balanced_accuracy_score(list_pred, list_true)\n",
        "nn_f1_weighted_test = f1_score(list_pred, list_true, average = 'weighted')\n",
        "nn_mcc_test = matthews_corrcoef(list_pred, list_true)\n",
        "\n",
        "nn_test_scores_dict = {'Accuracy' : nn_AS_test,\n",
        "                       'Balanced accuracy' : nn_BAS_test,\n",
        "                       'F1 score' : nn_f1_weighted_test,\n",
        "                       'Matthews correlation coefficient' : nn_mcc_test}\n",
        "\n",
        "nn_test_scores_df = pd.DataFrame.from_dict(nn_test_scores_dict, orient = 'index', columns = ['Scores'])\n",
        "\n",
        "nn_test_scores_df"
      ],
      "metadata": {
        "colab": {
          "base_uri": "https://localhost:8080/",
          "height": 175
        },
        "id": "Jsw1QEF3_u8y",
        "outputId": "078a0f02-7b9d-4144-c13c-6cd451bbd33e"
      },
      "execution_count": 16,
      "outputs": [
        {
          "output_type": "execute_result",
          "data": {
            "text/plain": [
              "                                    Scores\n",
              "Accuracy                          0.889597\n",
              "Balanced accuracy                 0.889849\n",
              "F1 score                          0.890066\n",
              "Matthews correlation coefficient  0.834769"
            ],
            "text/html": [
              "\n",
              "  <div id=\"df-626565fb-017a-4f49-bbba-74b85427fcf2\">\n",
              "    <div class=\"colab-df-container\">\n",
              "      <div>\n",
              "<style scoped>\n",
              "    .dataframe tbody tr th:only-of-type {\n",
              "        vertical-align: middle;\n",
              "    }\n",
              "\n",
              "    .dataframe tbody tr th {\n",
              "        vertical-align: top;\n",
              "    }\n",
              "\n",
              "    .dataframe thead th {\n",
              "        text-align: right;\n",
              "    }\n",
              "</style>\n",
              "<table border=\"1\" class=\"dataframe\">\n",
              "  <thead>\n",
              "    <tr style=\"text-align: right;\">\n",
              "      <th></th>\n",
              "      <th>Scores</th>\n",
              "    </tr>\n",
              "  </thead>\n",
              "  <tbody>\n",
              "    <tr>\n",
              "      <th>Accuracy</th>\n",
              "      <td>0.889597</td>\n",
              "    </tr>\n",
              "    <tr>\n",
              "      <th>Balanced accuracy</th>\n",
              "      <td>0.889849</td>\n",
              "    </tr>\n",
              "    <tr>\n",
              "      <th>F1 score</th>\n",
              "      <td>0.890066</td>\n",
              "    </tr>\n",
              "    <tr>\n",
              "      <th>Matthews correlation coefficient</th>\n",
              "      <td>0.834769</td>\n",
              "    </tr>\n",
              "  </tbody>\n",
              "</table>\n",
              "</div>\n",
              "      <button class=\"colab-df-convert\" onclick=\"convertToInteractive('df-626565fb-017a-4f49-bbba-74b85427fcf2')\"\n",
              "              title=\"Convert this dataframe to an interactive table.\"\n",
              "              style=\"display:none;\">\n",
              "        \n",
              "  <svg xmlns=\"http://www.w3.org/2000/svg\" height=\"24px\"viewBox=\"0 0 24 24\"\n",
              "       width=\"24px\">\n",
              "    <path d=\"M0 0h24v24H0V0z\" fill=\"none\"/>\n",
              "    <path d=\"M18.56 5.44l.94 2.06.94-2.06 2.06-.94-2.06-.94-.94-2.06-.94 2.06-2.06.94zm-11 1L8.5 8.5l.94-2.06 2.06-.94-2.06-.94L8.5 2.5l-.94 2.06-2.06.94zm10 10l.94 2.06.94-2.06 2.06-.94-2.06-.94-.94-2.06-.94 2.06-2.06.94z\"/><path d=\"M17.41 7.96l-1.37-1.37c-.4-.4-.92-.59-1.43-.59-.52 0-1.04.2-1.43.59L10.3 9.45l-7.72 7.72c-.78.78-.78 2.05 0 2.83L4 21.41c.39.39.9.59 1.41.59.51 0 1.02-.2 1.41-.59l7.78-7.78 2.81-2.81c.8-.78.8-2.07 0-2.86zM5.41 20L4 18.59l7.72-7.72 1.47 1.35L5.41 20z\"/>\n",
              "  </svg>\n",
              "      </button>\n",
              "      \n",
              "  <style>\n",
              "    .colab-df-container {\n",
              "      display:flex;\n",
              "      flex-wrap:wrap;\n",
              "      gap: 12px;\n",
              "    }\n",
              "\n",
              "    .colab-df-convert {\n",
              "      background-color: #E8F0FE;\n",
              "      border: none;\n",
              "      border-radius: 50%;\n",
              "      cursor: pointer;\n",
              "      display: none;\n",
              "      fill: #1967D2;\n",
              "      height: 32px;\n",
              "      padding: 0 0 0 0;\n",
              "      width: 32px;\n",
              "    }\n",
              "\n",
              "    .colab-df-convert:hover {\n",
              "      background-color: #E2EBFA;\n",
              "      box-shadow: 0px 1px 2px rgba(60, 64, 67, 0.3), 0px 1px 3px 1px rgba(60, 64, 67, 0.15);\n",
              "      fill: #174EA6;\n",
              "    }\n",
              "\n",
              "    [theme=dark] .colab-df-convert {\n",
              "      background-color: #3B4455;\n",
              "      fill: #D2E3FC;\n",
              "    }\n",
              "\n",
              "    [theme=dark] .colab-df-convert:hover {\n",
              "      background-color: #434B5C;\n",
              "      box-shadow: 0px 1px 3px 1px rgba(0, 0, 0, 0.15);\n",
              "      filter: drop-shadow(0px 1px 2px rgba(0, 0, 0, 0.3));\n",
              "      fill: #FFFFFF;\n",
              "    }\n",
              "  </style>\n",
              "\n",
              "      <script>\n",
              "        const buttonEl =\n",
              "          document.querySelector('#df-626565fb-017a-4f49-bbba-74b85427fcf2 button.colab-df-convert');\n",
              "        buttonEl.style.display =\n",
              "          google.colab.kernel.accessAllowed ? 'block' : 'none';\n",
              "\n",
              "        async function convertToInteractive(key) {\n",
              "          const element = document.querySelector('#df-626565fb-017a-4f49-bbba-74b85427fcf2');\n",
              "          const dataTable =\n",
              "            await google.colab.kernel.invokeFunction('convertToInteractive',\n",
              "                                                     [key], {});\n",
              "          if (!dataTable) return;\n",
              "\n",
              "          const docLinkHtml = 'Like what you see? Visit the ' +\n",
              "            '<a target=\"_blank\" href=https://colab.research.google.com/notebooks/data_table.ipynb>data table notebook</a>'\n",
              "            + ' to learn more about interactive tables.';\n",
              "          element.innerHTML = '';\n",
              "          dataTable['output_type'] = 'display_data';\n",
              "          await google.colab.output.renderOutput(dataTable, element);\n",
              "          const docLink = document.createElement('div');\n",
              "          docLink.innerHTML = docLinkHtml;\n",
              "          element.appendChild(docLink);\n",
              "        }\n",
              "      </script>\n",
              "    </div>\n",
              "  </div>\n",
              "  "
            ]
          },
          "metadata": {},
          "execution_count": 16
        }
      ]
    },
    {
      "cell_type": "code",
      "source": [
        "disp = ConfusionMatrixDisplay(confusion_matrix = cm, display_labels = ['No activity', 'Walk', 'Run'])\n",
        "disp.plot()\n",
        "plt.show()"
      ],
      "metadata": {
        "colab": {
          "base_uri": "https://localhost:8080/",
          "height": 449
        },
        "id": "2Vz4GEma_2YV",
        "outputId": "6ac0ff85-8187-493d-a384-45c40cc1957c"
      },
      "execution_count": 17,
      "outputs": [
        {
          "output_type": "display_data",
          "data": {
            "text/plain": [
              "<Figure size 640x480 with 2 Axes>"
            ],
            "image/png": "[encoded data removed]"
          },
          "metadata": {}
        }
      ]
    }
  ]
}