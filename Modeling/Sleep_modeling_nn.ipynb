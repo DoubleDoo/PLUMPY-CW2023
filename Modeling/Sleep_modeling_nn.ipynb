{
  "nbformat": 4,
  "nbformat_minor": 0,
  "metadata": {
    "colab": {
      "provenance": [],
      "machine_shape": "hm",
      "gpuType": "A100"
    },
    "kernelspec": {
      "name": "python3",
      "display_name": "Python 3"
    },
    "language_info": {
      "name": "python"
    },
    "accelerator": "GPU"
  },
  "cells": [
    {
      "cell_type": "code",
      "execution_count": null,
      "metadata": {
        "id": "MxoBmSPfXaBi"
      },
      "outputs": [],
      "source": [
        "import numpy as np\n",
        "import pandas as pd\n",
        "import matplotlib.pyplot as plt\n",
        "import seaborn as sns\n",
        "\n",
        "from sklearn.model_selection import train_test_split, KFold\n",
        "from sklearn.metrics import accuracy_score, balanced_accuracy_score, confusion_matrix, ConfusionMatrixDisplay, f1_score, roc_auc_score, matthews_corrcoef\n",
        "\n",
        "import torch\n",
        "import torch.nn as nn\n",
        "from tqdm import tqdm\n",
        "import torch.optim as optim\n",
        "from torch.utils.data import Dataset, DataLoader\n",
        "from torchsummary import summary"
      ]
    },
    {
      "cell_type": "code",
      "source": [
        "df = pd.read_csv('sample_data/final_df_sleep_v0.csv')\n",
        "df"
      ],
      "metadata": {
        "id": "42YiVMg-Xa94"
      },
      "execution_count": null,
      "outputs": []
    },
    {
      "cell_type": "code",
      "source": [
        "df = df.drop(columns = ['time'])\n",
        "df"
      ],
      "metadata": {
        "id": "kn-7wNmDXbBR"
      },
      "execution_count": null,
      "outputs": []
    },
    {
      "cell_type": "code",
      "source": [
        "X = df.drop(columns = ['target'])\n",
        "y = df['target']"
      ],
      "metadata": {
        "id": "k8elGTmDXbEf"
      },
      "execution_count": null,
      "outputs": []
    },
    {
      "cell_type": "code",
      "source": [
        "X_train, X_test, y_train, y_test = train_test_split(X, \n",
        "                                                    y, \n",
        "                                                    test_size = 0.3, \n",
        "                                                    random_state = 42, \n",
        "                                                    shuffle = True)"
      ],
      "metadata": {
        "id": "U8qRG2XAYOj9"
      },
      "execution_count": null,
      "outputs": []
    },
    {
      "cell_type": "code",
      "source": [
        "device = torch.device('cuda' if torch.cuda.is_available() else 'cpu')\n",
        "device"
      ],
      "metadata": {
        "id": "qmbRv4X9YOmh"
      },
      "execution_count": null,
      "outputs": []
    },
    {
      "cell_type": "code",
      "source": [
        "class Data(Dataset):\n",
        "  def __init__(self, X_train, y_train):\n",
        "    self.X = torch.from_numpy(X_train.astype(np.float32))\n",
        "    self.y = torch.from_numpy(y_train).type(torch.LongTensor)\n",
        "    self.len = self.X.shape[0]\n",
        "  \n",
        "  def __getitem__(self, index):\n",
        "    return self.X[index], self.y[index]\n",
        "    \n",
        "  def __len__(self):\n",
        "    return self.len"
      ],
      "metadata": {
        "id": "jLjUMLsxYOpV"
      },
      "execution_count": null,
      "outputs": []
    },
    {
      "cell_type": "code",
      "source": [
        "BATCH_SIZE = 64\n",
        "INPUT_DIM = 6\n",
        "HIDDEN_LAYERS = 25\n",
        "OUTPUT_DIM = 2"
      ],
      "metadata": {
        "id": "3681gmi8XbHP"
      },
      "execution_count": null,
      "outputs": []
    },
    {
      "cell_type": "code",
      "source": [
        "train_data = Data(X_train.to_numpy(), y_train.to_numpy())\n",
        "test_data = Data(X_test.to_numpy(), y_test.to_numpy())\n",
        "\n",
        "train_loader = DataLoader(train_data, batch_size = BATCH_SIZE, shuffle = True, num_workers = 2)\n",
        "test_loader = DataLoader(test_data, batch_size = BATCH_SIZE, shuffle = True, num_workers = 2)"
      ],
      "metadata": {
        "id": "As-OkmYoXbKl"
      },
      "execution_count": null,
      "outputs": []
    },
    {
      "cell_type": "code",
      "source": [
        "class NN(nn.Module):\n",
        "  def __init__(self):\n",
        "    super(NN, self).__init__()\n",
        "    self.linear1 = nn.Linear(INPUT_DIM, HIDDEN_LAYERS)\n",
        "    self.linear2 = nn.Linear(HIDDEN_LAYERS, HIDDEN_LAYERS * 2)\n",
        "    self.dropout = nn.Dropout(0.2)\n",
        "    self.linear3 = nn.Linear(HIDDEN_LAYERS * 2, HIDDEN_LAYERS)\n",
        "    self.linear4 = nn.Linear(HIDDEN_LAYERS, OUTPUT_DIM)\n",
        "    self.dropout = nn.Dropout(0.2)\n",
        "\n",
        "  def forward(self, x):\n",
        "    x = torch.relu(self.linear1(x))\n",
        "    x = torch.relu(self.linear2(x))\n",
        "    x = self.dropout(x)\n",
        "    x = torch.relu(self.linear3(x))\n",
        "    x = self.linear4(x)\n",
        "    return x"
      ],
      "metadata": {
        "id": "FWIc9SdRYWRL"
      },
      "execution_count": null,
      "outputs": []
    },
    {
      "cell_type": "code",
      "source": [
        "NN = NN().to(device)\n",
        "summary(NN, (1, 6))"
      ],
      "metadata": {
        "id": "Zz4znM-OYWUJ"
      },
      "execution_count": null,
      "outputs": []
    },
    {
      "cell_type": "code",
      "source": [
        "criterion = nn.CrossEntropyLoss()\n",
        "optimizer = torch.optim.Adam(NN.parameters(), lr = 0.001)"
      ],
      "metadata": {
        "id": "PLDLIjDgYWXc"
      },
      "execution_count": null,
      "outputs": []
    },
    {
      "cell_type": "code",
      "source": [
        "NUM_EPOCHS = 20\n",
        "\n",
        "for epoch in range(NUM_EPOCHS):\n",
        "  loop = tqdm(train_loader)\n",
        "  for batch, (X, y) in enumerate(loop):\n",
        "    X, y = X.to(device), y.to(device)\n",
        "\n",
        "    pred = NN(X)\n",
        "\n",
        "    loss = criterion(pred, y)\n",
        "\n",
        "    optimizer.zero_grad()\n",
        "    loss.backward()\n",
        "    optimizer.step()\n",
        "\n",
        "    loop.set_description(f\"Epoch [{epoch}/{NUM_EPOCHS}]\")"
      ],
      "metadata": {
        "id": "NIkvouUQYc6-"
      },
      "execution_count": null,
      "outputs": []
    },
    {
      "cell_type": "code",
      "source": [
        "correct, total = 0, 0\n",
        "list_pred, list_true = [], []\n",
        "\n",
        "with torch.no_grad():\n",
        "  for (X, y) in test_loader:\n",
        "    X, y = X.to(device), y.to(device)\n",
        "\n",
        "    output = NN(X)\n",
        "    pred = output.argmax(dim = 1, keepdim = True)\n",
        "    list_pred.append(pred.cpu().numpy())\n",
        "    list_true.append(y.cpu().numpy())\n",
        "    correct += pred.eq(y.view_as(pred)).sum().item()\n",
        "accuracy = correct / len(test_loader.dataset)\n",
        "print(f'Accuracy: {accuracy:>0.4f} %')"
      ],
      "metadata": {
        "id": "VIn56uMYYc9u"
      },
      "execution_count": null,
      "outputs": []
    },
    {
      "cell_type": "code",
      "source": [
        "list_pred = np.concatenate(list_pred)\n",
        "list_pred = np.hstack(list_pred).tolist()\n",
        "list_true = np.concatenate(list_true)\n",
        "list_true = np.hstack(list_true).tolist()\n",
        "cm = confusion_matrix(list_pred, list_true)\n",
        "cm"
      ],
      "metadata": {
        "id": "WJ6Wks2NYdAf"
      },
      "execution_count": null,
      "outputs": []
    },
    {
      "cell_type": "code",
      "source": [
        "nn_AS_test = accuracy_score(list_pred, list_true)\n",
        "nn_BAS_test = balanced_accuracy_score(list_pred, list_true)\n",
        "nn_f1_weighted_test = f1_score(list_pred, list_true, average = 'weighted')\n",
        "catboost_roc_auc_score_test = roc_auc_score(list_pred, list_true)\n",
        "nn_mcc_test = matthews_corrcoef(list_pred, list_true)\n",
        "\n",
        "nn_test_scores_dict = {'Accuracy' : nn_AS_test,\n",
        "                       'Balanced accuracy' : nn_BAS_test,\n",
        "                       'F1 score' : nn_f1_weighted_test,\n",
        "                       'ROC auc score' : catboost_roc_auc_score_test,\n",
        "                       'Matthews correlation coefficient' : nn_mcc_test}\n",
        "\n",
        "nn_test_scores_df = pd.DataFrame.from_dict(nn_test_scores_dict, orient = 'index', columns = ['Scores'])\n",
        "\n",
        "nn_test_scores_df"
      ],
      "metadata": {
        "id": "rCwT02elYdC6"
      },
      "execution_count": null,
      "outputs": []
    },
    {
      "cell_type": "code",
      "source": [
        "disp = ConfusionMatrixDisplay(confusion_matrix = cm, display_labels = ['Non-REM sleep', 'REM sleep'])\n",
        "disp.plot()\n",
        "plt.show()"
      ],
      "metadata": {
        "id": "d_ocs9DtXbNd"
      },
      "execution_count": null,
      "outputs": []
    },
    {
      "cell_type": "code",
      "source": [
        "torch.save(NN.state_dict(), './nn_sleep.pth')"
      ],
      "metadata": {
        "id": "xW8ZLa3iYwVW"
      },
      "execution_count": null,
      "outputs": []
    }
  ]
}