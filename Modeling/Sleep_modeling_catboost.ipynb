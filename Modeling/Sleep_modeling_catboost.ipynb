{
  "cells": [
    {
      "cell_type": "code",
      "execution_count": null,
      "metadata": {
        "id": "4VYBWBE4XuWL"
      },
      "outputs": [],
      "source": [
        "!pip install optuna"
      ]
    },
    {
      "cell_type": "code",
      "execution_count": null,
      "metadata": {
        "id": "uAB5NB_XX02G"
      },
      "outputs": [],
      "source": [
        "!pip install catboost"
      ]
    },
    {
      "cell_type": "code",
      "execution_count": null,
      "metadata": {
        "id": "MqZVk7ZUX05B"
      },
      "outputs": [],
      "source": [
        "import numpy as np\n",
        "import pandas as pd\n",
        "import seaborn as sns\n",
        "import matplotlib.pyplot as plt\n",
        "\n",
        "from sklearn.metrics import accuracy_score, balanced_accuracy_score, confusion_matrix, ConfusionMatrixDisplay, f1_score, roc_auc_score, matthews_corrcoef\n",
        "from sklearn.model_selection import train_test_split, KFold\n",
        "\n",
        "import optuna\n",
        "from optuna.integration import CatBoostPruningCallback\n",
        "\n",
        "from catboost import CatBoostClassifier"
      ]
    },
    {
      "cell_type": "code",
      "execution_count": null,
      "metadata": {
        "id": "ewK1gglwX08C"
      },
      "outputs": [],
      "source": [
        "df = pd.read_csv('sample_data/final_df_sleep_v0.csv')\n",
        "df"
      ]
    },
    {
      "cell_type": "code",
      "execution_count": null,
      "metadata": {
        "id": "MgFef2o2X0_F"
      },
      "outputs": [],
      "source": [
        "plt.figure(figsize = (20, 20))\n",
        "sns.heatmap(df.corr(), annot = True, cmap = 'viridis')"
      ]
    },
    {
      "cell_type": "code",
      "execution_count": null,
      "metadata": {
        "id": "oc6vYiIsX1CC"
      },
      "outputs": [],
      "source": [
        "df.isna().sum()"
      ]
    },
    {
      "cell_type": "code",
      "execution_count": null,
      "metadata": {
        "id": "NqRgRYPRX1FI"
      },
      "outputs": [],
      "source": [
        "df = df.drop(columns = ['time'])\n",
        "df"
      ]
    },
    {
      "cell_type": "code",
      "execution_count": null,
      "metadata": {
        "id": "wlFjKVT3X1Ie"
      },
      "outputs": [],
      "source": [
        "X = df.drop(columns = ['target'])\n",
        "y = df['target']"
      ]
    },
    {
      "cell_type": "markdown",
      "metadata": {
        "id": "dEZK_JzWZ_ng"
      },
      "source": [
        "#Catboost + optuna"
      ]
    },
    {
      "cell_type": "code",
      "execution_count": null,
      "metadata": {
        "id": "_JGDeKJhX1Ll"
      },
      "outputs": [],
      "source": [
        "X_train, X_test, y_train, y_test = train_test_split(X, \n",
        "                                                    y, \n",
        "                                                    test_size = 0.3, \n",
        "                                                    random_state = 42, \n",
        "                                                    shuffle = True)"
      ]
    },
    {
      "cell_type": "code",
      "execution_count": null,
      "metadata": {
        "id": "OzgUYt8sX1Oo"
      },
      "outputs": [],
      "source": [
        "def objective_catboost(trial, X, y):\n",
        "    train_x, valid_x, train_y, valid_y = train_test_split(X, y, test_size = 0.25)\n",
        "\n",
        "    param_grid_catboost = { 'learning_rate': trial.suggest_float('learning_rate', 0.01, 0.1),\n",
        "                            'colsample_bylevel': trial.suggest_float('colsample_bylevel', 0.01, 0.1, log = True),\n",
        "                            'boosting_type': trial.suggest_categorical('boosting_type', ['Ordered', 'Plain']),\n",
        "                            'bootstrap_type': trial.suggest_categorical('bootstrap_type', ['Bayesian', 'Bernoulli', 'MVS']),\n",
        "                            'iterations': trial.suggest_int('iterations', 100, 1200),\n",
        "                            'l2_leaf_reg': trial.suggest_float('l2_leaf_reg', 1e-5, 10, log = True),\n",
        "                            'border_count': trial.suggest_int('border_count', 32, 255),\n",
        "                            'random_strength': trial.suggest_float(\"random_strength\", 1e-8, 10.0, log = True),\n",
        "                            'od_type': trial.suggest_categorical('od_type', ['IncToDec', 'Iter']),\n",
        "                            'od_wait': trial.suggest_int('od_wait', 10, 50),\n",
        "                            'depth': trial.suggest_int('depth', 1, 12),\n",
        "                            'min_data_in_leaf': trial.suggest_int('min_data_in_leaf', 1, 30),\n",
        "                            'leaf_estimation_iterations': trial.suggest_int('leaf_estimation_iterations', 1, 15),\n",
        "                            'eval_metric': 'BalancedAccuracy',\n",
        "                            'task_type': 'CPU',\n",
        "                            'auto_class_weights' : 'Balanced'}\n",
        "\n",
        "    if param_grid_catboost['bootstrap_type'] == 'Bayesian':\n",
        "        param_grid_catboost['bagging_temperature'] = trial.suggest_float('bagging_temperature', 0, 10)\n",
        "    elif param_grid_catboost['bootstrap_type'] == 'Bernoulli':\n",
        "        param_grid_catboost['subsample'] = trial.suggest_float('subsample', 0.1, 1, log = True)\n",
        "    \n",
        "    pruning_callback = CatBoostPruningCallback(trial, 'BalancedAccuracy')\n",
        "\n",
        "    cv = KFold(n_splits = 5, shuffle = True, random_state = 42)\n",
        "    \n",
        "    for idx, (train_idx, test_idx) in enumerate(cv.split(train_x, train_y)):\n",
        "        X_train, X_test = X.iloc[train_idx], X.iloc[test_idx]\n",
        "        y_train, y_test = y.iloc[train_idx], y.iloc[test_idx]\n",
        "        \n",
        "        catboost_model = CatBoostClassifier(**param_grid_catboost)\n",
        "        \n",
        "        catboost_model.fit(X_train, y_train, eval_set=[(valid_x, valid_y)], early_stopping_rounds = 100, callbacks = [pruning_callback])\n",
        "    \n",
        "    pruning_callback.check_pruned()\n",
        "\n",
        "    return balanced_accuracy_score(catboost_model.predict(X_test), y_test).mean()"
      ]
    },
    {
      "cell_type": "code",
      "execution_count": null,
      "metadata": {
        "id": "OB2X24T3X1R8"
      },
      "outputs": [],
      "source": [
        "study_catboost = optuna.create_study(pruner = optuna.pruners.MedianPruner(n_warmup_steps = 5), direction = 'maximize')\n",
        "func_catboost = lambda trial: objective_catboost(trial, X_train, y_train)\n",
        "study_catboost.optimize(func_catboost, n_trials = 3)"
      ]
    },
    {
      "cell_type": "code",
      "execution_count": null,
      "metadata": {
        "id": "7WqfHSbJX1VF"
      },
      "outputs": [],
      "source": [
        "optuna.visualization.plot_optimization_history(study_catboost)"
      ]
    },
    {
      "cell_type": "code",
      "execution_count": null,
      "metadata": {
        "id": "4fYxs1SjcmaR"
      },
      "outputs": [],
      "source": [
        "optuna.visualization.plot_param_importances(study_catboost)"
      ]
    },
    {
      "cell_type": "code",
      "execution_count": null,
      "metadata": {
        "id": "SCPhdUhEX1au"
      },
      "outputs": [],
      "source": [
        "study_catboost.best_params"
      ]
    },
    {
      "cell_type": "code",
      "execution_count": null,
      "metadata": {
        "id": "KxeFM8Q1alsC"
      },
      "outputs": [],
      "source": [
        "cv = KFold(n_splits = 5, shuffle = True)\n",
        " \n",
        "for idx, (train_idx, test_idx) in enumerate(cv.split(X, y)):\n",
        "    X_train, X_test = X.iloc[train_idx], X.iloc[test_idx]\n",
        "    y_train, y_test = y.iloc[train_idx], y.iloc[test_idx]\n",
        "\n",
        "    catboost = CatBoostClassifier(**study_catboost.best_params)\n",
        "\n",
        "    catboost_model = catboost.fit(X_train, y_train)   \n",
        "    \n",
        "print(balanced_accuracy_score(catboost_model.predict(X_test), y_test))"
      ]
    },
    {
      "cell_type": "code",
      "source": [
        "catboost_preds_test = catboost_model.predict(X_test)\n",
        "\n",
        "catboost_AS_test = accuracy_score(catboost_preds_test, y_test)\n",
        "catboost_BAS_test = balanced_accuracy_score(catboost_preds_test, y_test)\n",
        "catboost_f1_weighted_test = f1_score(catboost_preds_test, y_test, average = 'weighted')\n",
        "catboost_roc_auc_score_test = roc_auc_score(catboost_preds_test, y_test)\n",
        "catboost_mcc_test = matthews_corrcoef(catboost_preds_test, y_test)\n",
        "\n",
        "catboost_test_scores_dict = {'Accuracy' : catboost_AS_test,\n",
        "                             'Balanced accuracy' : catboost_BAS_test,\n",
        "                             'F1 score' : catboost_f1_weighted_test,\n",
        "                             'ROC auc score' : catboost_roc_auc_score_test,\n",
        "                             'Matthews correlation coefficient' : catboost_mcc_test}\n",
        "\n",
        "catboost_test_scores_df = pd.DataFrame.from_dict(catboost_test_scores_dict, orient = 'index', columns = ['Scores'])\n",
        "\n",
        "catboost_test_scores_df"
      ],
      "metadata": {
        "id": "HaRFaPLBDQnQ"
      },
      "execution_count": null,
      "outputs": []
    },
    {
      "cell_type": "code",
      "execution_count": null,
      "metadata": {
        "id": "cgImWJ0talxx"
      },
      "outputs": [],
      "source": [
        "cm = confusion_matrix(catboost_model.predict(X_test), y_test)\n",
        "cm"
      ]
    },
    {
      "cell_type": "code",
      "execution_count": null,
      "metadata": {
        "id": "usk0LfgRal0T"
      },
      "outputs": [],
      "source": [
        "disp = ConfusionMatrixDisplay(confusion_matrix = cm, display_labels = ['Non-REM sleep', 'REM sleep'])\n",
        "disp.plot()\n",
        "plt.show()"
      ]
    },
    {
      "cell_type": "code",
      "source": [
        "catboost_model.save_model('catboost_sleep.json')"
      ],
      "metadata": {
        "id": "icFbHxH2NsiZ"
      },
      "execution_count": null,
      "outputs": []
    }
  ],
  "metadata": {
    "colab": {
      "provenance": []
    },
    "kernelspec": {
      "display_name": "Python 3",
      "name": "python3"
    },
    "language_info": {
      "name": "python"
    }
  },
  "nbformat": 4,
  "nbformat_minor": 0
}